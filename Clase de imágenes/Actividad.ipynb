{
 "cells": [
  {
   "cell_type": "markdown",
   "metadata": {},
   "source": [
    "## Actividades"
   ]
  },
  {
   "cell_type": "markdown",
   "metadata": {},
   "source": [
    "1.- Están trabajando con imágenes son de células humanas de cáncer de colon HT29, una línea celular que se ha utilizado ampliamente para el estudio de muchos procesos normales y neoplásicos. Su análisis siguió el patrón común de identificar y contar las células con un fenotipo de interés (en este caso, las células que estaban en mitosis) y luego normalizar el recuento dividiendo por el número total de células. Tales experimentos dependen de recuentos celulares precisos.\n",
    "\n",
    "El [conjunto de imágenes](https://bbbc.broadinstitute.org/BBBC001) consta de 6 campos de visión de la pantalla RNAi de Moffat et al. Las células de las seis imágenes se trataron con un reactivo de interferencia de ARN (Rock1_1885_k27). Las muestras se tiñeron con Hoechst 33342, pH3 y faloidina. Hoechst 33342 es una tinción de ADN que marca el núcleo. Solo se incluyen las imágenes del canal Hoechst 33342, ya que los otros canales no son útiles para contar células.\n",
    "\n",
    "Las imágenes fueron adquiridas en el Centro de Bioimagen Whitehead-MIT en un Cellomics ArrayScan. El tamaño de la imagen es de 512 × 512 píxeles. Las imágenes se proporcionan en formato DIB nativo y se convierten a archivos TIFF de 8 bits."
   ]
  },
  {
   "cell_type": "markdown",
   "metadata": {},
   "source": [
    ">**Para realizar este análisis lo primer que deben hacer es un recuento de los núcleos presentes en la imágenes.**"
   ]
  },
  {
   "cell_type": "markdown",
   "metadata": {},
   "source": [
    "2.- Estos experimentos presentan dos problemas de análisis de imágenes. Primero, identificar las células que tienen el fenotipo de interés lo cual requiere que los núcleos y las células estén segmentados. En segundo lugar, la normalización requiere un recuento de células preciso.\n",
    "\n",
    "El [segundo conjunto de imágenes](https://bbbc.broadinstitute.org/BBBC008) consta de 12 imágenes. Las muestras se tiñeron con Hoechst (canal 1), pH3 (canal 2) y faloidina (canal 3). Hoechst marca el ADN, que está presente en el núcleo. La faloidina marca la actina, que está presente en el citoplasma. La última tinción, pH3, indica células en mitosis; mientras que esto fue importante para la pantalla de Moffat et al., es irrelevante para la segmentación y el conteo, por lo que este canal se deja fuera."
   ]
  },
  {
   "cell_type": "markdown",
   "metadata": {},
   "source": [
    ">**En esta segunda parte del análisis es necesario usar el canal 3 para identificar y contar las células segmentadas y el canal 1 para hacer el recuento de núcleos totales para la normalización.**"
   ]
  }
 ],
 "metadata": {
  "kernelspec": {
   "display_name": "Python 3",
   "language": "python",
   "name": "python3"
  },
  "language_info": {
   "codemirror_mode": {
    "name": "ipython",
    "version": 3
   },
   "file_extension": ".py",
   "mimetype": "text/x-python",
   "name": "python",
   "nbconvert_exporter": "python",
   "pygments_lexer": "ipython3",
   "version": "3.8.10"
  }
 },
 "nbformat": 4,
 "nbformat_minor": 4
}
