{
 "cells": [
  {
   "cell_type": "markdown",
   "metadata": {},
   "source": [
    "# <center> Procesamiento de imágenes con Python"
   ]
  },
  {
   "cell_type": "markdown",
   "metadata": {},
   "source": [
    "# 1. Generar imágenes usando arreglos/matrices\n",
    "\n",
    "Generar imágenes con numpy y mostrarlas con imshow de matplotlib.pyplot\n"
   ]
  },
  {
   "cell_type": "markdown",
   "metadata": {},
   "source": [
    "## 1.1 Imágenes binarias y monocromas (arreglos 2D)\n",
    "### Ejemplos"
   ]
  },
  {
   "cell_type": "markdown",
   "metadata": {},
   "source": [
    "**Generar un recuadro negro (valores 0) de tamaño 192x192.**\n"
   ]
  },
  {
   "cell_type": "code",
   "execution_count": 25,
   "metadata": {},
   "outputs": [
    {
     "name": "stdout",
     "output_type": "stream",
     "text": [
      "(200, 200)\n"
     ]
    }
   ],
   "source": [
    "import numpy as np\n",
    "\n",
    "negro=np.zeros((200,200))\n",
    "\n",
    "print(negro.shape)"
   ]
  },
  {
   "cell_type": "markdown",
   "metadata": {},
   "source": [
    "#### Graficamos el arreglo generado con imshow de matplotlib "
   ]
  },
  {
   "cell_type": "code",
   "execution_count": 27,
   "metadata": {},
   "outputs": [
    {
     "data": {
      "image/png": "[encoded data removed]",
      "text/plain": [
       "<Figure size 432x288 with 1 Axes>"
      ]
     },
     "metadata": {
      "needs_background": "light"
     },
     "output_type": "display_data"
    }
   ],
   "source": [
    "import matplotlib.pyplot as plt\n",
    "\n",
    "plt.imshow(negro, cmap='gray')\n",
    "plt.show()"
   ]
  },
  {
   "cell_type": "markdown",
   "metadata": {},
   "source": [
    "**Generar una cruz (negra,  valores 0) con fondo blanco (valor 1) de tamaño 192x192. Utilizar la función concatenar**\n"
   ]
  },
  {
   "cell_type": "code",
   "execution_count": 3,
   "metadata": {},
   "outputs": [
    {
     "name": "stdout",
     "output_type": "stream",
     "text": [
      "(192, 192)\n"
     ]
    }
   ],
   "source": [
    "import numpy as np\n",
    "\n",
    "negro=np.zeros((64,64))\n",
    "blanco=negro+1\n",
    "\n",
    "arriba=np.concatenate((blanco,negro,blanco),axis=1)\n",
    "\n",
    "cruz=np.concatenate((arriba, np.zeros((64,192)),arriba),axis=0)\n",
    "\n",
    "print(cruz.shape)"
   ]
  },
  {
   "cell_type": "markdown",
   "metadata": {},
   "source": [
    "#### Graficamos el arreglo generado con imshow de matplotlib "
   ]
  },
  {
   "cell_type": "code",
   "execution_count": 4,
   "metadata": {},
   "outputs": [
    {
     "data": {
      "image/png": "[encoded data removed]",
      "text/plain": [
       "<Figure size 432x288 with 1 Axes>"
      ]
     },
     "metadata": {
      "needs_background": "light"
     },
     "output_type": "display_data"
    }
   ],
   "source": [
    "import matplotlib.pyplot as plt\n",
    "plt.imshow(cruz, cmap='gray')\n",
    "plt.show()"
   ]
  },
  {
   "cell_type": "code",
   "execution_count": 9,
   "metadata": {},
   "outputs": [
    {
     "name": "stdout",
     "output_type": "stream",
     "text": [
      "(192, 192)\n"
     ]
    }
   ],
   "source": [
    "# Variante\n",
    "import numpy as np\n",
    "cruz2=np.ones((192,192))\n",
    "cruz2[:,64:129]=0\n",
    "cruz2[64:129,:]=0\n",
    "print(cruz2.shape)"
   ]
  },
  {
   "cell_type": "markdown",
   "metadata": {},
   "source": [
    "#### Ejercicio: mostrar el arreglo cruz2"
   ]
  },
  {
   "cell_type": "code",
   "execution_count": null,
   "metadata": {},
   "outputs": [],
   "source": []
  },
  {
   "cell_type": "markdown",
   "metadata": {},
   "source": [
    "#### Ejercicio: Invertir blanco y negro en la imagen anterior y mostrarla"
   ]
  },
  {
   "cell_type": "code",
   "execution_count": null,
   "metadata": {},
   "outputs": [],
   "source": []
  },
  {
   "cell_type": "markdown",
   "metadata": {},
   "source": [
    "#### Ejercicio: Generar un tablero con 24 cuadrados de 8x8 y mostrarlo"
   ]
  },
  {
   "cell_type": "code",
   "execution_count": null,
   "metadata": {},
   "outputs": [],
   "source": []
  },
  {
   "cell_type": "markdown",
   "metadata": {},
   "source": [
    "#### Ejemplo: Crear imagen monocroma (un solo canal, en grises) 64x64 con intensidad creciente"
   ]
  },
  {
   "cell_type": "code",
   "execution_count": 30,
   "metadata": {},
   "outputs": [
    {
     "name": "stdout",
     "output_type": "stream",
     "text": [
      "<class 'numpy.float64'>\n",
      "[[0. 0. 0. ... 0. 0. 0.]\n",
      " [0. 0. 0. ... 0. 0. 0.]\n",
      " [0. 0. 0. ... 0. 0. 0.]\n",
      " ...\n",
      " [0. 0. 0. ... 0. 0. 0.]\n",
      " [0. 0. 0. ... 0. 0. 0.]\n",
      " [0. 0. 0. ... 0. 0. 0.]]\n",
      "[[ 0.  1.  2. ... 61. 62. 63.]\n",
      " [ 0.  1.  2. ... 61. 62. 63.]\n",
      " [ 0.  1.  2. ... 61. 62. 63.]\n",
      " ...\n",
      " [ 0.  1.  2. ... 61. 62. 63.]\n",
      " [ 0.  1.  2. ... 61. 62. 63.]\n",
      " [ 0.  1.  2. ... 61. 62. 63.]]\n",
      "dimensiones (64,) y (64, 64)  es decir, c es 1D y arr_2D es 2D\n"
     ]
    }
   ],
   "source": [
    "#Creación con numpy y for\n",
    "import numpy as np\n",
    "arr_2D=np.zeros((64,64))\n",
    "print(type(arr_2D[0,0]))\n",
    "print(arr_2D)\n",
    "c=np.arange(64)#/64\n",
    "for i in c: \n",
    "    arr_2D[i,:]=c #en cada fila intensidad creciente numéricamente\n",
    "    \n",
    "print(arr_2D)\n",
    "print(\"dimensiones\",np.shape(c),\"y\", np.shape(arr_2D), ' es decir, c es 1D y arr_2D es 2D')"
   ]
  },
  {
   "cell_type": "code",
   "execution_count": 31,
   "metadata": {},
   "outputs": [
    {
     "name": "stdout",
     "output_type": "stream",
     "text": [
      "<class 'numpy.float64'>\n",
      "[[ 0.  1.  2. ... 61. 62. 63.]\n",
      " [ 0.  1.  2. ... 61. 62. 63.]\n",
      " [ 0.  1.  2. ... 61. 62. 63.]\n",
      " ...\n",
      " [ 0.  1.  2. ... 61. 62. 63.]\n",
      " [ 0.  1.  2. ... 61. 62. 63.]\n",
      " [ 0.  1.  2. ... 61. 62. 63.]]\n",
      "dimensiones (64, 64)\n"
     ]
    }
   ],
   "source": [
    "#Otra variante sólo con numpy (sin for es más rápido computacionalmente)\n",
    "import numpy as np\n",
    "v1=np.ones((64,1)) #dim: 64x1\n",
    "v2=[np.arange(64)] #dim: 64 (1D)\n",
    "\n",
    "arr_2D=np.dot(v1,v2) #dim: 64x64 (2D)\n",
    "\n",
    "print(type(arr_2D[0,0]))\n",
    "print(arr_2D)\n",
    "\n",
    "print(\"dimensiones\", np.shape(arr_2D))"
   ]
  },
  {
   "cell_type": "code",
   "execution_count": 33,
   "metadata": {},
   "outputs": [
    {
     "data": {
      "text/plain": [
       "[array([ 0,  1,  2,  3,  4,  5,  6,  7,  8,  9, 10, 11, 12, 13, 14, 15, 16,\n",
       "        17, 18, 19, 20, 21, 22, 23, 24, 25, 26, 27, 28, 29, 30, 31, 32, 33,\n",
       "        34, 35, 36, 37, 38, 39, 40, 41, 42, 43, 44, 45, 46, 47, 48, 49, 50,\n",
       "        51, 52, 53, 54, 55, 56, 57, 58, 59, 60, 61, 62, 63])]"
      ]
     },
     "execution_count": 33,
     "metadata": {},
     "output_type": "execute_result"
    }
   ],
   "source": [
    "v2"
   ]
  },
  {
   "cell_type": "code",
   "execution_count": 34,
   "metadata": {},
   "outputs": [
    {
     "data": {
      "image/png": "[encoded data removed]",
      "text/plain": [
       "<Figure size 720x504 with 2 Axes>"
      ]
     },
     "metadata": {
      "needs_background": "light"
     },
     "output_type": "display_data"
    }
   ],
   "source": [
    "#Muestra con matplotlib varias imágenes juntas\n",
    "import matplotlib.pyplot as plt \n",
    "fig, axs = plt.subplots(nrows=1, ncols=2, sharex=True)\n",
    "fig.set_figheight(7)\n",
    "fig.set_figwidth(10)\n",
    "\n",
    "axs[0].imshow(arr_2D, cmap='gray')# ojo con la visualización de los datos si no fijamos rango [0,256]\n",
    "axs[0].set_title(\"Distribuye 0-255 en la extensión de la matriz\")\n",
    "\n",
    "axs[1].imshow(arr_2D, cmap='gray',vmin=0 ,vmax=255) #ojo con la visualización de los datos\n",
    "axs[1].set_title(\"0 negro, 255 blanco\")\n",
    "plt.show()"
   ]
  },
  {
   "cell_type": "code",
   "execution_count": 35,
   "metadata": {},
   "outputs": [
    {
     "name": "stdout",
     "output_type": "stream",
     "text": [
      "<class 'numpy.float64'>\n",
      "[[nan nan nan ... nan nan nan]\n",
      " [nan nan nan ... nan nan nan]\n",
      " [nan nan nan ... nan nan nan]\n",
      " ...\n",
      " [nan nan nan ... nan nan nan]\n",
      " [nan nan nan ... nan nan nan]\n",
      " [nan nan nan ... nan nan nan]]\n"
     ]
    }
   ],
   "source": [
    "#Creación nan con numpy\n",
    "import numpy as np\n",
    "arr_2D[:] = np.nan\n",
    "print(type(arr_2D[0,0]))\n",
    "print(arr_2D)"
   ]
  },
  {
   "cell_type": "code",
   "execution_count": 9,
   "metadata": {},
   "outputs": [
    {
     "name": "stdout",
     "output_type": "stream",
     "text": [
      "[[ 0.  0.  0. ...  0.  0.  0.]\n",
      " [ 1.  1.  1. ...  1.  1.  1.]\n",
      " [ 2.  2.  2. ...  2.  2.  2.]\n",
      " ...\n",
      " [61. 61. 61. ... 61. 61. 61.]\n",
      " [62. 62. 62. ... 62. 62. 62.]\n",
      " [63. 63. 63. ... 63. 63. 63.]]\n",
      "dimensiones (64,) y (64, 64)\n"
     ]
    }
   ],
   "source": [
    "#El contador c puede no ser vector. #Cambia el for\n",
    "c=range(64)# contador tipo lista de números\n",
    "for i in c: \n",
    "    arr_2D[i,:]=i #en cada fila i intensidad constante i\n",
    "    \n",
    "print(arr_2D)\n",
    "print(\"dimensiones\",np.shape(c),\"y\", np.shape(arr_2D))"
   ]
  },
  {
   "cell_type": "code",
   "execution_count": 10,
   "metadata": {},
   "outputs": [
    {
     "data": {
      "image/png": "[encoded data removed]",
      "text/plain": [
       "<Figure size 720x504 with 2 Axes>"
      ]
     },
     "metadata": {
      "needs_background": "light"
     },
     "output_type": "display_data"
    }
   ],
   "source": [
    "#Muestra con matplotlib\n",
    "import matplotlib.pyplot as plt \n",
    "fig, axs = plt.subplots(nrows=1, ncols=2, sharex=True)\n",
    "fig.set_figheight(7)\n",
    "fig.set_figwidth(10)\n",
    "axs[0].imshow(arr_2D, cmap='gray')# ojo con la visualización de los datos si no fijamos rango [0,256]\n",
    "axs[0].set_title(\"minimo(0) negro, máximo (63) blanco\")\n",
    "axs[1].imshow(arr_2D, cmap='gray',vmin=0 ,vmax=255) #ojo con la visualización de los datos\n",
    "axs[1].set_title(\"0 negro, 255 blanco\")\n",
    "plt.show()"
   ]
  },
  {
   "cell_type": "markdown",
   "metadata": {},
   "source": [
    "## 1.2. Imágenes 3D: RGB "
   ]
  },
  {
   "cell_type": "markdown",
   "metadata": {},
   "source": [
    "En el caso de imágenes en color vamos a considerar el formato RGB (3 canales).\n",
    "\n",
    "Para RGB, el tamaño del array será MxNx3. almacenando así en cada posición x,y la intensidad de cada canal R, G y B. La intensidad del rojo (R) estará en el lugar (x,y,1), la intensidad del verde (G) estará en (x,y,2) y, por último la del azul (B) estará en (x,y,3). "
   ]
  },
  {
   "cell_type": "markdown",
   "metadata": {},
   "source": [
    "#### Ejercicio: Construir y mostrar una imagen a colores 256x256 píxeles.\n",
    "* **Ultimas 128 columnas color rojo y**\n",
    "* **Primeras 128 columnas, en todas las filas, azul creciente y verde decreciente**"
   ]
  },
  {
   "cell_type": "code",
   "execution_count": 30,
   "metadata": {},
   "outputs": [
    {
     "name": "stdout",
     "output_type": "stream",
     "text": [
      "<class 'numpy.uint8'>\n"
     ]
    }
   ],
   "source": [
    "import numpy as np\n",
    "\n",
    "arr_image=np.zeros((256,256,3),'uint8') #3D, la tercera dimensión tiene 3 opciones: p/R, p/G y p/B\n",
    "print(type(arr_image[0,0,0])) "
   ]
  },
  {
   "cell_type": "code",
   "execution_count": 31,
   "metadata": {},
   "outputs": [
    {
     "name": "stdout",
     "output_type": "stream",
     "text": [
      "R-rojo:\n",
      "[[  0   0   0 ... 255 255 255]\n",
      " [  0   0   0 ... 255 255 255]\n",
      " [  0   0   0 ... 255 255 255]\n",
      " ...\n",
      " [  0   0   0 ... 255 255 255]\n",
      " [  0   0   0 ... 255 255 255]\n",
      " [  0   0   0 ... 255 255 255]]\n",
      "G-verde:\n",
      "[[255 255 255 ...   0   0   0]\n",
      " [254 254 254 ...   0   0   0]\n",
      " [253 253 253 ...   0   0   0]\n",
      " ...\n",
      " [  2   2   2 ...   0   0   0]\n",
      " [  1   1   1 ...   0   0   0]\n",
      " [  0   0   0 ...   0   0   0]]\n",
      "B-azul:\n",
      "[[  0   0   0 ...   0   0   0]\n",
      " [  1   1   1 ...   0   0   0]\n",
      " [  2   2   2 ...   0   0   0]\n",
      " ...\n",
      " [253 253 253 ...   0   0   0]\n",
      " [254 254 254 ...   0   0   0]\n",
      " [255 255 255 ...   0   0   0]]\n"
     ]
    }
   ],
   "source": [
    "c=np.arange(256) # c=[0, ...,255] vector creciente\n",
    "\n",
    "for i in c[0:128]: #esta variable maneja las columnas, consideramos las primeras 128 columnas\n",
    "    arr_image[:,i,2]=c #rojo creciente en la i-ésima columna\n",
    "    arr_image[:,i,1]=(255-c) #verde decreciente en la i-ésima col (255-c)=[255,...,0]\n",
    "\n",
    "arr_image[:,128:,0]=255 #(solo) azul en las últimas columnas\n",
    "\n",
    "print(\"R-rojo:\")\n",
    "print( arr_image[:,:,0])\n",
    "print(\"G-verde:\")\n",
    "print( arr_image[:,:,1])\n",
    "print(\"B-azul:\")\n",
    "print( arr_image[:,:,2])\n"
   ]
  },
  {
   "cell_type": "code",
   "execution_count": 32,
   "metadata": {},
   "outputs": [
    {
     "data": {
      "image/png": "[encoded data removed]",
      "text/plain": [
       "<Figure size 432x288 with 1 Axes>"
      ]
     },
     "metadata": {
      "needs_background": "light"
     },
     "output_type": "display_data"
    }
   ],
   "source": [
    "import matplotlib.pyplot as plt\n",
    "plt.imshow(arr_image)\n",
    "\n",
    "plt.show()"
   ]
  },
  {
   "cell_type": "markdown",
   "metadata": {},
   "source": [
    "#### Ejercicio: Crear y mostrar una imagen 256x256, dividida en 4 cuadrados, cada uno de otro color."
   ]
  },
  {
   "cell_type": "code",
   "execution_count": null,
   "metadata": {},
   "outputs": [],
   "source": []
  }
 ],
 "metadata": {
  "kernelspec": {
   "display_name": "Python 3 (ipykernel)",
   "language": "python",
   "name": "python3"
  },
  "language_info": {
   "codemirror_mode": {
    "name": "ipython",
    "version": 3
   },
   "file_extension": ".py",
   "mimetype": "text/x-python",
   "name": "python",
   "nbconvert_exporter": "python",
   "pygments_lexer": "ipython3",
   "version": "3.12.2"
  }
 },
 "nbformat": 4,
 "nbformat_minor": 4
}
