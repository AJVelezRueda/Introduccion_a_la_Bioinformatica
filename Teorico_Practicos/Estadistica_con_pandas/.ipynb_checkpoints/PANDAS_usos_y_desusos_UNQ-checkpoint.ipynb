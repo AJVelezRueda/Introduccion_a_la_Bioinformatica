{
 "cells": [
  {
   "cell_type": "markdown",
   "metadata": {
    "slideshow": {
     "slide_type": "slide"
    }
   },
   "source": [
    "**Instalación**\n",
    "\n",
    "Versiones posteriores a Python 2.6 y la distribuciones de Anaconda incluyen el módulo PIP: esta es una herramienta para instalar y gestionar paquetes de Python. Para verificar que tenemos instalado pip podemos hacer:"
   ]
  },
  {
   "cell_type": "code",
   "execution_count": 4,
   "metadata": {
    "slideshow": {
     "slide_type": "fragment"
    }
   },
   "outputs": [],
   "source": [
    "import pip"
   ]
  },
  {
   "cell_type": "markdown",
   "metadata": {
    "slideshow": {
     "slide_type": "fragment"
    }
   },
   "source": [
    "Si no tira ningún error, etonces está felizmente instalado. En caso contrario existen diversas formas de instalación desde la consola:\n",
    "\n",
    "        conda install pip\n",
    "\n",
    "Una vez instalado pip, podemos instalar fácilemnte pandas desde la consola haciendo:\n",
    "\n",
    "        pip install pandas\n",
    "        \n",
    "Podemos checkear que está instalado haciendo:"
   ]
  },
  {
   "cell_type": "code",
   "execution_count": 2,
   "metadata": {
    "jupyter": {
     "outputs_hidden": true
    },
    "slideshow": {
     "slide_type": "fragment"
    }
   },
   "outputs": [],
   "source": [
    "#Como veran aqui importamos pandas y al mismo tiempor lo renombramo como 'pd' \n",
    "#Asi al llamarlo escribimos menos\n",
    "import pandas as pd"
   ]
  },
  {
   "cell_type": "markdown",
   "metadata": {
    "slideshow": {
     "slide_type": "slide"
    }
   },
   "source": [
    "**PANDAS: Un osito cariñosito!**"
   ]
  },
  {
   "cell_type": "markdown",
   "metadata": {
    "slideshow": {
     "slide_type": "slide"
    }
   },
   "source": [
    "Pandas es un paquete que nos permite trabajar con archivos de formato definido: CSV, un excel, etc. Además, Pandas proporciona estructuras de datos rápidas, flexibles y expresivas diseñadas para que trabajar con datos \"relacionales\" o \"etiquetados\" sea fácil e intuitivo. En criollo Pandas es como en excel, pero super duper!"
   ]
  },
  {
   "cell_type": "markdown",
   "metadata": {
    "slideshow": {
     "slide_type": "slide"
    }
   },
   "source": [
    "**Pandas soporta múltipes tipos de datos:**\n",
    "\n",
    "+ Datos tabulares con columnas de tipo heterogéneo, como en una tabla SQL o en una hoja de cálculo de Excel\n",
    "+ Datos ordenados y desordenados (no necesariamente frecuencia fija).\n",
    "+ Datos matriciales arbitrarios (homogéneamente tipados o heterogéneos) con etiquetas de fila y columna\n",
    "+ Cualquier otra forma de conjuntos de datos observacionales / estadísticos. Los datos en realidad no necesitan ser etiquetados para ser colocados en una estructura de datos de pandas"
   ]
  },
  {
   "cell_type": "markdown",
   "metadata": {
    "slideshow": {
     "slide_type": "slide"
    }
   },
   "source": [
    "**Estructuras de datos que maneja:**\n",
    "\n",
    "- Series (1-dimensional)\n",
    "- DataFrames (2-dimensional). En otras palabras, DataFrame es una estructura tabular bidimensional de datos tabulares, potencialmente heterogéneos, con ejes etiquetados (filas y columnas). Las operaciones aritméticas se alinean en las etiquetas de fila y columna. Se puede considerar como un contenedor similar a un dict para objetos Serie. La estructura de datos de los pandas primarios. Los DataFrames de pandas proporcionan las mismos tipos de usos y utilidades que los data.frame de R.\n",
    "\n",
    "Por lo tanto, la serie es la estructura de datos para una sola columna de un DataFrame, no solo conceptualmente, sino literalmente, es decir, los datos en un DataFrame se almacenan realmente en la memoria como una colección de Series."
   ]
  },
  {
   "cell_type": "code",
   "execution_count": 4,
   "metadata": {},
   "outputs": [
    {
     "name": "stdout",
     "output_type": "stream",
     "text": [
      "0         Peru\n",
      "1    Argentina\n",
      "2      Bolivia\n",
      "3      Uruguay\n",
      "4       Brasil\n",
      "5        Chile\n",
      "dtype: string\n"
     ]
    }
   ],
   "source": [
    "una_serie = pd.Series(['Peru', 'Argentina', 'Bolivia', 'Uruguay', 'Brasil', 'Chile'], dtype='string')\n",
    "\n",
    "print(una_serie)"
   ]
  },
  {
   "cell_type": "code",
   "execution_count": 6,
   "metadata": {},
   "outputs": [
    {
     "name": "stdout",
     "output_type": "stream",
     "text": [
      "        Pais Idioma oficial\n",
      "1       Peru        Español\n",
      "2  Argentina        Español\n",
      "3    Bolivia        Español\n",
      "4    Uruguay        Español\n",
      "5     Brasil      Portugues\n",
      "6      Chile        Español\n"
     ]
    }
   ],
   "source": [
    "dataframe_test = pd.DataFrame(data ={\"Pais\": ['Peru', 'Argentina', 'Bolivia', 'Uruguay', 'Brasil', 'Chile'], \"Idioma oficial\": ['Español', 'Español', 'Español', 'Español', 'Portugues', 'Español']}, index = [1,2,3,4,5,6])\n",
    "print(dataframe_test)"
   ]
  },
  {
   "cell_type": "code",
   "execution_count": 8,
   "metadata": {},
   "outputs": [
    {
     "data": {
      "text/html": [
       "<div>\n",
       "<style scoped>\n",
       "    .dataframe tbody tr th:only-of-type {\n",
       "        vertical-align: middle;\n",
       "    }\n",
       "\n",
       "    .dataframe tbody tr th {\n",
       "        vertical-align: top;\n",
       "    }\n",
       "\n",
       "    .dataframe thead th {\n",
       "        text-align: right;\n",
       "    }\n",
       "</style>\n",
       "<table border=\"1\" class=\"dataframe\">\n",
       "  <thead>\n",
       "    <tr style=\"text-align: right;\">\n",
       "      <th></th>\n",
       "      <th>Pais</th>\n",
       "      <th>Idioma oficial</th>\n",
       "    </tr>\n",
       "  </thead>\n",
       "  <tbody>\n",
       "    <tr>\n",
       "      <th>0</th>\n",
       "      <td>Peru</td>\n",
       "      <td>Español</td>\n",
       "    </tr>\n",
       "    <tr>\n",
       "      <th>1</th>\n",
       "      <td>Argentina</td>\n",
       "      <td>Español</td>\n",
       "    </tr>\n",
       "    <tr>\n",
       "      <th>2</th>\n",
       "      <td>Bolivia</td>\n",
       "      <td>Español</td>\n",
       "    </tr>\n",
       "    <tr>\n",
       "      <th>3</th>\n",
       "      <td>Uruguay</td>\n",
       "      <td>Español</td>\n",
       "    </tr>\n",
       "    <tr>\n",
       "      <th>4</th>\n",
       "      <td>Brasil</td>\n",
       "      <td>Portugues</td>\n",
       "    </tr>\n",
       "    <tr>\n",
       "      <th>5</th>\n",
       "      <td>Chile</td>\n",
       "      <td>Español</td>\n",
       "    </tr>\n",
       "  </tbody>\n",
       "</table>\n",
       "</div>"
      ],
      "text/plain": [
       "        Pais Idioma oficial\n",
       "0       Peru        Español\n",
       "1  Argentina        Español\n",
       "2    Bolivia        Español\n",
       "3    Uruguay        Español\n",
       "4     Brasil      Portugues\n",
       "5      Chile        Español"
      ]
     },
     "execution_count": 8,
     "metadata": {},
     "output_type": "execute_result"
    }
   ],
   "source": [
    "datos = {\"Pais\": ['Peru', 'Argentina', 'Bolivia', 'Uruguay', 'Brasil', 'Chile'], \"Idioma oficial\": ['Español', 'Español', 'Español', 'Español', 'Portugues', 'Español']}\n",
    "df = pd.DataFrame(datos)\n",
    "df"
   ]
  },
  {
   "cell_type": "markdown",
   "metadata": {},
   "source": [
    "## Métodos de una serie\n",
    "\n",
    "    - s.size : Devuelve el número de elementos de la serie\n",
    "\n",
    "    - s.index : Devuelve una lista con los nombres de las filas\n",
    "\n",
    "    - s.dtype : Devuelve el tipo de datos de los elementos de la serie\n",
    "\n"
   ]
  },
  {
   "cell_type": "code",
   "execution_count": null,
   "metadata": {},
   "outputs": [],
   "source": []
  },
  {
   "cell_type": "markdown",
   "metadata": {},
   "source": [
    "Mas información: https://pandas.pydata.org/pandas-docs/stable/install.html"
   ]
  },
  {
   "cell_type": "markdown",
   "metadata": {},
   "source": [
    "**Lectura de Archivos estructurados**"
   ]
  },
  {
   "cell_type": "markdown",
   "metadata": {},
   "source": [
    "Como ya hemos visto en clase, las proteínas presentan estructura primaria, secundaria, terciaria y cuaternaria. Como hemos visto en clase la estructura de las proteínas se encuentra estrechamente relacionada a la función. Como hemos viste en clase las proteínas pueden tener más de una estructura o conformación posible en solución.\n",
    "Monod postula, en 1965, la existencia de más de una conformación de la misma proteı́na en pre-equilibrio. Este equilibrio dinámico no es estático, por el contrario la distribución relativa de los distintos confórmeros puede variar por cambios en el entorno proteico (presencia de ligandos, o fluctuaciones de pH, modificaciones postraduccionales, etc). La comparación y el estudio de los cambios que sufre una proteína en dos condiciones dadas, nos puede dar encontece una idea de cómo su estructura se vincula con su función.\n",
    "Para estimar la diversidad conformacional (es decir como cambia su estructura) de una proteı́na y cuantificarla, debemos comparar estructuralmente sus confórmeros. Para realizar este procedimiento, en primer lugar los confórmeros deben superponerse estructuralmente con el fin de llevar al mismo eje de coordenadas los centro de masas de cada una de las estructuras a comparar. Esto puede hacerse fácilmente dado que los confórmeros comparten la misma secuencia de aminoácidos por lo que para hacer una superposición rı́gida es suficiente un alineamiento secuencial para asignar los residuos equivalentes entre las dos estructuras, seguido de una traslación al mismo centro de masa y una posterior rotación de una de las estructuras. Estas rotaciones se realizan hasta minimizar la distancia cuadrática media (RMSD por sus siglas en inglés de “Root Mean Square Deviation”) entre los átomos equivalentes de las estructuras, y generalmente se utiliza un algoritmo simple de ajuste de mı́nimos cuadrados o “least-squares fitting” (RMSD) para realizar este proceso. Es común que esta superposición sea efectuada tomando como referencia las coordenadas espaciales de un átomo en particular por cada aminoácido, por lo que generalmente se utilizan los C α de la proteı́na.\n",
    "En la presente práctica vamos a trabajar sobre la comparación de dos estructuras o conformaciones de una proteína, utilizando la medida de RMSD por posición con el software Profit (http://www.bioinf.org.uk/software/profit/), que nos dará una idea de cuál es el comportamiento de dicha proteína."
   ]
  },
  {
   "cell_type": "code",
   "execution_count": 2,
   "metadata": {},
   "outputs": [],
   "source": [
    "tabla = pd.read_csv(\"Ejercicio_III/RMS-res_3SLH_B-3SLH_D.txt\", sep=\"\\s+\", names=['PosPDB1','Aa1',':','PosPDB2','Aa2','texto','RMSD'])"
   ]
  },
  {
   "cell_type": "code",
   "execution_count": 3,
   "metadata": {
    "scrolled": true
   },
   "outputs": [
    {
     "data": {
      "text/html": [
       "<div>\n",
       "<table border=\"1\" class=\"dataframe\">\n",
       "  <thead>\n",
       "    <tr style=\"text-align: right;\">\n",
       "      <th></th>\n",
       "      <th>PosPDB1</th>\n",
       "      <th>Aa1</th>\n",
       "      <th>:</th>\n",
       "      <th>PosPDB2</th>\n",
       "      <th>Aa2</th>\n",
       "      <th>texto</th>\n",
       "      <th>RMSD</th>\n",
       "    </tr>\n",
       "  </thead>\n",
       "  <tbody>\n",
       "    <tr>\n",
       "      <th>0</th>\n",
       "      <td>B0</td>\n",
       "      <td>ALA</td>\n",
       "      <td>:</td>\n",
       "      <td>D0</td>\n",
       "      <td>ALA</td>\n",
       "      <td>RMS:</td>\n",
       "      <td>0.700</td>\n",
       "    </tr>\n",
       "    <tr>\n",
       "      <th>1</th>\n",
       "      <td>B1</td>\n",
       "      <td>MET</td>\n",
       "      <td>:</td>\n",
       "      <td>D1</td>\n",
       "      <td>MET</td>\n",
       "      <td>RMS:</td>\n",
       "      <td>0.373</td>\n",
       "    </tr>\n",
       "    <tr>\n",
       "      <th>2</th>\n",
       "      <td>B2</td>\n",
       "      <td>ASP</td>\n",
       "      <td>:</td>\n",
       "      <td>D2</td>\n",
       "      <td>ASP</td>\n",
       "      <td>RMS:</td>\n",
       "      <td>0.475</td>\n",
       "    </tr>\n",
       "    <tr>\n",
       "      <th>3</th>\n",
       "      <td>B3</td>\n",
       "      <td>TYR</td>\n",
       "      <td>:</td>\n",
       "      <td>D3</td>\n",
       "      <td>TYR</td>\n",
       "      <td>RMS:</td>\n",
       "      <td>0.390</td>\n",
       "    </tr>\n",
       "    <tr>\n",
       "      <th>4</th>\n",
       "      <td>B4</td>\n",
       "      <td>GLN</td>\n",
       "      <td>:</td>\n",
       "      <td>D4</td>\n",
       "      <td>GLN</td>\n",
       "      <td>RMS:</td>\n",
       "      <td>0.446</td>\n",
       "    </tr>\n",
       "  </tbody>\n",
       "</table>\n",
       "</div>"
      ],
      "text/plain": [
       "  PosPDB1  Aa1  : PosPDB2  Aa2 texto   RMSD\n",
       "0      B0  ALA  :      D0  ALA  RMS:  0.700\n",
       "1      B1  MET  :      D1  MET  RMS:  0.373\n",
       "2      B2  ASP  :      D2  ASP  RMS:  0.475\n",
       "3      B3  TYR  :      D3  TYR  RMS:  0.390\n",
       "4      B4  GLN  :      D4  GLN  RMS:  0.446"
      ]
     },
     "execution_count": 3,
     "metadata": {},
     "output_type": "execute_result"
    }
   ],
   "source": [
    "#Con head mostramos una parte del DataFrame\n",
    "tabla.head()"
   ]
  },
  {
   "cell_type": "markdown",
   "metadata": {},
   "source": [
    "Podríamos haber usado pd.read_table(), en general es indistinto, la diferencia radica principalmente en los parámetros por default que se encuentran seteados para la lectura de los archivos:\n",
    "        - El caracter de separación de columnas para read_cvs es una coma (',') mientras que para read_fwf es una tab ('\\t').\n",
    "\n",
    "**Ambos nos permiten leer el archivo por partes (chunksize) de modo de no saturar la memoria al levantar archivos muy pesados:**\n",
    "\n",
    "cada chunk nos da un dataFrame con el mismo header."
   ]
  },
  {
   "cell_type": "code",
   "execution_count": 12,
   "metadata": {
    "collapsed": true,
    "jupyter": {
     "outputs_hidden": true
    }
   },
   "outputs": [
    {
     "name": "stdout",
     "output_type": "stream",
     "text": [
      "ALA\n",
      "  PosPDB1  Aa1  : PosPDB2  Aa2 texto   RMSD\n",
      "0      B0  ALA  :      D0  ALA  RMS:  0.700\n",
      "1      B1  MET  :      D1  MET  RMS:  0.373\n",
      "2      B2  ASP  :      D2  ASP  RMS:  0.475\n",
      "3      B3  TYR  :      D3  TYR  RMS:  0.390\n",
      "GLN\n",
      "  PosPDB1  Aa1  : PosPDB2  Aa2 texto   RMSD\n",
      "0      B4  GLN  :      D4  GLN  RMS:  0.446\n",
      "1      B5  THR  :      D5  THR  RMS:  0.357\n",
      "2      B6  ILE  :      D6  ILE  RMS:  0.397\n",
      "3      B7  PRO  :      D7  PRO  RMS:  0.491\n",
      "SER\n",
      "  PosPDB1  Aa1  : PosPDB2  Aa2 texto   RMSD\n",
      "0      B8  SER  :      D8  SER  RMS:  0.460\n",
      "1      B9  GLN  :      D9  GLN  RMS:  0.463\n",
      "2     B10  GLY  :     D10  GLY  RMS:  0.450\n",
      "3     B11  LEU  :     D11  LEU  RMS:  0.416\n",
      "SER\n",
      "  PosPDB1  Aa1  : PosPDB2  Aa2 texto   RMSD\n",
      "0     B12  SER  :     D12  SER  RMS:  0.477\n",
      "1     B13  GLY  :     D13  GLY  RMS:  0.454\n",
      "2     B14  GLU  :     D14  GLU  RMS:  0.301\n",
      "3     B15  ILE  :     D15  ILE  RMS:  0.069\n",
      "CYS\n",
      "  PosPDB1  Aa1  : PosPDB2  Aa2 texto   RMSD\n",
      "0     B16  CYS  :     D16  CYS  RMS:  0.325\n",
      "1     B17  VAL  :     D17  VAL  RMS:  0.294\n",
      "2     B18  PRO  :     D18  PRO  RMS:  0.228\n",
      "3     B19  GLY  :     D19  GLY  RMS:  0.221\n",
      "ASP\n",
      "  PosPDB1  Aa1  : PosPDB2  Aa2 texto   RMSD\n",
      "0     B20  ASP  :     D20  ASP  RMS:  0.220\n",
      "1     B21  LYS  :     D21  LYS  RMS:  0.237\n",
      "2     B22  SER  :     D22  SER  RMS:  0.163\n",
      "3     B23  ILE  :     D23  ILE  RMS:  0.145\n",
      "SER\n",
      "  PosPDB1  Aa1  : PosPDB2  Aa2 texto   RMSD\n",
      "0     B24  SER  :     D24  SER  RMS:  0.168\n",
      "1     B25  HIS  :     D25  HIS  RMS:  0.137\n",
      "2     B26  ARG  :     D26  ARG  RMS:  0.136\n",
      "3     B27  ALA  :     D27  ALA  RMS:  0.098\n",
      "VAL\n",
      "  PosPDB1  Aa1  : PosPDB2  Aa2 texto   RMSD\n",
      "0     B28  VAL  :     D28  VAL  RMS:  0.121\n",
      "1     B29  LEU  :     D29  LEU  RMS:  0.063\n",
      "2     B30  LEU  :     D30  LEU  RMS:  0.182\n",
      "3     B31  ALA  :     D31  ALA  RMS:  0.228\n",
      "ALA\n",
      "  PosPDB1  Aa1  : PosPDB2  Aa2 texto   RMSD\n",
      "0     B32  ALA  :     D32  ALA  RMS:  0.107\n",
      "1     B33  ILE  :     D33  ILE  RMS:  0.229\n",
      "2     B34  ALA  :     D34  ALA  RMS:  0.300\n",
      "3     B35  GLU  :     D35  GLU  RMS:  0.266\n",
      "GLY\n",
      "  PosPDB1  Aa1  : PosPDB2  Aa2 texto   RMSD\n",
      "0     B36  GLY  :     D36  GLY  RMS:  0.309\n",
      "1     B37  GLN  :     D37  GLN  RMS:  0.317\n",
      "2     B38  THR  :     D38  THR  RMS:  0.298\n",
      "3     B39  GLN  :     D39  GLN  RMS:  0.310\n",
      "VAL\n",
      "  PosPDB1  Aa1  : PosPDB2  Aa2 texto   RMSD\n",
      "0     B40  VAL  :     D40  VAL  RMS:  0.295\n",
      "1     B41  ASP  :     D41  ASP  RMS:  0.389\n",
      "2     B42  GLY  :     D42  GLY  RMS:  0.329\n",
      "3     B43  PHE  :     D43  PHE  RMS:  0.330\n",
      "LEU\n",
      "  PosPDB1  Aa1  : PosPDB2  Aa2 texto   RMSD\n",
      "0     B44  LEU  :     D44  LEU  RMS:  0.277\n",
      "1     B45  MET  :     D45  MET  RMS:  0.331\n",
      "2     B46  GLY  :     D46  GLY  RMS:  0.341\n",
      "3     B47  ALA  :     D47  ALA  RMS:  0.297\n",
      "ASP\n",
      "  PosPDB1  Aa1  : PosPDB2  Aa2 texto   RMSD\n",
      "0     B48  ASP  :     D48  ASP  RMS:  0.226\n",
      "1     B49  ASN  :     D49  ASN  RMS:  0.283\n",
      "2     B50  LEU  :     D50  LEU  RMS:  0.317\n",
      "3     B51  ALA  :     D51  ALA  RMS:  0.238\n",
      "MET\n",
      "  PosPDB1  Aa1  : PosPDB2  Aa2 texto   RMSD\n",
      "0     B52  MET  :     D52  MET  RMS:  0.177\n",
      "1     B53  VAL  :     D53  VAL  RMS:  0.183\n",
      "2     B54  SER  :     D54  SER  RMS:  0.173\n",
      "3     B55  ALA  :     D55  ALA  RMS:  0.079\n",
      "LEU\n",
      "  PosPDB1  Aa1  : PosPDB2  Aa2 texto   RMSD\n",
      "0     B56  LEU  :     D56  LEU  RMS:  0.077\n",
      "1     B57  GLN  :     D57  GLN  RMS:  0.187\n",
      "2     B58  GLN  :     D58  GLN  RMS:  0.299\n",
      "3     B59  MET  :     D59  MET  RMS:  0.222\n",
      "GLY\n",
      "  PosPDB1  Aa1  : PosPDB2  Aa2 texto   RMSD\n",
      "0     B60  GLY  :     D60  GLY  RMS:  0.220\n",
      "1     B61  ALA  :     D61  ALA  RMS:  0.224\n",
      "2     B62  SER  :     D62  SER  RMS:  0.213\n",
      "3     B63  ILE  :     D63  ILE  RMS:  0.329\n",
      "GLN\n",
      "  PosPDB1  Aa1  : PosPDB2  Aa2 texto   RMSD\n",
      "0     B64  GLN  :     D64  GLN  RMS:  0.319\n",
      "1     B65  VAL  :     D65  VAL  RMS:  0.313\n",
      "2     B66  ILE  :     D66  ILE  RMS:  0.405\n",
      "3     B67  GLU  :     D67  GLU  RMS:  0.408\n",
      "ASP\n",
      "  PosPDB1  Aa1  : PosPDB2  Aa2 texto   RMSD\n",
      "0     B68  ASP  :     D68  ASP  RMS:  0.660\n",
      "1     B69  GLU  :     D69  GLU  RMS:  0.579\n",
      "2     B70  ASN  :     D70  ASN  RMS:  0.344\n",
      "3     B71  ILE  :     D71  ILE  RMS:  0.390\n",
      "LEU\n",
      "  PosPDB1  Aa1  : PosPDB2  Aa2 texto   RMSD\n",
      "0     B72  LEU  :     D72  LEU  RMS:  0.330\n",
      "1     B73  VAL  :     D73  VAL  RMS:  0.268\n",
      "2     B74  VAL  :     D74  VAL  RMS:  0.189\n",
      "3     B75  GLU  :     D75  GLU  RMS:  0.223\n",
      "GLY\n",
      "  PosPDB1  Aa1  : PosPDB2  Aa2 texto   RMSD\n",
      "0     B76  GLY  :     D76  GLY  RMS:  0.256\n",
      "1     B77  VAL  :     D77  VAL  RMS:  0.260\n",
      "2     B78  GLY  :     D78  GLY  RMS:  0.274\n",
      "3     B79  MET  :     D79  MET  RMS:  0.271\n",
      "THR\n",
      "  PosPDB1  Aa1  : PosPDB2  Aa2 texto   RMSD\n",
      "0     B80  THR  :     D80  THR  RMS:  0.317\n",
      "1     B81  GLY  :     D81  GLY  RMS:  0.379\n",
      "2     B82  LEU  :     D82  LEU  RMS:  0.313\n",
      "3     B83  GLN  :     D83  GLN  RMS:  0.724\n",
      "ALA\n",
      "  PosPDB1  Aa1  : PosPDB2  Aa2 texto   RMSD\n",
      "0     B84  ALA  :     D84  ALA  RMS:  0.778\n",
      "1     B85  PRO  :     D85  PRO  RMS:  0.621\n",
      "2     B86  PRO  :     D86  PRO  RMS:  0.969\n",
      "3     B87  GLU  :     D87  GLU  RMS:  0.737\n",
      "ALA\n",
      "  PosPDB1  Aa1  : PosPDB2  Aa2 texto   RMSD\n",
      "0     B88  ALA  :     D88  ALA  RMS:  0.398\n",
      "1     B89  LEU  :     D89  LEU  RMS:  0.250\n",
      "2     B90  ASP  :     D90  ASP  RMS:  0.250\n",
      "3     B91  CYS  :     D91  CYS  RMS:  0.108\n",
      "GLY\n",
      "  PosPDB1  Aa1  : PosPDB2  Aa2 texto   RMSD\n",
      "0     B92  GLY  :     D92  GLY  RMS:  0.120\n",
      "1     B93  ASN  :     D93  ASN  RMS:  0.086\n",
      "2     B94  SER  :     D94  SER  RMS:  0.063\n",
      "3     B95  GLY  :     D95  GLY  RMS:  0.059\n",
      "THR\n",
      "  PosPDB1  Aa1  : PosPDB2  Aa2 texto   RMSD\n",
      "0     B96  THR  :     D96  THR  RMS:  0.085\n",
      "1     B97  ALA  :     D97  ALA  RMS:  0.033\n",
      "2     B98  ILE  :     D98  ILE  RMS:  0.085\n",
      "3     B99  ARG  :     D99  ARG  RMS:  0.107\n",
      "LEU\n",
      "  PosPDB1  Aa1  : PosPDB2  Aa2 texto   RMSD\n",
      "0    B100  LEU  :    D100  LEU  RMS:  0.116\n",
      "1    B101  LEU  :    D101  LEU  RMS:  0.107\n",
      "2    B102  SER  :    D102  SER  RMS:  0.160\n",
      "3    B103  GLY  :    D103  GLY  RMS:  0.189\n",
      "LEU\n",
      "  PosPDB1  Aa1  : PosPDB2  Aa2 texto   RMSD\n",
      "0    B104  LEU  :    D104  LEU  RMS:  0.206\n",
      "1    B105  LEU  :    D105  LEU  RMS:  0.222\n",
      "2    B106  ALA  :    D106  ALA  RMS:  0.360\n",
      "3    B107  GLY  :    D107  GLY  RMS:  0.380\n",
      "GLN\n",
      "  PosPDB1  Aa1  : PosPDB2  Aa2 texto   RMSD\n",
      "0    B108  GLN  :    D108  GLN  RMS:  0.323\n",
      "1    B109  PRO  :    D109  PRO  RMS:  0.392\n",
      "2    B110  PHE  :    D110  PHE  RMS:  0.359\n",
      "3    B111  ASN  :    D111  ASN  RMS:  0.375\n",
      "THR\n",
      "  PosPDB1  Aa1  : PosPDB2  Aa2 texto   RMSD\n",
      "0    B112  THR  :    D112  THR  RMS:  0.237\n",
      "1    B113  VAL  :    D113  VAL  RMS:  0.342\n",
      "2    B114  LEU  :    D114  LEU  RMS:  0.334\n",
      "3    B115  THR  :    D115  THR  RMS:  0.206\n",
      "GLY\n",
      "  PosPDB1  Aa1  : PosPDB2  Aa2 texto   RMSD\n",
      "0    B116  GLY  :    D116  GLY  RMS:  0.185\n",
      "1    B117  ASP  :    D117  ASP  RMS:  0.164\n",
      "2    B118  SER  :    D118  SER  RMS:  0.081\n",
      "3    B119  SER  :    D119  SER  RMS:  0.066\n",
      "LEU\n",
      "  PosPDB1  Aa1  : PosPDB2  Aa2 texto   RMSD\n",
      "0    B120  LEU  :    D120  LEU  RMS:  0.066\n",
      "1    B121  GLN  :    D121  GLN  RMS:  0.139\n",
      "2    B122  ARG  :    D122  ARG  RMS:  0.082\n",
      "3    B123  ARG  :    D123  ARG  RMS:  0.026\n",
      "PRO\n",
      "  PosPDB1  Aa1  : PosPDB2  Aa2 texto   RMSD\n",
      "0    B124  PRO  :    D124  PRO  RMS:  0.185\n",
      "1    B125  MET  :    D125  MET  RMS:  0.139\n",
      "2    B126  LYS  :    D126  LYS  RMS:  0.184\n",
      "3    B127  ARG  :    D127  ARG  RMS:  0.098\n",
      "ILE\n",
      "  PosPDB1  Aa1  : PosPDB2  Aa2 texto   RMSD\n",
      "0    B128  ILE  :    D128  ILE  RMS:  0.175\n",
      "1    B129  ILE  :    D129  ILE  RMS:  0.370\n",
      "2    B130  ASP  :    D130  ASP  RMS:  0.522\n",
      "3    B131  PRO  :    D131  PRO  RMS:  0.360\n",
      "LEU\n",
      "  PosPDB1  Aa1  : PosPDB2  Aa2 texto   RMSD\n",
      "0    B132  LEU  :    D132  LEU  RMS:  0.227\n",
      "1    B133  THR  :    D133  THR  RMS:  0.366\n",
      "2    B134  LEU  :    D134  LEU  RMS:  0.417\n",
      "3    B135  MET  :    D135  MET  RMS:  0.449\n",
      "GLY\n",
      "  PosPDB1  Aa1  : PosPDB2  Aa2 texto   RMSD\n",
      "0    B136  GLY  :    D136  GLY  RMS:  0.462\n",
      "1    B137  ALA  :    D137  ALA  RMS:  0.378\n",
      "2    B138  LYS  :    D138  LYS  RMS:  0.402\n",
      "3    B139  ILE  :    D139  ILE  RMS:  0.318\n",
      "ASP\n",
      "  PosPDB1  Aa1  : PosPDB2  Aa2 texto   RMSD\n",
      "0    B140  ASP  :    D140  ASP  RMS:  0.434\n",
      "1    B141  SER  :    D141  SER  RMS:  0.682\n",
      "2    B142  THR  :    D142  THR  RMS:  1.690\n",
      "3    B143  GLY  :    D143  GLY  RMS:  0.713\n",
      "ASN\n",
      "  PosPDB1  Aa1  : PosPDB2  Aa2 texto   RMSD\n",
      "0    B144  ASN  :    D144  ASN  RMS:  0.156\n",
      "1    B145  VAL  :    D145  VAL  RMS:  0.136\n",
      "2    B146  PRO  :    D146  PRO  RMS:  0.171\n",
      "3    B147  PRO  :    D147  PRO  RMS:  0.289\n",
      "LEU\n",
      "  PosPDB1  Aa1  : PosPDB2  Aa2 texto   RMSD\n",
      "0    B148  LEU  :    D148  LEU  RMS:  0.338\n",
      "1    B149  LYS  :    D149  LYS  RMS:  0.345\n",
      "2    B150  ILE  :    D150  ILE  RMS:  0.352\n",
      "3    B151  TYR  :    D151  TYR  RMS:  0.354\n",
      "GLY\n",
      "  PosPDB1  Aa1  : PosPDB2  Aa2 texto   RMSD\n",
      "0    B152  GLY  :    D152  GLY  RMS:  0.303\n",
      "1    B153  ASN  :    D153  ASN  RMS:  0.421\n",
      "2    B154  PRO  :    D154  PRO  RMS:  0.358\n",
      "3    B155  ARG  :    D155  ARG  RMS:  0.438\n",
      "LEU\n",
      "  PosPDB1  Aa1  : PosPDB2  Aa2 texto   RMSD\n",
      "0    B156  LEU  :    D156  LEU  RMS:  0.530\n",
      "1    B157  THR  :    D157  THR  RMS:  0.569\n",
      "2    B158  GLY  :    D158  GLY  RMS:  0.522\n",
      "3    B159  ILE  :    D159  ILE  RMS:  0.489\n",
      "HIS\n",
      "  PosPDB1  Aa1  : PosPDB2  Aa2 texto   RMSD\n",
      "0    B160  HIS  :    D160  HIS  RMS:  0.525\n",
      "1    B161  TYR  :    D161  TYR  RMS:  0.346\n",
      "2    B162  GLN  :    D162  GLN  RMS:  0.308\n",
      "3    B163  LEU  :    D163  LEU  RMS:  0.188\n",
      "PRO\n",
      "  PosPDB1  Aa1  : PosPDB2  Aa2 texto   RMSD\n",
      "0    B164  PRO  :    D164  PRO  RMS:  0.092\n",
      "1    B165  MET  :    D165  MET  RMS:  0.535\n",
      "2    B166  ALA  :    D166  ALA  RMS:  0.588\n",
      "3    B167  SER  :    D167  SER  RMS:  0.176\n",
      "ALA\n",
      "  PosPDB1  Aa1  : PosPDB2  Aa2 texto   RMSD\n",
      "0    B168  ALA  :    D168  ALA  RMS:  0.177\n",
      "1    B169  GLN  :    D169  GLN  RMS:  0.077\n",
      "2    B170  VAL  :    D170  VAL  RMS:  0.086\n",
      "3    B171  LYS  :    D171  LYS  RMS:  0.174\n",
      "SER\n",
      "  PosPDB1  Aa1  : PosPDB2  Aa2 texto   RMSD\n",
      "0    B172  SER  :    D172  SER  RMS:  0.157\n",
      "1    B173  CYS  :    D173  CYS  RMS:  0.138\n",
      "2    B174  LEU  :    D174  LEU  RMS:  0.261\n",
      "3    B175  LEU  :    D175  LEU  RMS:  0.354\n",
      "LEU\n",
      "  PosPDB1  Aa1  : PosPDB2  Aa2 texto   RMSD\n",
      "0    B176  LEU  :    D176  LEU  RMS:  0.265\n",
      "1    B177  ALA  :    D177  ALA  RMS:  0.289\n",
      "2    B178  GLY  :    D178  GLY  RMS:  0.369\n",
      "3    B179  LEU  :    D179  LEU  RMS:  0.409\n",
      "TYR\n",
      "  PosPDB1  Aa1  : PosPDB2  Aa2 texto   RMSD\n",
      "0    B180  TYR  :    D180  TYR  RMS:  0.394\n",
      "1    B181  ALA  :    D181  ALA  RMS:  0.422\n",
      "2    B182  ARG  :    D182  ARG  RMS:  0.520\n",
      "3    B183  GLY  :    D183  GLY  RMS:  0.474\n",
      "LYS\n",
      "  PosPDB1  Aa1  : PosPDB2  Aa2 texto   RMSD\n",
      "0    B184  LYS  :    D184  LYS  RMS:  0.456\n",
      "1    B185  THR  :    D185  THR  RMS:  0.388\n",
      "2    B186  CYS  :    D186  CYS  RMS:  0.368\n",
      "3    B187  ILE  :    D187  ILE  RMS:  0.489\n",
      "THR\n",
      "  PosPDB1  Aa1  : PosPDB2  Aa2 texto   RMSD\n",
      "0    B188  THR  :    D188  THR  RMS:  0.448\n",
      "1    B189  GLU  :    D189  GLU  RMS:  0.300\n",
      "2    B190  PRO  :    D190  PRO  RMS:  0.336\n",
      "3    B191  ALA  :    D191  ALA  RMS:  0.886\n",
      "PRO\n",
      "  PosPDB1  Aa1  : PosPDB2  Aa2 texto   RMSD\n",
      "0    B192  PRO  :    D192  PRO  RMS:  0.586\n",
      "1    B193  SER  :    D193  SER  RMS:  0.171\n",
      "2    B194  ARG  :    D194  ARG  RMS:  0.131\n",
      "3    B195  ASP  :    D195  ASP  RMS:  0.138\n",
      "HIS\n",
      "  PosPDB1  Aa1  : PosPDB2  Aa2 texto   RMSD\n",
      "0    B196  HIS  :    D196  HIS  RMS:  0.169\n",
      "1    B197  THR  :    D197  THR  RMS:  0.118\n",
      "2    B198  GLU  :    D198  GLU  RMS:  0.160\n",
      "3    B199  ARG  :    D199  ARG  RMS:  0.218\n",
      "LEU\n",
      "  PosPDB1  Aa1  : PosPDB2  Aa2 texto   RMSD\n",
      "0    B200  LEU  :    D200  LEU  RMS:  0.260\n",
      "1    B201  LEU  :    D201  LEU  RMS:  0.337\n",
      "2    B202  LYS  :    D202  LYS  RMS:  0.488\n",
      "3    B203  HIS  :    D203  HIS  RMS:  0.472\n",
      "PHE\n",
      "  PosPDB1  Aa1  : PosPDB2  Aa2 texto   RMSD\n",
      "0    B204  PHE  :    D204  PHE  RMS:  0.396\n",
      "1    B205  HIS  :    D205  HIS  RMS:  0.368\n",
      "2    B206  TYR  :    D206  TYR  RMS:  0.479\n",
      "3    B207  THR  :    D207  THR  RMS:  1.009\n",
      "LEU\n",
      "  PosPDB1  Aa1  : PosPDB2  Aa2 texto   RMSD\n",
      "0    B208  LEU  :    D208  LEU  RMS:  0.591\n",
      "1    B209  GLN  :    D209  GLN  RMS:  0.622\n",
      "2    B210  LYS  :    D210  LYS  RMS:  1.671\n",
      "3    B211  ASP  :    D211  ASP  RMS:  1.836\n",
      "LYS\n",
      "  PosPDB1  Aa1  : PosPDB2  Aa2 texto   RMSD\n",
      "0    B212  LYS  :    D212  LYS  RMS:  2.708\n",
      "1    B214  SER  :    D214  SER  RMS:  0.872\n",
      "2    B215  ILE  :    D215  ILE  RMS:  0.804\n",
      "3    B216  CYS  :    D216  CYS  RMS:  0.265\n",
      "VAL\n",
      "  PosPDB1  Aa1  : PosPDB2  Aa2 texto   RMSD\n",
      "0    B217  VAL  :    D217  VAL  RMS:  0.402\n",
      "1    B218  SER  :    D218  SER  RMS:  0.482\n",
      "2    B219  GLY  :    D219  GLY  RMS:  0.442\n",
      "3    B220  GLY  :    D220  GLY  RMS:  0.489\n",
      "GLY\n",
      "  PosPDB1  Aa1  : PosPDB2  Aa2 texto   RMSD\n",
      "0    B221  GLY  :    D221  GLY  RMS:  0.421\n",
      "1    B222  LYS  :    D222  LYS  RMS:  0.414\n",
      "2    B223  LEU  :    D223  LEU  RMS:  0.334\n",
      "3    B224  LYS  :    D224  LYS  RMS:  0.386\n",
      "ALA\n",
      "  PosPDB1  Aa1  : PosPDB2  Aa2 texto   RMSD\n",
      "0    B225  ALA  :    D225  ALA  RMS:  0.313\n",
      "1    B226  ASN  :    D226  ASN  RMS:  0.319\n",
      "2    B227  ASP  :    D227  ASP  RMS:  0.321\n",
      "3    B228  ILE  :    D228  ILE  RMS:  0.196\n",
      "SER\n",
      "  PosPDB1  Aa1  : PosPDB2  Aa2 texto   RMSD\n",
      "0    B229  SER  :    D229  SER  RMS:  0.315\n",
      "1    B230  ILE  :    D230  ILE  RMS:  0.298\n",
      "2    B231  PRO  :    D231  PRO  RMS:  0.276\n",
      "3    B232  GLY  :    D232  GLY  RMS:  0.286\n",
      "ASP\n",
      "  PosPDB1  Aa1  : PosPDB2  Aa2 texto   RMSD\n",
      "0    B233  ASP  :    D233  ASP  RMS:  0.291\n",
      "1    B234  ILE  :    D234  ILE  RMS:  0.261\n",
      "2    B235  SER  :    D235  SER  RMS:  0.241\n",
      "3    B236  SER  :    D236  SER  RMS:  0.184\n",
      "ALA\n",
      "  PosPDB1  Aa1  : PosPDB2  Aa2 texto   RMSD\n",
      "0    B237  ALA  :    D237  ALA  RMS:  0.148\n",
      "1    B238  ALA  :    D238  ALA  RMS:  0.155\n",
      "2    B239  PHE  :    D239  PHE  RMS:  0.120\n",
      "3    B240  PHE  :    D240  PHE  RMS:  0.134\n",
      "ILE\n",
      "  PosPDB1  Aa1  : PosPDB2  Aa2 texto   RMSD\n",
      "0    B241  ILE  :    D241  ILE  RMS:  0.227\n",
      "1    B242  VAL  :    D242  VAL  RMS:  0.134\n",
      "2    B243  ALA  :    D243  ALA  RMS:  0.128\n",
      "3    B244  ALA  :    D244  ALA  RMS:  0.240\n",
      "THR\n",
      "  PosPDB1  Aa1  : PosPDB2  Aa2 texto   RMSD\n",
      "0    B245  THR  :    D245  THR  RMS:  0.221\n",
      "1    B246  ILE  :    D246  ILE  RMS:  0.163\n",
      "2    B247  THR  :    D247  THR  RMS:  0.361\n",
      "3    B248  PRO  :    D248  PRO  RMS:  0.448\n",
      "GLY\n",
      "  PosPDB1  Aa1  : PosPDB2  Aa2 texto   RMSD\n",
      "0    B249  GLY  :    D249  GLY  RMS:  0.645\n",
      "1    B250  SER  :    D250  SER  RMS:  0.502\n",
      "2    B251  ALA  :    D251  ALA  RMS:  0.530\n",
      "3    B252  ILE  :    D252  ILE  RMS:  0.385\n",
      "ARG\n",
      "  PosPDB1  Aa1  : PosPDB2  Aa2 texto   RMSD\n",
      "0    B253  ARG  :    D253  ARG  RMS:  0.418\n",
      "1    B254  LEU  :    D254  LEU  RMS:  0.332\n",
      "2    B255  CYS  :    D255  CYS  RMS:  0.367\n",
      "3    B256  ARG  :    D256  ARG  RMS:  0.396\n",
      "VAL\n",
      "  PosPDB1  Aa1  : PosPDB2  Aa2 texto   RMSD\n",
      "0    B257  VAL  :    D257  VAL  RMS:  0.449\n",
      "1    B258  GLY  :    D258  GLY  RMS:  0.386\n",
      "2    B259  VAL  :    D259  VAL  RMS:  0.346\n",
      "3    B260  ASN  :    D260  ASN  RMS:  0.253\n",
      "PRO\n",
      "  PosPDB1  Aa1  : PosPDB2  Aa2 texto   RMSD\n",
      "0    B261  PRO  :    D261  PRO  RMS:  0.216\n",
      "1    B262  THR  :    D262  THR  RMS:  0.186\n",
      "2    B263  ARG  :    D263  ARG  RMS:  0.161\n",
      "3    B264  LEU  :    D264  LEU  RMS:  0.263\n",
      "GLY\n",
      "  PosPDB1  Aa1  : PosPDB2  Aa2 texto   RMSD\n",
      "0    B265  GLY  :    D265  GLY  RMS:  0.349\n",
      "1    B266  VAL  :    D266  VAL  RMS:  0.300\n",
      "2    B267  ILE  :    D267  ILE  RMS:  0.293\n",
      "3    B268  ASN  :    D268  ASN  RMS:  0.399\n",
      "LEU\n",
      "  PosPDB1  Aa1  : PosPDB2  Aa2 texto   RMSD\n",
      "0    B269  LEU  :    D269  LEU  RMS:  0.331\n",
      "1    B270  LEU  :    D270  LEU  RMS:  0.290\n",
      "2    B271  LYS  :    D271  LYS  RMS:  0.358\n",
      "3    B272  MET  :    D272  MET  RMS:  0.340\n",
      "MET\n",
      "  PosPDB1  Aa1  : PosPDB2  Aa2 texto   RMSD\n",
      "0    B273  MET  :    D273  MET  RMS:  0.241\n",
      "1    B274  GLY  :    D274  GLY  RMS:  0.356\n",
      "2    B275  ALA  :    D275  ALA  RMS:  0.348\n",
      "3    B276  ASP  :    D276  ASP  RMS:  0.453\n",
      "ILE\n",
      "  PosPDB1  Aa1  : PosPDB2  Aa2 texto   RMSD\n",
      "0    B277  ILE  :    D277  ILE  RMS:  0.452\n",
      "1    B278  GLU  :    D278  GLU  RMS:  0.685\n",
      "2    B279  VAL  :    D279  VAL  RMS:  0.805\n",
      "3    B280  THR  :    D280  THR  RMS:  0.916\n",
      "HIS\n",
      "  PosPDB1  Aa1  : PosPDB2  Aa2 texto   RMSD\n",
      "0    B281  HIS  :    D281  HIS  RMS:  0.401\n",
      "1    B282  TYR  :    D282  TYR  RMS:  0.792\n",
      "2    B283  THR  :    D283  THR  RMS:  0.810\n",
      "3    B284  GLU  :    D284  GLU  RMS:  1.245\n",
      "LYS\n",
      "  PosPDB1  Aa1  : PosPDB2  Aa2 texto   RMSD\n",
      "0    B285  LYS  :    D286  ASN  RMS:  0.579\n",
      "1    B287  GLU  :    D287  GLU  RMS:  2.332\n",
      "2    B288  GLU  :    D288  GLU  RMS:  0.442\n",
      "3    B289  PRO  :    D289  PRO  RMS:  0.412\n",
      "THR\n",
      "  PosPDB1  Aa1  : PosPDB2  Aa2 texto   RMSD\n",
      "0    B290  THR  :    D290  THR  RMS:  0.568\n",
      "1    B291  ALA  :    D291  ALA  RMS:  0.610\n",
      "2    B292  ASP  :    D292  ASP  RMS:  0.536\n",
      "3    B293  ILE  :    D293  ILE  RMS:  0.522\n",
      "THR\n",
      "  PosPDB1  Aa1  : PosPDB2  Aa2 texto   RMSD\n",
      "0    B294  THR  :    D294  THR  RMS:  0.510\n",
      "1    B295  VAL  :    D295  VAL  RMS:  0.474\n",
      "2    B296  ARG  :    D296  ARG  RMS:  0.433\n",
      "3    B297  HIS  :    D297  HIS  RMS:  0.401\n",
      "ALA\n",
      "  PosPDB1  Aa1  : PosPDB2  Aa2 texto   RMSD\n",
      "0    B298  ALA  :    D298  ALA  RMS:  0.372\n",
      "1    B299  ARG  :    D299  ARG  RMS:  0.399\n",
      "2    B300  LEU  :    D300  LEU  RMS:  0.324\n",
      "3    B301  LYS  :    D301  LYS  RMS:  0.339\n",
      "GLY\n",
      "  PosPDB1  Aa1  : PosPDB2  Aa2 texto   RMSD\n",
      "0    B302  GLY  :    D302  GLY  RMS:  0.256\n",
      "1    B303  ILE  :    D303  ILE  RMS:  0.428\n",
      "2    B304  ASP  :    D304  ASP  RMS:  0.416\n",
      "3    B305  ILE  :    D305  ILE  RMS:  0.499\n",
      "PRO\n",
      "  PosPDB1  Aa1  : PosPDB2  Aa2 texto   RMSD\n",
      "0    B306  PRO  :    D306  PRO  RMS:  0.896\n",
      "1    B307  PRO  :    D307  PRO  RMS:  0.840\n",
      "2    B308  ASP  :    D308  ASP  RMS:  0.769\n",
      "3    B309  GLN  :    D309  GLN  RMS:  0.601\n",
      "VAL\n",
      "  PosPDB1  Aa1  : PosPDB2  Aa2 texto   RMSD\n",
      "0    B310  VAL  :    D310  VAL  RMS:  0.590\n",
      "1    B311  PRO  :    D311  PRO  RMS:  0.545\n",
      "2    B312  LEU  :    D312  LEU  RMS:  0.331\n",
      "3    B313  THR  :    D313  THR  RMS:  0.310\n",
      "ILE\n",
      "  PosPDB1  Aa1  : PosPDB2  Aa2 texto   RMSD\n",
      "0    B314  ILE  :    D314  ILE  RMS:  0.341\n",
      "1    B315  ASP  :    D315  ASP  RMS:  0.280\n",
      "2    B316  GLU  :    D316  GLU  RMS:  0.234\n",
      "3    B317  PHE  :    D317  PHE  RMS:  0.213\n",
      "PRO\n",
      "  PosPDB1  Aa1  : PosPDB2  Aa2 texto   RMSD\n",
      "0    B318  PRO  :    D318  PRO  RMS:  0.142\n",
      "1    B319  VAL  :    D319  VAL  RMS:  0.069\n",
      "2    B320  LEU  :    D320  LEU  RMS:  0.124\n",
      "3    B321  LEU  :    D321  LEU  RMS:  0.063\n",
      "ILE\n",
      "  PosPDB1  Aa1  : PosPDB2  Aa2 texto   RMSD\n",
      "0    B322  ILE  :    D322  ILE  RMS:  0.059\n",
      "1    B323  ALA  :    D323  ALA  RMS:  0.122\n",
      "2    B324  ALA  :    D324  ALA  RMS:  0.113\n",
      "3    B325  ALA  :    D325  ALA  RMS:  0.111\n",
      "VAL\n",
      "  PosPDB1  Aa1  : PosPDB2  Aa2 texto   RMSD\n",
      "0    B326  VAL  :    D326  VAL  RMS:  0.231\n",
      "1    B327  ALA  :    D327  ALA  RMS:  0.281\n",
      "2    B328  GLN  :    D328  GLN  RMS:  0.277\n",
      "3    B329  GLY  :    D329  GLY  RMS:  0.229\n",
      "LYS\n",
      "  PosPDB1  Aa1  : PosPDB2  Aa2 texto   RMSD\n",
      "0    B330  LYS  :    D330  LYS  RMS:  0.105\n",
      "1    B331  THR  :    D331  THR  RMS:  0.222\n",
      "2    B332  VAL  :    D332  VAL  RMS:  0.283\n",
      "3    B333  LEU  :    D333  LEU  RMS:  0.382\n",
      "ARG\n",
      "  PosPDB1  Aa1  : PosPDB2  Aa2 texto   RMSD\n",
      "0    B334  ARG  :    D334  ARG  RMS:  0.436\n",
      "1    B335  ASP  :    D335  ASP  RMS:  0.467\n",
      "2    B336  ALA  :    D336  ALA  RMS:  0.416\n",
      "3    B337  ALA  :    D337  ALA  RMS:  0.480\n",
      "GLU\n",
      "  PosPDB1  Aa1  : PosPDB2  Aa2 texto   RMSD\n",
      "0    B338  GLU  :    D338  GLU  RMS:  0.360\n",
      "1    B339  LEU  :    D339  LEU  RMS:  0.340\n",
      "2    B340  ARG  :    D340  ARG  RMS:  0.328\n",
      "3    B341  VAL  :    D341  VAL  RMS:  0.209\n",
      "LYS\n",
      "  PosPDB1  Aa1  : PosPDB2  Aa2 texto   RMSD\n",
      "0    B342  LYS  :    D342  LYS  RMS:  0.241\n",
      "1    B343  GLU  :    D343  GLU  RMS:  0.245\n",
      "2    B344  THR  :    D344  THR  RMS:  0.282\n",
      "3    B345  ASP  :    D345  ASP  RMS:  0.293\n",
      "ARG\n",
      "  PosPDB1  Aa1  : PosPDB2  Aa2 texto   RMSD\n",
      "0    B346  ARG  :    D346  ARG  RMS:  0.240\n",
      "1    B347  ILE  :    D347  ILE  RMS:  0.256\n",
      "2    B348  ALA  :    D348  ALA  RMS:  0.263\n",
      "3    B349  ALA  :    D349  ALA  RMS:  0.226\n",
      "MET\n",
      "  PosPDB1  Aa1  : PosPDB2  Aa2 texto   RMSD\n",
      "0    B350  MET  :    D350  MET  RMS:  0.196\n",
      "1    B351  VAL  :    D351  VAL  RMS:  0.279\n",
      "2    B352  ASP  :    D352  ASP  RMS:  0.297\n",
      "3    B353  GLY  :    D353  GLY  RMS:  0.228\n",
      "LEU\n",
      "  PosPDB1  Aa1  : PosPDB2  Aa2 texto   RMSD\n",
      "0    B354  LEU  :    D354  LEU  RMS:  0.139\n",
      "1    B355  GLN  :    D355  GLN  RMS:  0.267\n",
      "2    B356  LYS  :    D356  LYS  RMS:  0.319\n",
      "3    B357  LEU  :    D357  LEU  RMS:  0.299\n",
      "GLY\n",
      "  PosPDB1  Aa1  : PosPDB2  Aa2 texto   RMSD\n",
      "0    B358  GLY  :    D358  GLY  RMS:  0.273\n",
      "1    B359  ILE  :    D359  ILE  RMS:  0.155\n",
      "2    B360  ALA  :    D360  ALA  RMS:  0.183\n",
      "3    B361  ALA  :    D361  ALA  RMS:  0.303\n",
      "GLU\n",
      "  PosPDB1  Aa1  : PosPDB2  Aa2 texto   RMSD\n",
      "0    B362  GLU  :    D362  GLU  RMS:  0.550\n",
      "1    B363  SER  :    D363  SER  RMS:  0.512\n",
      "2    B364  LEU  :    D364  LEU  RMS:  0.516\n",
      "3    B365  PRO  :    D365  PRO  RMS:  0.583\n",
      "ASP\n",
      "  PosPDB1  Aa1  : PosPDB2  Aa2 texto   RMSD\n",
      "0    B366  ASP  :    D366  ASP  RMS:  0.570\n",
      "1    B367  GLY  :    D367  GLY  RMS:  0.503\n",
      "2    B368  VAL  :    D368  VAL  RMS:  0.490\n",
      "3    B369  ILE  :    D369  ILE  RMS:  0.268\n",
      "ILE\n",
      "  PosPDB1  Aa1  : PosPDB2  Aa2 texto   RMSD\n",
      "0    B370  ILE  :    D370  ILE  RMS:  0.206\n",
      "1    B371  GLN  :    D371  GLN  RMS:  0.211\n",
      "2    B372  GLY  :    D372  GLY  RMS:  0.248\n",
      "3    B373  GLY  :    D373  GLY  RMS:  0.245\n",
      "THR\n",
      "  PosPDB1  Aa1  : PosPDB2  Aa2 texto   RMSD\n",
      "0    B374  THR  :    D374  THR  RMS:  0.439\n",
      "1    B375  LEU  :    D375  LEU  RMS:  0.370\n",
      "2    B376  GLU  :    D376  GLU  RMS:  0.409\n",
      "3    B377  GLY  :    D377  GLY  RMS:  0.447\n",
      "GLY\n",
      "  PosPDB1  Aa1  : PosPDB2  Aa2 texto   RMSD\n",
      "0    B378  GLY  :    D378  GLY  RMS:  0.477\n",
      "1    B379  GLU  :    D379  GLU  RMS:  0.453\n",
      "2    B380  VAL  :    D380  VAL  RMS:  0.364\n",
      "3    B381  ASN  :    D381  ASN  RMS:  0.410\n",
      "SER\n",
      "  PosPDB1  Aa1  : PosPDB2  Aa2 texto   RMSD\n",
      "0    B382  SER  :    D382  SER  RMS:  0.374\n",
      "1    B383  TYR  :    D383  TYR  RMS:  0.313\n",
      "2    B384  ASP  :    D384  ASP  RMS:  0.317\n",
      "3    B385  ASP  :    D385  ASP  RMS:  0.297\n",
      "HIS\n",
      "  PosPDB1  Aa1  : PosPDB2  Aa2 texto   RMSD\n",
      "0    B386  HIS  :    D386  HIS  RMS:  0.261\n",
      "1    B387  ARG  :    D387  ARG  RMS:  0.204\n",
      "2    B388  ILE  :    D388  ILE  RMS:  0.227\n",
      "3    B389  ALA  :    D389  ALA  RMS:  0.198\n",
      "MET\n",
      "  PosPDB1  Aa1  : PosPDB2  Aa2 texto   RMSD\n",
      "0    B390  MET  :    D390  MET  RMS:  0.141\n",
      "1    B391  ALA  :    D391  ALA  RMS:  0.089\n",
      "2    B392  PHE  :    D392  PHE  RMS:  0.181\n",
      "3    B393  ALA  :    D393  ALA  RMS:  0.183\n",
      "VAL\n",
      "  PosPDB1  Aa1  : PosPDB2  Aa2 texto   RMSD\n",
      "0    B394  VAL  :    D394  VAL  RMS:  0.115\n",
      "1    B395  ALA  :    D395  ALA  RMS:  0.178\n",
      "2    B396  GLY  :    D396  GLY  RMS:  0.264\n",
      "3    B397  THR  :    D397  THR  RMS:  0.281\n",
      "LEU\n",
      "  PosPDB1  Aa1  : PosPDB2  Aa2 texto   RMSD\n",
      "0    B398  LEU  :    D398  LEU  RMS:  0.309\n",
      "1    B399  ALA  :    D399  ALA  RMS:  0.339\n",
      "2    B400  LYS  :    D400  LYS  RMS:  0.567\n",
      "3    B401  GLY  :    D401  GLY  RMS:  0.429\n",
      "PRO\n",
      "  PosPDB1  Aa1  : PosPDB2  Aa2 texto   RMSD\n",
      "0    B402  PRO  :    D402  PRO  RMS:  0.501\n",
      "1    B403  VAL  :    D403  VAL  RMS:  0.403\n",
      "2    B404  ARG  :    D404  ARG  RMS:  0.428\n",
      "3    B405  ILE  :    D405  ILE  RMS:  0.411\n",
      "ARG\n",
      "  PosPDB1  Aa1  : PosPDB2  Aa2 texto   RMSD\n",
      "0    B406  ARG  :    D406  ARG  RMS:  0.497\n",
      "1    B407  ASN  :    D407  ASN  RMS:  0.568\n",
      "2    B408  CYS  :    D408  CYS  RMS:  0.276\n",
      "3    B409  ASP  :    D409  ASP  RMS:  0.338\n",
      "ASN\n",
      "  PosPDB1  Aa1  : PosPDB2  Aa2 texto   RMSD\n",
      "0    B410  ASN  :    D410  ASN  RMS:  0.315\n",
      "1    B411  VAL  :    D411  VAL  RMS:  0.187\n",
      "2    B412  LYS  :    D412  LYS  RMS:  0.382\n",
      "3    B413  THR  :    D413  THR  RMS:  0.290\n",
      "SER\n",
      "  PosPDB1  Aa1  : PosPDB2  Aa2 texto   RMSD\n",
      "0    B414  SER  :    D414  SER  RMS:  0.284\n",
      "1    B415  PHE  :    D415  PHE  RMS:  0.197\n",
      "2    B416  PRO  :    D416  PRO  RMS:  0.289\n",
      "3    B417  ASN  :    D417  ASN  RMS:  0.253\n",
      "PHE\n",
      "  PosPDB1  Aa1  : PosPDB2  Aa2 texto   RMSD\n",
      "0    B418  PHE  :    D418  PHE  RMS:  0.165\n",
      "1    B419  VAL  :    D419  VAL  RMS:  0.185\n",
      "2    B420  GLU  :    D420  GLU  RMS:  0.212\n",
      "3    B421  LEU  :    D421  LEU  RMS:  0.195\n",
      "ALA\n",
      "  PosPDB1  Aa1  : PosPDB2  Aa2 texto   RMSD\n",
      "0    B422  ALA  :    D422  ALA  RMS:  0.121\n",
      "1    B423  ASN  :    D423  ASN  RMS:  0.154\n",
      "2    B424  GLU  :    D424  GLU  RMS:  0.209\n",
      "3    B425  VAL  :    D425  VAL  RMS:  0.284\n",
      "GLY\n",
      "  PosPDB1  Aa1  : PosPDB2  Aa2 texto   RMSD\n",
      "0    B426  GLY  :    D426  GLY  RMS:  0.212\n",
      "1    B427  MET  :    D427  MET  RMS:  0.182\n",
      "2    B428  ASN  :    D428  ASN  RMS:  0.260\n",
      "3    B429  VAL  :    D429  VAL  RMS:  0.319\n",
      "LYS\n",
      "  PosPDB1  Aa1  : PosPDB2  Aa2 texto   RMSD\n",
      "0    B430  LYS  :    D430  LYS  RMS:  0.612\n",
      "1    B431  GLY  :    D431  GLY  RMS:  0.455\n",
      "2    B432  VAL  :    D432  VAL  RMS:  0.483\n",
      "3    B433  ARG  :    D433  ARG  RMS:  0.563\n",
      "GLY\n",
      "  PosPDB1  Aa1  : PosPDB2  Aa2 texto   RMSD\n",
      "0    B434  GLY  :    D434  GLY  RMS:  0.445\n",
      "1    B435  ARG  :    D435  ARG  RMS:  1.224\n",
      "2    B436  GLY  :    D436  GLY  RMS:  2.018\n"
     ]
    }
   ],
   "source": [
    "#Leer un archivo por pedazos\n",
    "for chunk in pd.read_csv(\"Ejercicio_III/RMS-res_3SLH_B-3SLH_D.txt\", chunksize=4, iterator=True, sep=\"\\s+\", names=['PosPDB1','Aa1',':','PosPDB2','Aa2','texto','RMSD']):\n",
    "    print(chunk[\"Aa1\"].loc[0]) #Con .loc accedemos al valor por row de la columna 'Aa1' en este caso\n",
    "    print(chunk)"
   ]
  },
  {
   "cell_type": "markdown",
   "metadata": {},
   "source": [
    "Mas informacion:\n",
    "\n",
    "https://pandas.pydata.org/pandas-docs/stable/generated/pandas.read_csv.html\n",
    "\n",
    "https://pandas.pydata.org/pandas-docs/stable/generated/pandas.read_table.html\n",
    "\n",
    "http://sdsawtelle.github.io/blog/output/large-data-files-pandas-sqlite.html\n",
    "\n",
    "https://pandas.pydata.org/pandas-docs/stable/generated/pandas.DataFrame.iloc.html\n",
    "\n",
    "https://stackoverflow.com/questions/31593201/pandas-iloc-vs-ix-vs-loc-explanation"
   ]
  },
  {
   "cell_type": "markdown",
   "metadata": {},
   "source": [
    "**Podemos quitar las columnas que no sirven:**"
   ]
  },
  {
   "cell_type": "code",
   "execution_count": 5,
   "metadata": {
    "collapsed": true,
    "jupyter": {
     "outputs_hidden": true
    }
   },
   "outputs": [],
   "source": [
    "del tabla[':']"
   ]
  },
  {
   "cell_type": "code",
   "execution_count": 6,
   "metadata": {},
   "outputs": [
    {
     "data": {
      "text/html": [
       "<div>\n",
       "<table border=\"1\" class=\"dataframe\">\n",
       "  <thead>\n",
       "    <tr style=\"text-align: right;\">\n",
       "      <th></th>\n",
       "      <th>PosPDB1</th>\n",
       "      <th>Aa1</th>\n",
       "      <th>PosPDB2</th>\n",
       "      <th>Aa2</th>\n",
       "      <th>texto</th>\n",
       "      <th>RMSD</th>\n",
       "    </tr>\n",
       "  </thead>\n",
       "  <tbody>\n",
       "    <tr>\n",
       "      <th>0</th>\n",
       "      <td>B1</td>\n",
       "      <td>MET</td>\n",
       "      <td>D1</td>\n",
       "      <td>MET</td>\n",
       "      <td>RMS:</td>\n",
       "      <td>0.373</td>\n",
       "    </tr>\n",
       "    <tr>\n",
       "      <th>1</th>\n",
       "      <td>B2</td>\n",
       "      <td>ASP</td>\n",
       "      <td>D2</td>\n",
       "      <td>ASP</td>\n",
       "      <td>RMS:</td>\n",
       "      <td>0.475</td>\n",
       "    </tr>\n",
       "  </tbody>\n",
       "</table>\n",
       "</div>"
      ],
      "text/plain": [
       "  PosPDB1  Aa1 PosPDB2  Aa2 texto   RMSD\n",
       "0      B1  MET      D1  MET  RMS:  0.373\n",
       "1      B2  ASP      D2  ASP  RMS:  0.475"
      ]
     },
     "execution_count": 6,
     "metadata": {},
     "output_type": "execute_result"
    }
   ],
   "source": [
    "#Fijense que podemos especificar el numero de row que deseamos qu enos muestre simplemente agregando el numero entre parentesis\n",
    "#Por default siempre nos muestra el header y 5 rows\n",
    "tabla.head(2)"
   ]
  },
  {
   "cell_type": "code",
   "execution_count": 7,
   "metadata": {},
   "outputs": [],
   "source": [
    "del tabla['texto']"
   ]
  },
  {
   "cell_type": "code",
   "execution_count": 8,
   "metadata": {},
   "outputs": [
    {
     "data": {
      "text/html": [
       "<div>\n",
       "<table border=\"1\" class=\"dataframe\">\n",
       "  <thead>\n",
       "    <tr style=\"text-align: right;\">\n",
       "      <th></th>\n",
       "      <th>PosPDB1</th>\n",
       "      <th>Aa1</th>\n",
       "      <th>PosPDB2</th>\n",
       "      <th>Aa2</th>\n",
       "      <th>RMSD</th>\n",
       "    </tr>\n",
       "  </thead>\n",
       "  <tbody>\n",
       "    <tr>\n",
       "      <th>0</th>\n",
       "      <td>B1</td>\n",
       "      <td>MET</td>\n",
       "      <td>D1</td>\n",
       "      <td>MET</td>\n",
       "      <td>0.373</td>\n",
       "    </tr>\n",
       "    <tr>\n",
       "      <th>1</th>\n",
       "      <td>B2</td>\n",
       "      <td>ASP</td>\n",
       "      <td>D2</td>\n",
       "      <td>ASP</td>\n",
       "      <td>0.475</td>\n",
       "    </tr>\n",
       "    <tr>\n",
       "      <th>2</th>\n",
       "      <td>B3</td>\n",
       "      <td>TYR</td>\n",
       "      <td>D3</td>\n",
       "      <td>TYR</td>\n",
       "      <td>0.390</td>\n",
       "    </tr>\n",
       "    <tr>\n",
       "      <th>3</th>\n",
       "      <td>B4</td>\n",
       "      <td>GLN</td>\n",
       "      <td>D4</td>\n",
       "      <td>GLN</td>\n",
       "      <td>0.446</td>\n",
       "    </tr>\n",
       "  </tbody>\n",
       "</table>\n",
       "</div>"
      ],
      "text/plain": [
       "  PosPDB1  Aa1 PosPDB2  Aa2   RMSD\n",
       "0      B1  MET      D1  MET  0.373\n",
       "1      B2  ASP      D2  ASP  0.475\n",
       "2      B3  TYR      D3  TYR  0.390\n",
       "3      B4  GLN      D4  GLN  0.446"
      ]
     },
     "execution_count": 8,
     "metadata": {},
     "output_type": "execute_result"
    }
   ],
   "source": [
    "tabla.head(4)"
   ]
  },
  {
   "cell_type": "markdown",
   "metadata": {},
   "source": [
    "**Podriamos por ejemplo tomar ciertos intervalos de caracteres en el texto para deteriminar las columnas:**"
   ]
  },
  {
   "cell_type": "code",
   "execution_count": 4,
   "metadata": {},
   "outputs": [
    {
     "data": {
      "text/html": [
       "<div>\n",
       "<table border=\"1\" class=\"dataframe\">\n",
       "  <thead>\n",
       "    <tr style=\"text-align: right;\">\n",
       "      <th></th>\n",
       "      <th>PosPDB1</th>\n",
       "      <th>Aa1</th>\n",
       "      <th>PosPDB2</th>\n",
       "      <th>Aa2</th>\n",
       "      <th>RMSD</th>\n",
       "    </tr>\n",
       "  </thead>\n",
       "  <tbody>\n",
       "    <tr>\n",
       "      <th>0</th>\n",
       "      <td>B0</td>\n",
       "      <td>ALA</td>\n",
       "      <td>D0</td>\n",
       "      <td>ALA</td>\n",
       "      <td>0.700</td>\n",
       "    </tr>\n",
       "    <tr>\n",
       "      <th>1</th>\n",
       "      <td>B1</td>\n",
       "      <td>MET</td>\n",
       "      <td>D1</td>\n",
       "      <td>MET</td>\n",
       "      <td>0.373</td>\n",
       "    </tr>\n",
       "    <tr>\n",
       "      <th>2</th>\n",
       "      <td>B2</td>\n",
       "      <td>ASP</td>\n",
       "      <td>D2</td>\n",
       "      <td>ASP</td>\n",
       "      <td>0.475</td>\n",
       "    </tr>\n",
       "    <tr>\n",
       "      <th>3</th>\n",
       "      <td>B3</td>\n",
       "      <td>TYR</td>\n",
       "      <td>D3</td>\n",
       "      <td>TYR</td>\n",
       "      <td>0.390</td>\n",
       "    </tr>\n",
       "    <tr>\n",
       "      <th>4</th>\n",
       "      <td>B4</td>\n",
       "      <td>GLN</td>\n",
       "      <td>D4</td>\n",
       "      <td>GLN</td>\n",
       "      <td>0.446</td>\n",
       "    </tr>\n",
       "  </tbody>\n",
       "</table>\n",
       "</div>"
      ],
      "text/plain": [
       "  PosPDB1  Aa1 PosPDB2  Aa2   RMSD\n",
       "0      B0  ALA      D0  ALA  0.700\n",
       "1      B1  MET      D1  MET  0.373\n",
       "2      B2  ASP      D2  ASP  0.475\n",
       "3      B3  TYR      D3  TYR  0.390\n",
       "4      B4  GLN      D4  GLN  0.446"
      ]
     },
     "execution_count": 4,
     "metadata": {},
     "output_type": "execute_result"
    }
   ],
   "source": [
    "import pandas as pd\n",
    "tabla = pd.read_fwf(\"~/Descargas/Workshop_leloir_2018/Ejercicio_III/RMS-res_3SLH_B-3SLH_D.txt\", colspecs=[(3,9),(9,12),(19,25),(25,28),(38,44)], names=['PosPDB1','Aa1','PosPDB2','Aa2','RMSD'])\n",
    "tabla.head()"
   ]
  },
  {
   "cell_type": "markdown",
   "metadata": {},
   "source": [
    "**Operando con las columnas**\n",
    "\n",
    "+ Accedemos a cada columna haciendo df['nombre de la columna'] (donde df es el nombre génerico para designar DataFrame, en nuestro caso por ejemplo hacemos:\n",
    "``` python\n",
    "tabla['nombre de la columna']\n",
    "```\n",
    "**¿Podés imprimir la columna de los RMSD de nuestra tabla?**"
   ]
  },
  {
   "cell_type": "code",
   "execution_count": null,
   "metadata": {
    "collapsed": true,
    "jupyter": {
     "outputs_hidden": true
    }
   },
   "outputs": [],
   "source": []
  },
  {
   "cell_type": "markdown",
   "metadata": {},
   "source": [
    "+ Cada columna de un DataFrame es una serie de datos al que podemos acceder como una lista:\n",
    "``` python\n",
    "df['columna'].tolist()\n",
    "```\n",
    "**Extrae la columna de los residuos de la estructura 1 como una lista y guardala en una variable denominada 'residuos':**"
   ]
  },
  {
   "cell_type": "code",
   "execution_count": null,
   "metadata": {
    "collapsed": true,
    "jupyter": {
     "outputs_hidden": true
    }
   },
   "outputs": [],
   "source": []
  },
  {
   "cell_type": "markdown",
   "metadata": {},
   "source": [
    "+ Podemos conocer la longitud de nuestro DataFrame utiizando la misma función len() que hemos visto para listas y strings:\n",
    "``` python\n",
    "len(df)\n",
    "```\n",
    "**¿Cuál es la longitud de las secuencias?**"
   ]
  },
  {
   "cell_type": "code",
   "execution_count": null,
   "metadata": {
    "collapsed": true,
    "jupyter": {
     "outputs_hidden": true
    }
   },
   "outputs": [],
   "source": []
  },
  {
   "cell_type": "markdown",
   "metadata": {},
   "source": [
    "+ Podemos operar con las columnas con los mismo operadores relacionales y matemáticos que ya hemos visto:\n",
    "``` python\n",
    "df['columna'] * 2\n",
    "df['columna'] + 2\n",
    "df['columna'] > 2  \n",
    "```          \n",
    "**¿Qué nos dá en el último caso?**"
   ]
  },
  {
   "cell_type": "code",
   "execution_count": null,
   "metadata": {
    "collapsed": true,
    "jupyter": {
     "outputs_hidden": true
    }
   },
   "outputs": [],
   "source": []
  },
  {
   "cell_type": "markdown",
   "metadata": {},
   "source": [
    "+ Podemos crear una nueva columna tomando una lista de datos del mismo tamño que nuestro dataFrame o una columna modificada:\n",
    "``` python\n",
    "df['columna nueva'] = df['columna'] * 2\n",
    "```\n",
    "**¿Podrías generar una columna cuyo valor sea el doble del valor del RMSD?**"
   ]
  },
  {
   "cell_type": "code",
   "execution_count": null,
   "metadata": {
    "collapsed": true,
    "jupyter": {
     "outputs_hidden": true
    }
   },
   "outputs": [],
   "source": []
  },
  {
   "cell_type": "markdown",
   "metadata": {},
   "source": [
    "+ Los operadores tambien nos sirven para filtrar nuestro dataFrame:\n",
    "``` python\n",
    "df[df['columna'] > 0.2 ]\n",
    "```          \n",
    "**¿Podrías mostrar solo las lineas que corresponden a LYS?**"
   ]
  },
  {
   "cell_type": "code",
   "execution_count": null,
   "metadata": {
    "collapsed": true,
    "jupyter": {
     "outputs_hidden": true
    }
   },
   "outputs": [],
   "source": []
  },
  {
   "cell_type": "markdown",
   "metadata": {},
   "source": [
    "+ Como ya vimos podemos acceder al valor de una celda haciendo:\n",
    "``` python\n",
    "df['nombre de la columna'].loc[0]\n",
    "```                \n",
    "**¿Podrías ahora mostrar los valores de RMSD de las lineas correspondientes al filtro aplicado anteriormente?**"
   ]
  },
  {
   "cell_type": "code",
   "execution_count": null,
   "metadata": {
    "collapsed": true,
    "jupyter": {
     "outputs_hidden": true
    }
   },
   "outputs": [],
   "source": []
  },
  {
   "cell_type": "markdown",
   "metadata": {},
   "source": [
    "+ Podemos concatenar dataFrames haciendo:\n",
    "\n",
    "``` python\n",
    " nuevo_df = pd.concat([df1,df2])\n",
    "```\n",
    "**¿Podrías generar un dataFrame que solo contenga la información de la tabla para las posiciones correspondientes a LYS y ARG?**"
   ]
  },
  {
   "cell_type": "code",
   "execution_count": null,
   "metadata": {
    "collapsed": true,
    "jupyter": {
     "outputs_hidden": true
    }
   },
   "outputs": [],
   "source": []
  },
  {
   "cell_type": "markdown",
   "metadata": {},
   "source": [
    "+ Podemos, también, extraer las columnas que tiene un string dado:\n",
    "             \n",
    "\n",
    "``` python\n",
    "df[df['columna'].str.contains(\"string\")]         \n",
    "```\n",
    "**Filtra la tabla original para quedarte con la linea correspondiente a la posicion 301**                "
   ]
  },
  {
   "cell_type": "code",
   "execution_count": null,
   "metadata": {
    "collapsed": true,
    "jupyter": {
     "outputs_hidden": true
    }
   },
   "outputs": [],
   "source": []
  },
  {
   "cell_type": "markdown",
   "metadata": {},
   "source": [
    "Pandas nos permite hacer una estadistica básica de nuestros dartos:"
   ]
  },
  {
   "cell_type": "code",
   "execution_count": 3,
   "metadata": {},
   "outputs": [
    {
     "data": {
      "text/html": [
       "<div>\n",
       "<table border=\"1\" class=\"dataframe\">\n",
       "  <thead>\n",
       "    <tr style=\"text-align: right;\">\n",
       "      <th></th>\n",
       "      <th>RMSD</th>\n",
       "    </tr>\n",
       "  </thead>\n",
       "  <tbody>\n",
       "    <tr>\n",
       "      <th>count</th>\n",
       "      <td>435.000000</td>\n",
       "    </tr>\n",
       "    <tr>\n",
       "      <th>mean</th>\n",
       "      <td>0.329632</td>\n",
       "    </tr>\n",
       "    <tr>\n",
       "      <th>std</th>\n",
       "      <td>0.171118</td>\n",
       "    </tr>\n",
       "    <tr>\n",
       "      <th>min</th>\n",
       "      <td>0.009000</td>\n",
       "    </tr>\n",
       "    <tr>\n",
       "      <th>25%</th>\n",
       "      <td>0.210000</td>\n",
       "    </tr>\n",
       "    <tr>\n",
       "      <th>50%</th>\n",
       "      <td>0.313000</td>\n",
       "    </tr>\n",
       "    <tr>\n",
       "      <th>75%</th>\n",
       "      <td>0.417500</td>\n",
       "    </tr>\n",
       "    <tr>\n",
       "      <th>max</th>\n",
       "      <td>0.969000</td>\n",
       "    </tr>\n",
       "  </tbody>\n",
       "</table>\n",
       "</div>"
      ],
      "text/plain": [
       "             RMSD\n",
       "count  435.000000\n",
       "mean     0.329632\n",
       "std      0.171118\n",
       "min      0.009000\n",
       "25%      0.210000\n",
       "50%      0.313000\n",
       "75%      0.417500\n",
       "max      0.969000"
      ]
     },
     "execution_count": 3,
     "metadata": {},
     "output_type": "execute_result"
    }
   ],
   "source": [
    "tabla.describe()"
   ]
  },
  {
   "cell_type": "code",
   "execution_count": 4,
   "metadata": {},
   "outputs": [
    {
     "data": {
      "text/plain": [
       "0.329632183908046"
      ]
     },
     "execution_count": 4,
     "metadata": {},
     "output_type": "execute_result"
    }
   ],
   "source": [
    "tabla['RMSD'].mean()"
   ]
  },
  {
   "cell_type": "code",
   "execution_count": 5,
   "metadata": {},
   "outputs": [
    {
     "data": {
      "text/plain": [
       "0.313"
      ]
     },
     "execution_count": 5,
     "metadata": {},
     "output_type": "execute_result"
    }
   ],
   "source": [
    "tabla['RMSD'].median()"
   ]
  },
  {
   "cell_type": "code",
   "execution_count": 6,
   "metadata": {},
   "outputs": [
    {
     "data": {
      "text/plain": [
       "0.96900000000000008"
      ]
     },
     "execution_count": 6,
     "metadata": {},
     "output_type": "execute_result"
    }
   ],
   "source": [
    "tabla['RMSD'].max()"
   ]
  },
  {
   "cell_type": "markdown",
   "metadata": {},
   "source": [
    "####EJERCICIO PRÁCTICO\n",
    "Agregar una columna nueva a la tabla que contenga el número de posición, extraído de la columna 'PosPDB1'."
   ]
  },
  {
   "cell_type": "code",
   "execution_count": null,
   "metadata": {
    "collapsed": true,
    "jupyter": {
     "outputs_hidden": true
    }
   },
   "outputs": [],
   "source": []
  },
  {
   "cell_type": "markdown",
   "metadata": {},
   "source": [
    "**Solución Propuesta**\n",
    "``` python \n",
    "tabla['Position'] = tabla['PosPDB1'].str.replace('B','')\n",
    "tabla['Position'] = tabla['Position'].convert_objects(convert_numeric=True) \n",
    "```"
   ]
  },
  {
   "cell_type": "markdown",
   "metadata": {},
   "source": [
    "**Así mismo nos permite hacer algunos gráficos (no muy lindos). Por ejemplo podemos graficar la distribución de los RMSD:**"
   ]
  },
  {
   "cell_type": "code",
   "execution_count": 2,
   "metadata": {},
   "outputs": [
    {
     "name": "stderr",
     "output_type": "stream",
     "text": [
      "/home/usuario/anaconda/lib/python2.7/site-packages/matplotlib/font_manager.py:273: UserWarning: Matplotlib is building the font cache using fc-list. This may take a moment.\n",
      "  warnings.warn('Matplotlib is building the font cache using fc-list. This may take a moment.')\n",
      "/home/usuario/anaconda/lib/python2.7/site-packages/IPython/kernel/__main__.py:5: FutureWarning: \n",
      "The default value for 'return_type' will change to 'axes' in a future release.\n",
      " To use the future behavior now, set return_type='axes'.\n",
      " To keep the previous behavior and silence this warning, set return_type='dict'.\n"
     ]
    },
    {
     "name": "stdout",
     "output_type": "stream",
     "text": [
      "Populating the interactive namespace from numpy and matplotlib\n"
     ]
    },
    {
     "data": {
      "image/png": "[encoded data removed]",
      "text/plain": [
       "<matplotlib.figure.Figure at 0x7f0b362781d0>"
      ]
     },
     "metadata": {},
     "output_type": "display_data"
    }
   ],
   "source": [
    "import matplotlib.pyplot as plt \n",
    "#Esto nos permite ver el grafico aqui mismo y no en una ventana extra\n",
    "%pylab inline\n",
    "plt.figure()\n",
    "tabla.boxplot('RMSD')\n",
    "plt.show()"
   ]
  },
  {
   "cell_type": "markdown",
   "metadata": {},
   "source": [
    "**Si quisieramos guardar el gráfico en un archivo debemos cambiar el plt.show() por:**\n",
    "\n",
    "``` python\n",
    "        plt.savefig('path_hacia_donde_lo_queremos/plot.png')\n",
    "```\n",
    "                \n",
    "                \n",
    "**Pandas nos permite agrupar los datos de nuestro dataFrame en base a los valores de una columna: por ejemplo si generamos una columna 'control' donde checkeamos si los residuos de esa posición son LYS o no, podemos saber la media de RMSD de las LYS respecto de las de los demas aminoácidos **"
   ]
  },
  {
   "cell_type": "code",
   "execution_count": 26,
   "metadata": {},
   "outputs": [
    {
     "data": {
      "text/html": [
       "<div>\n",
       "<table border=\"1\" class=\"dataframe\">\n",
       "  <thead>\n",
       "    <tr style=\"text-align: right;\">\n",
       "      <th></th>\n",
       "      <th>PosPDB1</th>\n",
       "      <th>Aa1</th>\n",
       "      <th>PosPDB2</th>\n",
       "      <th>Aa2</th>\n",
       "      <th>RMSD</th>\n",
       "      <th>control</th>\n",
       "    </tr>\n",
       "  </thead>\n",
       "  <tbody>\n",
       "    <tr>\n",
       "      <th>0</th>\n",
       "      <td>B0</td>\n",
       "      <td>ALA</td>\n",
       "      <td>D0</td>\n",
       "      <td>ALA</td>\n",
       "      <td>0.700</td>\n",
       "      <td>False</td>\n",
       "    </tr>\n",
       "    <tr>\n",
       "      <th>1</th>\n",
       "      <td>B1</td>\n",
       "      <td>MET</td>\n",
       "      <td>D1</td>\n",
       "      <td>MET</td>\n",
       "      <td>0.373</td>\n",
       "      <td>False</td>\n",
       "    </tr>\n",
       "  </tbody>\n",
       "</table>\n",
       "</div>"
      ],
      "text/plain": [
       "  PosPDB1  Aa1 PosPDB2  Aa2   RMSD control\n",
       "0      B0  ALA      D0  ALA  0.700   False\n",
       "1      B1  MET      D1  MET  0.373   False"
      ]
     },
     "execution_count": 26,
     "metadata": {},
     "output_type": "execute_result"
    }
   ],
   "source": [
    "tabla['control'] = tabla['Aa1'] == 'LYS'\n",
    "tabla.head(2)"
   ]
  },
  {
   "cell_type": "code",
   "execution_count": 27,
   "metadata": {},
   "outputs": [
    {
     "data": {
      "text/plain": [
       "control\n",
       "False    0.32632\n",
       "True     0.39835\n",
       "Name: RMSD, dtype: float64"
      ]
     },
     "execution_count": 27,
     "metadata": {},
     "output_type": "execute_result"
    }
   ],
   "source": [
    "tabla['RMSD'].groupby([tabla['control']]).mean()"
   ]
  },
  {
   "cell_type": "markdown",
   "metadata": {},
   "source": [
    "##Si hay pobreza, que no se note! /Trabajando con faltante de datos\n",
    "Cuando nustras tablas tienen faltantes de datos Pandas nos permite trabajar facilmente con ello. Salgamos un poco de nuestro ejemplo concreto y usemo un ejemplo genérico:"
   ]
  },
  {
   "cell_type": "code",
   "execution_count": 12,
   "metadata": {},
   "outputs": [],
   "source": [
    "import numpy as np\n",
    "#Creamos una tabla con valores numéricos al azar, con 5 rows (a,c,e,f y h) y 3 columnas (one, two, three)\n",
    "df = pd.DataFrame(np.random.randn(5, 3), index=['a', 'c', 'e', 'f', 'h'],columns=['one', 'two', 'three'])"
   ]
  },
  {
   "cell_type": "code",
   "execution_count": 14,
   "metadata": {},
   "outputs": [
    {
     "data": {
      "text/html": [
       "<div>\n",
       "<table border=\"1\" class=\"dataframe\">\n",
       "  <thead>\n",
       "    <tr style=\"text-align: right;\">\n",
       "      <th></th>\n",
       "      <th>one</th>\n",
       "      <th>two</th>\n",
       "      <th>three</th>\n",
       "    </tr>\n",
       "  </thead>\n",
       "  <tbody>\n",
       "    <tr>\n",
       "      <th>a</th>\n",
       "      <td>-1.681454</td>\n",
       "      <td>1.627598</td>\n",
       "      <td>0.787799</td>\n",
       "    </tr>\n",
       "    <tr>\n",
       "      <th>b</th>\n",
       "      <td>NaN</td>\n",
       "      <td>NaN</td>\n",
       "      <td>NaN</td>\n",
       "    </tr>\n",
       "    <tr>\n",
       "      <th>c</th>\n",
       "      <td>0.915813</td>\n",
       "      <td>0.122507</td>\n",
       "      <td>0.208089</td>\n",
       "    </tr>\n",
       "    <tr>\n",
       "      <th>d</th>\n",
       "      <td>NaN</td>\n",
       "      <td>NaN</td>\n",
       "      <td>NaN</td>\n",
       "    </tr>\n",
       "    <tr>\n",
       "      <th>e</th>\n",
       "      <td>-0.164543</td>\n",
       "      <td>0.568801</td>\n",
       "      <td>-0.756741</td>\n",
       "    </tr>\n",
       "    <tr>\n",
       "      <th>f</th>\n",
       "      <td>-0.296720</td>\n",
       "      <td>-1.371453</td>\n",
       "      <td>0.442910</td>\n",
       "    </tr>\n",
       "    <tr>\n",
       "      <th>g</th>\n",
       "      <td>NaN</td>\n",
       "      <td>NaN</td>\n",
       "      <td>NaN</td>\n",
       "    </tr>\n",
       "    <tr>\n",
       "      <th>h</th>\n",
       "      <td>0.756895</td>\n",
       "      <td>-0.626999</td>\n",
       "      <td>0.466716</td>\n",
       "    </tr>\n",
       "  </tbody>\n",
       "</table>\n",
       "</div>"
      ],
      "text/plain": [
       "        one       two     three\n",
       "a -1.681454  1.627598  0.787799\n",
       "b       NaN       NaN       NaN\n",
       "c  0.915813  0.122507  0.208089\n",
       "d       NaN       NaN       NaN\n",
       "e -0.164543  0.568801 -0.756741\n",
       "f -0.296720 -1.371453  0.442910\n",
       "g       NaN       NaN       NaN\n",
       "h  0.756895 -0.626999  0.466716"
      ]
     },
     "execution_count": 14,
     "metadata": {},
     "output_type": "execute_result"
    }
   ],
   "source": [
    "#Aqui reindexamos la tabla de modo que ahora nos quedan datos faltantes\n",
    "df2 = df.reindex(['a', 'b', 'c', 'd', 'e', 'f', 'g', 'h'])\n",
    "df2"
   ]
  },
  {
   "cell_type": "markdown",
   "metadata": {},
   "source": [
    "Como vemos los datos faltantes Pandas los muestra como 'NaN'. Debemos tener en cuenta que:\n",
    "        - Al sumar datos, los valores NA (faltantes) se tratarán como cero\n",
    "        - Si los datos son todos NA, el resultado será NA\n",
    "        - Los métodos como cumsum y cumprod ignoran los valores de NA, pero los preservan en las matrices resultantes\n",
    "        - Al agrupar sobre un DataFrame que contiene valores NA (con GroupBy), estos se excluyen automáticamente\n",
    "        \n",
    "**¿Cuál es el valor promedio de los valores de la columna 'one'?**"
   ]
  },
  {
   "cell_type": "code",
   "execution_count": null,
   "metadata": {},
   "outputs": [],
   "source": []
  },
  {
   "cell_type": "markdown",
   "metadata": {},
   "source": [
    "De todos modos Pandas cuenta con una función qu enos permite rellenar los valores missing con lo que deseemos (puede ser un int como 0 o un string como 'ND'). Por ejemplo podemos rellenar con ceros las celdas faltantes:\n",
    "\n",
    "``` python\n",
    "        df2.fillna(0)\n",
    "```\n",
    "\n",
    "**Rellená los valores missing con ND y filtrá el DataFrame de modo que solo se vean las lineas con datos**"
   ]
  },
  {
   "cell_type": "code",
   "execution_count": null,
   "metadata": {
    "collapsed": true,
    "jupyter": {
     "outputs_hidden": true
    }
   },
   "outputs": [],
   "source": []
  },
  {
   "cell_type": "markdown",
   "metadata": {},
   "source": [
    "##Graficos bien cool!"
   ]
  },
  {
   "cell_type": "markdown",
   "metadata": {},
   "source": [
    "Seaborn es una librería que nos permite hacer todo tipo de gráficos, muy pero muy lindos. Lo mejor de todo es que se complementa con Pandas y nos permite graficar nuestro DataFrame sin reestructuración previa de los datos."
   ]
  },
  {
   "cell_type": "code",
   "execution_count": 1,
   "metadata": {},
   "outputs": [
    {
     "name": "stderr",
     "output_type": "stream",
     "text": [
      "/home/usuario/anaconda/lib/python2.7/site-packages/matplotlib/font_manager.py:273: UserWarning: Matplotlib is building the font cache using fc-list. This may take a moment.\n",
      "  warnings.warn('Matplotlib is building the font cache using fc-list. This may take a moment.')\n",
      ":0: FutureWarning: IPython widgets are experimental and may change in the future.\n"
     ]
    },
    {
     "name": "stdout",
     "output_type": "stream",
     "text": [
      "Populating the interactive namespace from numpy and matplotlib\n"
     ]
    }
   ],
   "source": [
    "import seaborn as sns\n",
    "import matplotlib.pyplot as plt\n",
    "%pylab inline\n",
    "matplotlib.style.use('ggplot')"
   ]
  },
  {
   "cell_type": "code",
   "execution_count": 18,
   "metadata": {},
   "outputs": [
    {
     "data": {
      "text/plain": [
       "<matplotlib.axes._subplots.AxesSubplot at 0x7f0b1c3a2ed0>"
      ]
     },
     "execution_count": 18,
     "metadata": {},
     "output_type": "execute_result"
    },
    {
     "data": {
      "image/png": "[encoded data removed]",
      "text/plain": [
       "<matplotlib.figure.Figure at 0x7f0b1c406c10>"
      ]
     },
     "metadata": {},
     "output_type": "display_data"
    }
   ],
   "source": [
    "#Con set podemos elegir el estilo del grafico y las paletas\n",
    "sns.set(style=\"whitegrid\", palette=\"Paired\")\n",
    "sns.boxplot(tabla[\"RMSD\"])"
   ]
  },
  {
   "cell_type": "markdown",
   "metadata": {},
   "source": [
    "**Seaborn posee estilos o temas predeterminados, así como paletas de colores. De todos modos los colores de matplot pueden ser utilizados.**\n",
    "\n",
    "Codigos de colores: https://matplotlib.org/examples/color/named_colors.html\n",
    "\n",
    "Paletas de seaborn: https://seaborn.pydata.org/tutorial/color_palettes.html\n",
    "\n",
    "Estilos de seaborn: https://seaborn.pydata.org/tutorial/aesthetics.html"
   ]
  },
  {
   "cell_type": "code",
   "execution_count": 20,
   "metadata": {},
   "outputs": [
    {
     "data": {
      "text/plain": [
       "<matplotlib.text.Text at 0x7f0b1c292910>"
      ]
     },
     "execution_count": 20,
     "metadata": {},
     "output_type": "execute_result"
    },
    {
     "data": {
      "image/png": "[encoded data removed]",
      "text/plain": [
       "<matplotlib.figure.Figure at 0x7f0b1c22de10>"
      ]
     },
     "metadata": {},
     "output_type": "display_data"
    }
   ],
   "source": [
    "sns.despine(left=True) \n",
    "#Seteamos la paleta de colores y el estilo\n",
    "sns.set(style=\"darkgrid\")\n",
    "ax = sns.swarmplot(x=\"RMSD\", data=tabla, color=\".25\")\n",
    "#Podemos setear el tamaño de letra de \n",
    "ax.set_xlabel('RMSD', fontsize=12)"
   ]
  },
  {
   "cell_type": "code",
   "execution_count": 23,
   "metadata": {},
   "outputs": [
    {
     "data": {
      "text/plain": [
       "<matplotlib.text.Text at 0x7f0b1c066c10>"
      ]
     },
     "execution_count": 23,
     "metadata": {},
     "output_type": "execute_result"
    },
    {
     "data": {
      "image/png": "[encoded data removed]",
      "text/plain": [
       "<matplotlib.figure.Figure at 0x7f0b1bff7850>"
      ]
     },
     "metadata": {},
     "output_type": "display_data"
    }
   ],
   "source": [
    "sns.despine(left=True) \n",
    "sns.set(style=\"whitegrid\", palette=\"husl\")\n",
    "ax = sns.boxplot(x=\"RMSD\", data=tabla)\n",
    "ax = sns.swarmplot(x=\"RMSD\", data=tabla, color=\".25\")\n",
    "#Podemos setear el tamaño de letra de \n",
    "ax.set_xlabel('RMSD', fontsize=12)"
   ]
  },
  {
   "cell_type": "code",
   "execution_count": 14,
   "metadata": {},
   "outputs": [
    {
     "data": {
      "text/plain": [
       "<matplotlib.text.Text at 0x7f0b1c747ed0>"
      ]
     },
     "execution_count": 14,
     "metadata": {},
     "output_type": "execute_result"
    },
    {
     "data": {
      "image/png": "[encoded data removed]",
      "text/plain": [
       "<matplotlib.figure.Figure at 0x7f0b1c66f1d0>"
      ]
     },
     "metadata": {},
     "output_type": "display_data"
    }
   ],
   "source": [
    "sns.despine(left=True) \n",
    "sns.set(style=\"ticks\", palette=\"Set2\")\n",
    "ax = sns.distplot(tabla[\"RMSD\"])\n",
    "#Podemos setear el tamaño de letra de \n",
    "ax.set_xlabel('RMSD', fontsize=12)"
   ]
  },
  {
   "cell_type": "code",
   "execution_count": 9,
   "metadata": {},
   "outputs": [
    {
     "data": {
      "text/plain": [
       "<matplotlib.text.Text at 0x7f0b1d313d10>"
      ]
     },
     "execution_count": 9,
     "metadata": {},
     "output_type": "execute_result"
    },
    {
     "data": {
      "image/png": "[encoded data removed]",
      "text/plain": [
       "<matplotlib.figure.Figure at 0x7f0b1d360750>"
      ]
     },
     "metadata": {},
     "output_type": "display_data"
    }
   ],
   "source": [
    "sns.despine(left=True) \n",
    "sns.set(style=\"ticks\", palette=\"deep\")\n",
    "ax = sns.distplot(tabla.RMSD, rug=True, hist=False)\n",
    "#Podemos setear el tamaño de letra de \n",
    "ax.set_xlabel('RMSD', fontsize=12)"
   ]
  },
  {
   "cell_type": "markdown",
   "metadata": {},
   "source": [
    "**¿Te animás aseparar el dataFrame en dos 'LYS' y el resto y graficar  estas dos poblaciones?**"
   ]
  },
  {
   "cell_type": "code",
   "execution_count": null,
   "metadata": {
    "collapsed": true,
    "jupyter": {
     "outputs_hidden": true
    }
   },
   "outputs": [],
   "source": []
  }
 ],
 "metadata": {
  "kernelspec": {
   "display_name": "Python 3",
   "language": "python",
   "name": "python3"
  },
  "language_info": {
   "codemirror_mode": {
    "name": "ipython",
    "version": 3
   },
   "file_extension": ".py",
   "mimetype": "text/x-python",
   "name": "python",
   "nbconvert_exporter": "python",
   "pygments_lexer": "ipython3",
   "version": "3.8.5"
  }
 },
 "nbformat": 4,
 "nbformat_minor": 4
}
