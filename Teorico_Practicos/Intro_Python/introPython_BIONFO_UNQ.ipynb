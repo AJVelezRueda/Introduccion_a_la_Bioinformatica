{
 "cells": [
  {
   "cell_type": "markdown",
   "metadata": {},
   "source": [
    "# Bienvenides al mundo de Python"
   ]
  },
  {
   "cell_type": "markdown",
   "metadata": {},
   "source": [
    "  - Python es un lenguaje de programación de scripting orientado a objetos\n",
    "  - Es un lenguaje interpretado, lo que significa que puede ser un poco más lento para algunos tipos de álculos.\n",
    "  - Nos permite interactuar con otros lenguajes e incorporarlos a nuestros códigos.\n",
    "  - Les recomiendo algunas páginas que suelen tener mucha información y bibliografía, la más de las veces en español:\n",
    "        \n",
    "             http://www.python.org.ar/\n",
    "\n",
    "             https://djangogirls.org/"
   ]
  },
  {
   "cell_type": "markdown",
   "metadata": {},
   "source": [
    "## ¿Por qué python?\n",
    "* Fácil de aprender (hard to master)\n",
    "* Es rápido escribir código\n",
    "* Muchos recursos disponibles\n",
    "* Multiplataforma"
   ]
  },
  {
   "cell_type": "markdown",
   "metadata": {},
   "source": [
    "## Usando python\n",
    "Python se puede utilizar de forma interactiva ( dentro de la consola de python o jupyter)\n",
    "\n",
    "<pre>\n",
    ">>> a = 'hola'\n",
    ">>> b = 'chau'\n",
    ">>> print a\n",
    "hola\n",
    ">>> print b\n",
    "chau\n",
    "</pre>\n",
    "... o ejecutando scripts en la consola del sistema operativo. \n",
    "<pre>\n",
    "$ python mi_script.py \n",
    "</pre>"
   ]
  },
  {
   "cell_type": "markdown",
   "metadata": {},
   "source": [
    "## Jupyter\n",
    "Jupyter es una consola interactiva para diversos lenguajes, principalmente Julia (IJulia), Python (IPython) y R.\n",
    "Permite integrar código con sus resultados, anotaciones, imágenes, etc. Finalmente se obtiene una **notebook** que puede compartirse para que otros la ejecuten.\n",
    "\n",
    "Los elementos básicos de jupyter son **celdas**, que pueden ser de código o de comentarios. Cada celda se puede ejecutar individualmente y el resultado se registra debajo de cada celda. \n",
    "\n",
    "Las céldas de comentarios se pueden escribir en un formato se llamado **markdown**\n",
    "\n",
    "http://jupyter-notebook.readthedocs.io/en/stable/examples/Notebook/Working%20With%20Markdown%20Cells.html\n",
    "\n",
    "Para abrir jupyter, debemos hacer en la consola:\n",
    "<pre>\n",
    "$ jupyter notebook\n",
    "</pre>"
   ]
  },
  {
   "cell_type": "markdown",
   "metadata": {},
   "source": [
    "### Qué puedo hacer desde Jupyter? además de pythonear...\n",
    "\n",
    "Podremos usar bash, HTML,etc. desde cualquier celda mediante Magic, que son funciones pre-determinadas para distintas utilidades. \n",
    "Corriendo **%lsmagic**  obtenemos todas las funciones disponibles."
   ]
  },
  {
   "cell_type": "code",
   "execution_count": 2,
   "metadata": {},
   "outputs": [
    {
     "data": {
      "application/json": {
       "cell": {
        "!": "OSMagics",
        "HTML": "Other",
        "SVG": "Other",
        "bash": "Other",
        "capture": "ExecutionMagics",
        "debug": "ExecutionMagics",
        "file": "Other",
        "html": "DisplayMagics",
        "javascript": "DisplayMagics",
        "latex": "DisplayMagics",
        "perl": "Other",
        "prun": "ExecutionMagics",
        "pypy": "Other",
        "python": "Other",
        "python2": "Other",
        "python3": "Other",
        "ruby": "Other",
        "script": "ScriptMagics",
        "sh": "Other",
        "svg": "DisplayMagics",
        "sx": "OSMagics",
        "system": "OSMagics",
        "time": "ExecutionMagics",
        "timeit": "ExecutionMagics",
        "writefile": "OSMagics"
       },
       "line": {
        "alias": "OSMagics",
        "alias_magic": "BasicMagics",
        "autocall": "AutoMagics",
        "automagic": "AutoMagics",
        "autosave": "KernelMagics",
        "bookmark": "OSMagics",
        "cat": "Other",
        "cd": "OSMagics",
        "clear": "KernelMagics",
        "colors": "BasicMagics",
        "config": "ConfigMagics",
        "connect_info": "KernelMagics",
        "cp": "Other",
        "debug": "ExecutionMagics",
        "dhist": "OSMagics",
        "dirs": "OSMagics",
        "doctest_mode": "BasicMagics",
        "ed": "Other",
        "edit": "KernelMagics",
        "env": "OSMagics",
        "gui": "BasicMagics",
        "hist": "Other",
        "history": "HistoryMagics",
        "install_default_config": "DeprecatedMagics",
        "install_ext": "ExtensionMagics",
        "install_profiles": "DeprecatedMagics",
        "killbgscripts": "ScriptMagics",
        "ldir": "Other",
        "less": "KernelMagics",
        "lf": "Other",
        "lk": "Other",
        "ll": "Other",
        "load": "CodeMagics",
        "load_ext": "ExtensionMagics",
        "loadpy": "CodeMagics",
        "logoff": "LoggingMagics",
        "logon": "LoggingMagics",
        "logstart": "LoggingMagics",
        "logstate": "LoggingMagics",
        "logstop": "LoggingMagics",
        "ls": "Other",
        "lsmagic": "BasicMagics",
        "lx": "Other",
        "macro": "ExecutionMagics",
        "magic": "BasicMagics",
        "man": "KernelMagics",
        "matplotlib": "PylabMagics",
        "mkdir": "Other",
        "more": "KernelMagics",
        "mv": "Other",
        "notebook": "BasicMagics",
        "page": "BasicMagics",
        "pastebin": "CodeMagics",
        "pdb": "ExecutionMagics",
        "pdef": "NamespaceMagics",
        "pdoc": "NamespaceMagics",
        "pfile": "NamespaceMagics",
        "pinfo": "NamespaceMagics",
        "pinfo2": "NamespaceMagics",
        "popd": "OSMagics",
        "pprint": "BasicMagics",
        "precision": "BasicMagics",
        "profile": "BasicMagics",
        "prun": "ExecutionMagics",
        "psearch": "NamespaceMagics",
        "psource": "NamespaceMagics",
        "pushd": "OSMagics",
        "pwd": "OSMagics",
        "pycat": "OSMagics",
        "pylab": "PylabMagics",
        "qtconsole": "KernelMagics",
        "quickref": "BasicMagics",
        "recall": "HistoryMagics",
        "rehashx": "OSMagics",
        "reload_ext": "ExtensionMagics",
        "rep": "Other",
        "rerun": "HistoryMagics",
        "reset": "NamespaceMagics",
        "reset_selective": "NamespaceMagics",
        "rm": "Other",
        "rmdir": "Other",
        "run": "ExecutionMagics",
        "save": "CodeMagics",
        "sc": "OSMagics",
        "set_env": "OSMagics",
        "store": "StoreMagics",
        "sx": "OSMagics",
        "system": "OSMagics",
        "tb": "ExecutionMagics",
        "time": "ExecutionMagics",
        "timeit": "ExecutionMagics",
        "unalias": "OSMagics",
        "unload_ext": "ExtensionMagics",
        "who": "NamespaceMagics",
        "who_ls": "NamespaceMagics",
        "whos": "NamespaceMagics",
        "xdel": "NamespaceMagics",
        "xmode": "BasicMagics"
       }
      },
      "text/plain": [
       "Available line magics:\n",
       "%alias  %alias_magic  %autocall  %automagic  %autosave  %bookmark  %cat  %cd  %clear  %colors  %config  %connect_info  %cp  %debug  %dhist  %dirs  %doctest_mode  %ed  %edit  %env  %gui  %hist  %history  %install_default_config  %install_ext  %install_profiles  %killbgscripts  %ldir  %less  %lf  %lk  %ll  %load  %load_ext  %loadpy  %logoff  %logon  %logstart  %logstate  %logstop  %ls  %lsmagic  %lx  %macro  %magic  %man  %matplotlib  %mkdir  %more  %mv  %notebook  %page  %pastebin  %pdb  %pdef  %pdoc  %pfile  %pinfo  %pinfo2  %popd  %pprint  %precision  %profile  %prun  %psearch  %psource  %pushd  %pwd  %pycat  %pylab  %qtconsole  %quickref  %recall  %rehashx  %reload_ext  %rep  %rerun  %reset  %reset_selective  %rm  %rmdir  %run  %save  %sc  %set_env  %store  %sx  %system  %tb  %time  %timeit  %unalias  %unload_ext  %who  %who_ls  %whos  %xdel  %xmode\n",
       "\n",
       "Available cell magics:\n",
       "%%!  %%HTML  %%SVG  %%bash  %%capture  %%debug  %%file  %%html  %%javascript  %%latex  %%perl  %%prun  %%pypy  %%python  %%python2  %%python3  %%ruby  %%script  %%sh  %%svg  %%sx  %%system  %%time  %%timeit  %%writefile\n",
       "\n",
       "Automagic is ON, % prefix IS NOT needed for line magics."
      ]
     },
     "execution_count": 2,
     "metadata": {},
     "output_type": "execute_result"
    }
   ],
   "source": [
    "%lsmagic"
   ]
  },
  {
   "cell_type": "markdown",
   "metadata": {},
   "source": [
    "**Así por ejemplo podemos codear en bash o distintos lenguajes dentro en una celda.**\n",
    "\n",
    "Mas información: \n",
    "\n",
    "https://ipython.org/ipython-doc/dev/interactive/magics.html#magic-timeit\n",
    "\n",
    "https://blog.dominodatalab.com/lesser-known-ways-of-using-notebooks/\n",
    "\n",
    "http://ipython.readthedocs.io/en/stable/interactive/magics.html"
   ]
  },
  {
   "cell_type": "code",
   "execution_count": 3,
   "metadata": {},
   "outputs": [
    {
     "name": "stdout",
     "output_type": "stream",
     "text": [
      "a,b,c:\n"
     ]
    }
   ],
   "source": [
    "%%bash\n",
    "for i in a,b,c:\n",
    "do\n",
    "echo $i\n",
    "done"
   ]
  },
  {
   "cell_type": "markdown",
   "metadata": {},
   "source": [
    "# Python\n",
    "\n",
    "+ Núcleo. \n",
    "    + Palabras clave (if, for, while, def, etc)\n",
    "    + Funciones built-in (print, type, etc)\n",
    "    + Operadores (aritméticos, de comparación, etc)\n",
    "    \n",
    "    \n",
    "+ Agregado de funcionalidades\n",
    "    + Librería estándar\n",
    "    + Otras\n",
    "  "
   ]
  },
  {
   "cell_type": "markdown",
   "metadata": {},
   "source": [
    "## Módulos (librerías) \n",
    "\n",
    "* Incorporan funcionalidades. \n",
    "* Pueden ser módulos escritos por el usuario (lo vamos a ver más adelante)."
   ]
  },
  {
   "cell_type": "markdown",
   "metadata": {},
   "source": [
    "### Diferentes sintaxis de \"imports\" / Importando librerías\n",
    "\n",
    "+ **import** xxx\n",
    "+ **import** xxx **as** yyy\n",
    "+ **from** xxx **import** yyy\n",
    "+ **from** xxx **import** yyy **as** zzz\n",
    "\n",
    "``` python\n",
    "from matplotlib import pyplot as plt\n",
    "```"
   ]
  },
  {
   "cell_type": "markdown",
   "metadata": {},
   "source": [
    "## Comentarios"
   ]
  },
  {
   "cell_type": "code",
   "execution_count": 4,
   "metadata": {},
   "outputs": [
    {
     "name": "stdout",
     "output_type": "stream",
     "text": [
      "Hola mundo\n"
     ]
    }
   ],
   "source": [
    "'''\n",
    "Comentario más largo en una línea en Python\n",
    "'''\n",
    "print(\"Hola mundo\") # También es posible añadir un comentario al final de una línea de código"
   ]
  },
  {
   "cell_type": "markdown",
   "metadata": {
    "slideshow": {
     "slide_type": "slide"
    }
   },
   "source": [
    "## Tipos de Datos\n",
    "\n",
    "### Algunos de los tipos básicos de datos en Python son:\n",
    "* int - para representar números enteros\n",
    "* long - para representar números enteros muy largos\n",
    "* float - para representar números decimales\n",
    "* bool - para representar valores de verdad (True/False)\n",
    "* complex - para representar números complejos (1+2j)\n",
    "* NoneType - Tipo especial del valor None\n",
    "\n",
    "La función **type()** nos permite saber qué tipo de dato es una variable o un dato en particular"
   ]
  },
  {
   "cell_type": "markdown",
   "metadata": {},
   "source": [
    " **EJERCICIO:** Averiguá qué tipo de dato es 3. ¿Y 'hola'?"
   ]
  },
  {
   "cell_type": "code",
   "execution_count": 7,
   "metadata": {},
   "outputs": [
    {
     "data": {
      "text/plain": [
       "str"
      ]
     },
     "execution_count": 7,
     "metadata": {},
     "output_type": "execute_result"
    }
   ],
   "source": [
    "type('hola')"
   ]
  },
  {
   "cell_type": "markdown",
   "metadata": {},
   "source": [
    "# Operando con números\n",
    "Tipos:\n",
    "- int: enteros\n",
    "- float: punto flotante\n",
    "- complex: complejos\n",
    "\n",
    "Operaciones básicas:\n",
    "\n",
    "| operación | operador |\n",
    "| :-------: | :------: |\n",
    "| suma      | +        |\n",
    "| resta     | -        |\n",
    "| multiplicación | *   |\n",
    "| división  | /        |\n",
    "| división entera | // |\n",
    "| módulo    | %        |\n",
    "| potenciación | **    |\n",
    "\n",
    "Los paréntesis se usan para ordenar la secuencia de operaciones."
   ]
  },
  {
   "cell_type": "markdown",
   "metadata": {
    "collapsed": true
   },
   "source": [
    "**PREGUNTA**:¿Qué resultado arroja la siguiente operación?¿Podrías definir cuál fue la sucesión de pasos que se ejecutaron en esa linea?\n",
    "```python\n",
    "print(5+30*20)\n",
    "```"
   ]
  },
  {
   "cell_type": "code",
   "execution_count": 9,
   "metadata": {},
   "outputs": [
    {
     "name": "stdout",
     "output_type": "stream",
     "text": [
      "605\n"
     ]
    }
   ],
   "source": [
    "print((5+30)*20)"
   ]
  },
  {
   "cell_type": "markdown",
   "metadata": {},
   "source": [
    "**PREGUNTA**:¿Qué resultado arroja la siguiente operación?**¿Por qué?**¿Podrías definir cuál fue la sucesión de pasos que se ejecutaron en esa linea?\n",
    "```python\n",
    "print((5+30)*20)\n",
    "```"
   ]
  },
  {
   "cell_type": "code",
   "execution_count": null,
   "metadata": {},
   "outputs": [],
   "source": []
  },
  {
   "cell_type": "markdown",
   "metadata": {},
   "source": [
    "## Algunas operaciones"
   ]
  },
  {
   "cell_type": "code",
   "execution_count": 16,
   "metadata": {},
   "outputs": [
    {
     "data": {
      "text/plain": [
       "9"
      ]
     },
     "execution_count": 16,
     "metadata": {},
     "output_type": "execute_result"
    }
   ],
   "source": [
    "3**2"
   ]
  },
  {
   "cell_type": "code",
   "execution_count": 20,
   "metadata": {},
   "outputs": [
    {
     "data": {
      "text/plain": [
       "float"
      ]
     },
     "execution_count": 20,
     "metadata": {},
     "output_type": "execute_result"
    }
   ],
   "source": [
    "type(22/2)"
   ]
  },
  {
   "cell_type": "code",
   "execution_count": 10,
   "metadata": {},
   "outputs": [
    {
     "data": {
      "text/plain": [
       "2.0"
      ]
     },
     "execution_count": 10,
     "metadata": {},
     "output_type": "execute_result"
    }
   ],
   "source": [
    "10/5"
   ]
  },
  {
   "cell_type": "markdown",
   "metadata": {},
   "source": [
    "El operador% (módulo) devuelve el resto de la división del primer argumento por el segundo."
   ]
  },
  {
   "cell_type": "markdown",
   "metadata": {},
   "source": [
    "# Comparaciones relacionales\n",
    "\n",
    "- mayor, menor, igual, distinto, mayor o igual, menor o igual\n",
    "- or, and, not\n",
    "\n",
    "\n",
    "Tambien existen los llamados operadores relacionales que nos permitirar comparaciones del tipo booleanas:\n",
    "\n",
    "+ Ya veremos más adelante que este tipo de operadores nos permiten comparar datos todos los tipos de datos.\n",
    "\n",
    "+ Nos permitiran la toma de desiciones en sentencias if, for, etc.\n",
    "\n",
    "| operación | operador |\n",
    "| :-------: | :------: |\n",
    "| igualdad      | ==        |\n",
    "| desigualdad     | !=        |\n",
    "| mayor | >   |\n",
    "| menor  | <        |\n",
    "| mayor igual | >= |\n",
    "| menor igual    | <=        |"
   ]
  },
  {
   "cell_type": "code",
   "execution_count": 10,
   "metadata": {},
   "outputs": [
    {
     "data": {
      "text/plain": [
       "False"
      ]
     },
     "execution_count": 10,
     "metadata": {},
     "output_type": "execute_result"
    }
   ],
   "source": [
    "3 < 2"
   ]
  },
  {
   "cell_type": "code",
   "execution_count": 3,
   "metadata": {},
   "outputs": [
    {
     "data": {
      "text/plain": [
       "True"
      ]
     },
     "execution_count": 3,
     "metadata": {},
     "output_type": "execute_result"
    }
   ],
   "source": [
    "3 >= 2"
   ]
  },
  {
   "cell_type": "markdown",
   "metadata": {},
   "source": [
    "**Igualdad**"
   ]
  },
  {
   "cell_type": "code",
   "execution_count": 1,
   "metadata": {},
   "outputs": [
    {
     "data": {
      "text/plain": [
       "True"
      ]
     },
     "execution_count": 1,
     "metadata": {},
     "output_type": "execute_result"
    }
   ],
   "source": [
    "5 == 5"
   ]
  },
  {
   "cell_type": "code",
   "execution_count": 4,
   "metadata": {},
   "outputs": [
    {
     "data": {
      "text/plain": [
       "False"
      ]
     },
     "execution_count": 4,
     "metadata": {},
     "output_type": "execute_result"
    }
   ],
   "source": [
    "'Ana' != 'Ana'"
   ]
  },
  {
   "cell_type": "code",
   "execution_count": 11,
   "metadata": {},
   "outputs": [
    {
     "data": {
      "text/plain": [
       "False"
      ]
     },
     "execution_count": 11,
     "metadata": {},
     "output_type": "execute_result"
    }
   ],
   "source": [
    "'Ana' == 'ana'"
   ]
  },
  {
   "cell_type": "markdown",
   "metadata": {},
   "source": [
    "**PREGUNTA**: ¿qué resultados obtenes si comparás 5.0 == 5.00000000005 y 5.0 == 5.000000000000000005?"
   ]
  },
  {
   "cell_type": "code",
   "execution_count": 12,
   "metadata": {},
   "outputs": [
    {
     "data": {
      "text/plain": [
       "True"
      ]
     },
     "execution_count": 12,
     "metadata": {},
     "output_type": "execute_result"
    }
   ],
   "source": [
    "5.0 == 5.000000000000000005"
   ]
  },
  {
   "cell_type": "code",
   "execution_count": 13,
   "metadata": {},
   "outputs": [
    {
     "data": {
      "text/plain": [
       "False"
      ]
     },
     "execution_count": 13,
     "metadata": {},
     "output_type": "execute_result"
    }
   ],
   "source": [
    "5.0 == 5.00000000005"
   ]
  },
  {
   "cell_type": "markdown",
   "metadata": {
    "collapsed": true
   },
   "source": [
    "Si **==** es igualdad ¿Qué hacemos cuando hacemos?\n",
    "\n",
    "```python\n",
    "    a = 5\n",
    "```"
   ]
  },
  {
   "cell_type": "markdown",
   "metadata": {},
   "source": [
    "# Definiendo variables"
   ]
  },
  {
   "cell_type": "markdown",
   "metadata": {},
   "source": [
    "    - Una variable es designar almacenar o designar un espacio en la memoria con un dato específico. \n",
    "    - Pero las variables no tienen un tipo. \n",
    "La variable variable1 no está 'atada' a un tipo específico, como sucede en otros lenguajes de programación. De hecho, podríamos reasignar valores a una variable simplemente declarandolo de este modo:\n",
    "```python\n",
    "variable_4 = \"Roberto\"\n",
    "```\n",
    "Hay palabras claves que por ende estarán prohibidas para nombrar variables prohibidas!"
   ]
  },
  {
   "cell_type": "code",
   "execution_count": 15,
   "metadata": {},
   "outputs": [
    {
     "data": {
      "text/plain": [
       "str"
      ]
     },
     "execution_count": 15,
     "metadata": {},
     "output_type": "execute_result"
    }
   ],
   "source": [
    "nombre = \"Roberto\"\n",
    "type(nombre)"
   ]
  },
  {
   "cell_type": "code",
   "execution_count": 5,
   "metadata": {},
   "outputs": [
    {
     "name": "stdout",
     "output_type": "stream",
     "text": [
      "['False', 'None', 'True', 'and', 'as', 'assert', 'break', 'class', 'continue', 'def', 'del', 'elif', 'else', 'except', 'finally', 'for', 'from', 'global', 'if', 'import', 'in', 'is', 'lambda', 'nonlocal', 'not', 'or', 'pass', 'raise', 'return', 'try', 'while', 'with', 'yield']\n"
     ]
    }
   ],
   "source": [
    "import keyword\n",
    "\n",
    "print(keyword.kwlist)"
   ]
  },
  {
   "cell_type": "markdown",
   "metadata": {},
   "source": [
    "**PREGUNTA**: ¿Cuáles son las buenas prácticas para para seleccionar nombres de variables?"
   ]
  },
  {
   "cell_type": "code",
   "execution_count": 17,
   "metadata": {},
   "outputs": [],
   "source": []
  },
  {
   "cell_type": "markdown",
   "metadata": {},
   "source": [
    "# Operaciones con variables\n",
    "\n",
    "+ Se usan los identificadores para operar.\n",
    "+ Cada variable tiene asociado un tipo de dato(ver con type).\n",
    "\n",
    "**EJERCICIO**: Declarar una variable de nombre 'mi_variable' que tenga como valor 3"
   ]
  },
  {
   "cell_type": "code",
   "execution_count": 18,
   "metadata": {},
   "outputs": [],
   "source": [
    "mi_variable = 3"
   ]
  },
  {
   "cell_type": "markdown",
   "metadata": {},
   "source": [
    "**EJERCICIO**: Declarar una variable denominada 'doble', que tenga como valor el doble del valor de 'mi_variable'"
   ]
  },
  {
   "cell_type": "code",
   "execution_count": 21,
   "metadata": {},
   "outputs": [
    {
     "name": "stdout",
     "output_type": "stream",
     "text": [
      "6\n"
     ]
    }
   ],
   "source": [
    "doble = mi_variable*2\n",
    "print(doble)"
   ]
  },
  {
   "cell_type": "markdown",
   "metadata": {},
   "source": [
    "## Actualización del valor de una variable\n",
    "**EJERCICIO**: Declarar ahora la siguiente sentencia e imprimir el valor de 'mi_variable'\n",
    "\n",
    "``mi_variable = 5\n",
    "``"
   ]
  },
  {
   "cell_type": "code",
   "execution_count": 22,
   "metadata": {},
   "outputs": [],
   "source": [
    "mi_variable = 5"
   ]
  },
  {
   "cell_type": "code",
   "execution_count": 23,
   "metadata": {},
   "outputs": [
    {
     "data": {
      "text/plain": [
       "5"
      ]
     },
     "execution_count": 23,
     "metadata": {},
     "output_type": "execute_result"
    }
   ],
   "source": [
    "mi_variable"
   ]
  },
  {
   "cell_type": "markdown",
   "metadata": {},
   "source": [
    "¿Qué pasa cuando imprimimos la variable 'doble'?"
   ]
  },
  {
   "cell_type": "code",
   "execution_count": null,
   "metadata": {
    "collapsed": true
   },
   "outputs": [],
   "source": []
  },
  {
   "cell_type": "markdown",
   "metadata": {
    "slideshow": {
     "slide_type": "slide"
    }
   },
   "source": [
    "# Strings\n",
    "+ **String** es un tipo de dato que se puede entender como una sucesión de caracteres o una cadena de caracteres. \n",
    "+ Podemos un string simplemente escribiendo los caracteres/el caracter entre comillas. \n",
    "```python\n",
    "mi_string = \"este es mi primer string\"\n",
    "```\n",
    "+ Python trata las comillas simples al igual que las comillas dobles.\n",
    "+ En un string el primer calor tiene índice cero.\n",
    "+ Hay varias funciones y operadores que permiten trabajar con strings.\n",
    "\n",
    "**PREGUNTA**: ¿Qué resultado nos daría la siguiente operación?: \n",
    "```python\n",
    "type(1) == type('1')\n",
    "```\n",
    "¿Y qué resultado nos daría la siguiente operación?: \n",
    "```python\n",
    "'python' == 'Python'\n",
    "```"
   ]
  },
  {
   "cell_type": "code",
   "execution_count": 25,
   "metadata": {
    "slideshow": {
     "slide_type": "fragment"
    }
   },
   "outputs": [
    {
     "data": {
      "text/plain": [
       "False"
      ]
     },
     "execution_count": 25,
     "metadata": {},
     "output_type": "execute_result"
    }
   ],
   "source": [
    "type(1) == type('1')"
   ]
  },
  {
   "cell_type": "markdown",
   "metadata": {
    "slideshow": {
     "slide_type": "slide"
    }
   },
   "source": [
    "# ¡Danger!\n",
    "\n",
    "De vez en cuando suceden cosas extrañas.\n",
    "\n",
    "¿Qué pasa si se incluyen comillas?"
   ]
  },
  {
   "cell_type": "code",
   "execution_count": 3,
   "metadata": {
    "slideshow": {
     "slide_type": "fragment"
    }
   },
   "outputs": [
    {
     "name": "stdout",
     "output_type": "stream",
     "text": [
      "En el último partido 'Los Pumas' le ganaron a Irlanda\n"
     ]
    }
   ],
   "source": [
    "# noticiaConError = \"\"Los Pumas\" le ganaron a Irlanda\"\n",
    "unaNoticia = \"En el último partido 'Los Pumas' le ganaron a Irlanda\"\n",
    "print(unaNoticia)"
   ]
  },
  {
   "cell_type": "markdown",
   "metadata": {
    "slideshow": {
     "slide_type": "fragment"
    }
   },
   "source": [
    "Existen caracteres especiales como \\n (linea nueva) o \\t (tabulación) que tienen efectos sobre la visualización y se denominan expresiones regulares:"
   ]
  },
  {
   "cell_type": "code",
   "execution_count": 49,
   "metadata": {
    "slideshow": {
     "slide_type": "fragment"
    }
   },
   "outputs": [
    {
     "name": "stdout",
     "output_type": "stream",
     "text": [
      "Esto aparece escrito en dos lineasEsto aparece escrito en dos lineas\n"
     ]
    }
   ],
   "source": [
    "dosLineas = \"Esto aparece escrito en dos lineas\"\n",
    "dosLineas\n",
    "print(dosLineas + dosLineas)"
   ]
  },
  {
   "cell_type": "code",
   "execution_count": 26,
   "metadata": {},
   "outputs": [],
   "source": [
    "a = 'Hola '\n",
    "b = 'chiques!'"
   ]
  },
  {
   "cell_type": "code",
   "execution_count": 27,
   "metadata": {},
   "outputs": [
    {
     "name": "stdout",
     "output_type": "stream",
     "text": [
      "Hola chiques!\n"
     ]
    }
   ],
   "source": [
    "print(a + b)"
   ]
  },
  {
   "cell_type": "code",
   "execution_count": 32,
   "metadata": {},
   "outputs": [
    {
     "name": "stdout",
     "output_type": "stream",
     "text": [
      "Hola Hola \n"
     ]
    }
   ],
   "source": [
    "print(a*2)"
   ]
  },
  {
   "cell_type": "markdown",
   "metadata": {
    "slideshow": {
     "slide_type": "fragment"
    }
   },
   "source": [
    "La función **str()** convierte valores a string.\n",
    "\n",
    "**EJERCICIO**: convertir la variable 'doble' en un string"
   ]
  },
  {
   "cell_type": "markdown",
   "metadata": {
    "slideshow": {
     "slide_type": "slide"
    }
   },
   "source": [
    "## Acceso a los elementos de la cadena\n",
    "Se puede acceder a los caracteres individuales de un string, del siguiente modo:\n",
    "\n",
    "```python\n",
    "    ADN = \"ATCCGTGGGTTTTAAAGCATCATGAC\"\n",
    "    print(ADN[3])\n",
    "```\n",
    "De esta forma accedemos al tercer caracter de nuestro string.\n",
    "\n",
    "```python\n",
    "    ADN = \"ATCCGTGGGTTTTAAAGCATCATGAC\"\n",
    "    print(ADN[3:5])\n",
    "```\n",
    "De esta forma accedemos desde el tercer caracter al...\n"
   ]
  },
  {
   "cell_type": "code",
   "execution_count": 33,
   "metadata": {},
   "outputs": [],
   "source": [
    "sec = 'ATCCGTGGGTTTTAAAGCATCATGAC'"
   ]
  },
  {
   "cell_type": "code",
   "execution_count": 41,
   "metadata": {},
   "outputs": [
    {
     "data": {
      "text/plain": [
       "'ATCCGTGGGTTTTAAAGCATCATG'"
      ]
     },
     "execution_count": 41,
     "metadata": {},
     "output_type": "execute_result"
    }
   ],
   "source": [
    "sec[0:-2]"
   ]
  },
  {
   "cell_type": "markdown",
   "metadata": {},
   "source": [
    "**PREGUNTA**: ¿cuál es el caracter 1 del string?"
   ]
  },
  {
   "cell_type": "code",
   "execution_count": null,
   "metadata": {
    "collapsed": true
   },
   "outputs": [],
   "source": []
  },
  {
   "cell_type": "markdown",
   "metadata": {
    "slideshow": {
     "slide_type": "slide"
    }
   },
   "source": [
    "¿Qué pasa si ejecutamos la siguiente sentecia?\n",
    "```python\n",
    "ADN[1] = 'G'\n",
    "```"
   ]
  },
  {
   "cell_type": "code",
   "execution_count": 43,
   "metadata": {
    "slideshow": {
     "slide_type": "fragment"
    }
   },
   "outputs": [
    {
     "ename": "TypeError",
     "evalue": "'str' object does not support item assignment",
     "output_type": "error",
     "traceback": [
      "\u001b[0;31m---------------------------------------------------------------------------\u001b[0m",
      "\u001b[0;31mTypeError\u001b[0m                                 Traceback (most recent call last)",
      "\u001b[0;32m<ipython-input-43-2e4a1d4d6ee7>\u001b[0m in \u001b[0;36m<module>\u001b[0;34m()\u001b[0m\n\u001b[0;32m----> 1\u001b[0;31m \u001b[0msec\u001b[0m\u001b[0;34m[\u001b[0m\u001b[0;36m1\u001b[0m\u001b[0;34m]\u001b[0m \u001b[0;34m=\u001b[0m \u001b[0;34m'G'\u001b[0m\u001b[0;34m\u001b[0m\u001b[0;34m\u001b[0m\u001b[0m\n\u001b[0m",
      "\u001b[0;31mTypeError\u001b[0m: 'str' object does not support item assignment"
     ]
    }
   ],
   "source": [
    "sec[1] = 'G'"
   ]
  },
  {
   "cell_type": "markdown",
   "metadata": {},
   "source": [
    "**Las strings son inmutables.**"
   ]
  },
  {
   "cell_type": "markdown",
   "metadata": {
    "slideshow": {
     "slide_type": "slide"
    }
   },
   "source": [
    "# Concatenación de cadenas\n",
    "¿Qué pasa si ejecutas la siguiente celda?\n",
    "\n",
    "```python\n",
    "ADN1 = \"AAAAAAAAAAAA\"\n",
    "print(ADN + ADN1)\n",
    "```"
   ]
  },
  {
   "cell_type": "code",
   "execution_count": null,
   "metadata": {
    "slideshow": {
     "slide_type": "fragment"
    }
   },
   "outputs": [],
   "source": []
  },
  {
   "cell_type": "markdown",
   "metadata": {
    "slideshow": {
     "slide_type": "slide"
    }
   },
   "source": [
    "# Funciones útiles (métodos para strings)\n",
    "- ejemplos:\n",
    "    - **lower()**: convierte MAYUSCULAS en minusculas.\n",
    "    - **upper()**: convierte minusculas en MAYUSCULAS.\n",
    "    - **len()**: nos permite conocer la longitud (cantidad de caracteres de un string).\n",
    "    - **split('chars')**: divide el string por el caracter dado, obteniendose una lista de strings.\n",
    "    - **count('chars')**: cuenta la ocurrencia del caracter dado en un string.\n",
    "    - **replace('orig', 'reempl')**:reemplaza los caracteres de valor 'origin' por 'reempl'\n",
    "- más sobre cadenas [en la documentación de la librería estándar](http://docs.python.org/3/library/string.html)"
   ]
  },
  {
   "cell_type": "code",
   "execution_count": 44,
   "metadata": {},
   "outputs": [
    {
     "data": {
      "text/plain": [
       "26"
      ]
     },
     "execution_count": 44,
     "metadata": {},
     "output_type": "execute_result"
    }
   ],
   "source": [
    "len(sec)"
   ]
  },
  {
   "cell_type": "code",
   "execution_count": 48,
   "metadata": {},
   "outputs": [
    {
     "data": {
      "text/plain": [
       "3"
      ]
     },
     "execution_count": 48,
     "metadata": {},
     "output_type": "execute_result"
    }
   ],
   "source": [
    "sec.count('AT')"
   ]
  },
  {
   "cell_type": "code",
   "execution_count": 49,
   "metadata": {},
   "outputs": [
    {
     "data": {
      "text/plain": [
       "'ATCCGTGGGTTTTAAAGCATCATGAC'"
      ]
     },
     "execution_count": 49,
     "metadata": {},
     "output_type": "execute_result"
    }
   ],
   "source": [
    "sec"
   ]
  },
  {
   "cell_type": "code",
   "execution_count": 50,
   "metadata": {},
   "outputs": [
    {
     "data": {
      "text/plain": [
       "'ATAAGTGGGTTTTAAAGCATCATGAC'"
      ]
     },
     "execution_count": 50,
     "metadata": {},
     "output_type": "execute_result"
    }
   ],
   "source": [
    "sec.replace('CC', 'AA')"
   ]
  },
  {
   "cell_type": "code",
   "execution_count": 53,
   "metadata": {},
   "outputs": [
    {
     "data": {
      "text/plain": [
       "['', 'TCCGTGGGTTTT', '', '', 'GC', 'TC', 'TG', 'C']"
      ]
     },
     "execution_count": 53,
     "metadata": {},
     "output_type": "execute_result"
    }
   ],
   "source": [
    "sec.split('A')"
   ]
  },
  {
   "cell_type": "code",
   "execution_count": 56,
   "metadata": {},
   "outputs": [
    {
     "data": {
      "text/plain": [
       "str"
      ]
     },
     "execution_count": 56,
     "metadata": {},
     "output_type": "execute_result"
    }
   ],
   "source": [
    "type(str(1))"
   ]
  },
  {
   "cell_type": "code",
   "execution_count": 60,
   "metadata": {},
   "outputs": [
    {
     "data": {
      "text/plain": [
       "3"
      ]
     },
     "execution_count": 60,
     "metadata": {},
     "output_type": "execute_result"
    }
   ],
   "source": [
    "int(3.5)"
   ]
  },
  {
   "cell_type": "code",
   "execution_count": 61,
   "metadata": {},
   "outputs": [
    {
     "data": {
      "text/plain": [
       "2.0"
      ]
     },
     "execution_count": 61,
     "metadata": {},
     "output_type": "execute_result"
    }
   ],
   "source": [
    "float(2)"
   ]
  },
  {
   "cell_type": "markdown",
   "metadata": {
    "slideshow": {
     "slide_type": "slide"
    }
   },
   "source": [
    "## Se pueden concatenar operaciones"
   ]
  },
  {
   "cell_type": "code",
   "execution_count": 72,
   "metadata": {
    "slideshow": {
     "slide_type": "fragment"
    }
   },
   "outputs": [
    {
     "name": "stdout",
     "output_type": "stream",
     "text": [
      "Conteo de T:  21\n"
     ]
    }
   ],
   "source": [
    "unaSecuencia = 'ACTGATCGATTACGTATAGTATTTGCTATCATACATATATATCGATGCGTTCAT'\n",
    "conteo = unaSecuencia.lower().count('t')\n",
    "print(\"Conteo de T: \", conteo)"
   ]
  },
  {
   "cell_type": "markdown",
   "metadata": {},
   "source": [
    "**EJERCICIO**: dada la siguiente secuencia de ADN, calcular el porcentage de CG.\n",
    "```python\n",
    "sec = AAGATTTATTCATATGCATATTTTTATATATACATAATAAAAATAAAACTTCTCGCTATGCAGTTTATCAAAAATTTGCAGCTAAATAAAAAGAAGGACAGTGATTCTAGTGAACAGGTGTTAACTAATAAGAAAAATAAAATGAAATATGAAGATTTTAATTTCATTTGTACACTTGGAACGGGTTCCTTTGGTAGAGTTATTTTCGCTACCTATAAAAACGGAAACTACCCACCAGTAGCCATTAAACGTTTTGAAAAGTGTAAAATTATAAGACAAAAACAAGTGGATCATGTTTTTTCAGAGAGAAAAATATTAAATTATATAAATCATCCATTTTGTGTAAATTTACATGGATCATTCAAAGATGACTCTTACTTATATTTAGTCCTTGAATTCGTAATTGGTGGAGAATTTTTTACATTTTTAAGAAGAAACAAAAGATTTCCTAATGATGTTGGATGTTTTTATGCAGCTCAGATTGTTCTAATTTTTGAATACTTGCAAAGTTTAAATATTGTTTATAGAGATTTCAAACCTGAAAATTTATTACTTGATAAAGATGGATTTATAAAAATGACTGATTTTGGATTTGCTAAAATAGTCGAGACGAGAACTTATACTTTATGTGGAACTCCAGAATATACTGCTCCAGAAATTTTATTGAACGTCGGACATGGAAAAGCCGCTGATTGGTGGACTTTAGGTATTTTCATATACGAAATATTAGTTGGATGTCCCCCTTTTTATGCGAATGAACCCTTATTAATTTATCAGAAAATATTAGAAGGTATAATATATTTCCCTAAATTTTTAGATAACAATTGCAAACATTTGATGAAGAAATTGTTGTCTCACGATTTAACAAAAAGGTATGGTAATTTAAAAAAAGGACCTCAAAATGTTAAAGAACACCCATGGTTTAGTAATATTGATTGGGTAAATTTGTTGAATAAAAATGTTGAGGTTCCATATAAACC\n",
    "```"
   ]
  },
  {
   "cell_type": "markdown",
   "metadata": {
    "slideshow": {
     "slide_type": "slide"
    }
   },
   "source": [
    "# No confundir strings con números"
   ]
  },
  {
   "cell_type": "code",
   "execution_count": 75,
   "metadata": {
    "slideshow": {
     "slide_type": "fragment"
    }
   },
   "outputs": [
    {
     "data": {
      "text/plain": [
       "False"
      ]
     },
     "execution_count": 75,
     "metadata": {},
     "output_type": "execute_result"
    }
   ],
   "source": [
    "uno = 1.0\n",
    "unoPuntoCero = \"1.0\"\n",
    "\n",
    "uno == unoPuntoCero"
   ]
  },
  {
   "cell_type": "markdown",
   "metadata": {},
   "source": [
    "# Estructuras de datos\n",
    "\n",
    "Las variables que vimos hasta ahora son sencillas y contienen un único **dato**.\n",
    "Python permite usar estructuras de datos más complejas que permiten almacenar y organizar colecciones de datos.\n",
    "Algunas de estas estructuras de datos son:\n",
    "* tuplas\n",
    "* listas\n",
    "* diccionarios\n",
    "* sets"
   ]
  },
  {
   "cell_type": "markdown",
   "metadata": {},
   "source": [
    "# Listas\n",
    " + Son secuencias de elementos, que pueden ser de cualquier tipo: int, float, string e inclusive otras listas.\n",
    " + Mutables y ordenadas.\n",
    " + Cononocidas como arrays o vectores.\n",
    " + A cada elemento de la lista le corresponde una posicion o index, al cual se puede acceder como con las cadenas.\n",
    " + Tipicamente se escribe como entre corchetes los elementos y separados por comas."
   ]
  },
  {
   "cell_type": "code",
   "execution_count": 63,
   "metadata": {},
   "outputs": [],
   "source": [
    "lista1 = [2,4,5,22]\n",
    "lista2 = ['Mamiferos','Marsupiales']\n",
    "listas = [2,'a']"
   ]
  },
  {
   "cell_type": "markdown",
   "metadata": {},
   "source": [
    "**PREGUNTA**: ¿Cómo imprimirias el primer elemento de la lista 1?"
   ]
  },
  {
   "cell_type": "code",
   "execution_count": 66,
   "metadata": {},
   "outputs": [
    {
     "data": {
      "text/plain": [
       "[4, 5, 22]"
      ]
     },
     "execution_count": 66,
     "metadata": {},
     "output_type": "execute_result"
    }
   ],
   "source": [
    "lista1[1:]"
   ]
  },
  {
   "cell_type": "markdown",
   "metadata": {},
   "source": [
    "# Operador \"in\"\n",
    "\n",
    "+ No sólo se usa en los bucles FOR\n",
    "+ Permite saber si un elemento pertenece a un conjunto\n",
    "+ salida booleana\n",
    "```python\n",
    "'a' in 'abracadabra'\n",
    "True\n",
    "```\n",
    "**EJERCICIO**: corroborar que si el elemento 'Anfibios' está en la lista2 "
   ]
  },
  {
   "cell_type": "code",
   "execution_count": null,
   "metadata": {
    "collapsed": true
   },
   "outputs": [],
   "source": []
  },
  {
   "cell_type": "markdown",
   "metadata": {},
   "source": [
    "Se pueden alterar las litas: agregando o quitando elementos:\n",
    "```python\n",
    "lista2.append('Anfibios')\n",
    "print(lista2)\n",
    "lista2.insert('Reptiles',0)\n",
    "print(lista2)\n",
    "```"
   ]
  },
  {
   "cell_type": "code",
   "execution_count": 72,
   "metadata": {},
   "outputs": [],
   "source": [
    "lista1.append(3)"
   ]
  },
  {
   "cell_type": "code",
   "execution_count": 73,
   "metadata": {},
   "outputs": [
    {
     "data": {
      "text/plain": [
       "[2, 4, 5, 22, 3]"
      ]
     },
     "execution_count": 73,
     "metadata": {},
     "output_type": "execute_result"
    }
   ],
   "source": [
    "lista1"
   ]
  },
  {
   "cell_type": "code",
   "execution_count": 16,
   "metadata": {},
   "outputs": [
    {
     "name": "stdout",
     "output_type": "stream",
     "text": [
      "[2, 4, 22]\n"
     ]
    }
   ],
   "source": [
    "del lista1[2]\n",
    "print(lista1)"
   ]
  },
  {
   "cell_type": "code",
   "execution_count": 74,
   "metadata": {},
   "outputs": [
    {
     "data": {
      "text/plain": [
       "5"
      ]
     },
     "execution_count": 74,
     "metadata": {},
     "output_type": "execute_result"
    }
   ],
   "source": [
    "len(lista1)"
   ]
  },
  {
   "cell_type": "code",
   "execution_count": 20,
   "metadata": {},
   "outputs": [
    {
     "data": {
      "text/plain": [
       "True"
      ]
     },
     "execution_count": 20,
     "metadata": {},
     "output_type": "execute_result"
    }
   ],
   "source": [
    "4 in lista1"
   ]
  },
  {
   "cell_type": "markdown",
   "metadata": {},
   "source": [
    "Se puede operar con las listas"
   ]
  },
  {
   "cell_type": "code",
   "execution_count": 21,
   "metadata": {},
   "outputs": [
    {
     "data": {
      "text/plain": [
       "[2, 4, 22, 'Mamiferos', 'Marsupiales']"
      ]
     },
     "execution_count": 21,
     "metadata": {},
     "output_type": "execute_result"
    }
   ],
   "source": [
    "lista1 + lista2"
   ]
  },
  {
   "cell_type": "code",
   "execution_count": 22,
   "metadata": {},
   "outputs": [
    {
     "data": {
      "text/plain": [
       "['Mamiferos', 'Marsupiales', 'Mamiferos', 'Marsupiales']"
      ]
     },
     "execution_count": 22,
     "metadata": {},
     "output_type": "execute_result"
    }
   ],
   "source": [
    "lista2*2"
   ]
  },
  {
   "cell_type": "code",
   "execution_count": 17,
   "metadata": {},
   "outputs": [
    {
     "data": {
      "text/plain": [
       "2"
      ]
     },
     "execution_count": 17,
     "metadata": {},
     "output_type": "execute_result"
    }
   ],
   "source": [
    "min(lista1)"
   ]
  },
  {
   "cell_type": "code",
   "execution_count": 18,
   "metadata": {},
   "outputs": [
    {
     "data": {
      "text/plain": [
       "22"
      ]
     },
     "execution_count": 18,
     "metadata": {},
     "output_type": "execute_result"
    }
   ],
   "source": [
    "max(lista1)"
   ]
  },
  {
   "cell_type": "markdown",
   "metadata": {},
   "source": [
    "## Funciones de Listas\n",
    " - list.append() para agregar elementos\n",
    " - list.insert(index,obj) para insertar un elemento\n",
    " - list.sort() ordenar la lista\n",
    " - len(list) longitud de la lista/cantidad de elementos\n",
    " \n",
    " \n",
    " **EJERCICIO**: Crea una lita vacía denominada 'proteinas' y agrega los elementos: 'albumina' e 'IDO1'"
   ]
  },
  {
   "cell_type": "code",
   "execution_count": null,
   "metadata": {
    "collapsed": true
   },
   "outputs": [],
   "source": []
  },
  {
   "cell_type": "markdown",
   "metadata": {},
   "source": [
    "## Diccionarios\n",
    "* Los diccionarios son agrupaciones de datos del tipos Clave -> Valor. No tienen orden. Así como las listas se declaran con corchetes y las tuple con paréntesis, los diccionarios se declaran con llaves, siguiendo la sintaxis midict = {clave_1: \"valor\",clave_2: \"valor\"}\n",
    "```python\n",
    "mamiferos = {\"orangutan\" : 'placentario',\"canguro\" : 'marsupial'}\n",
    "```\n",
    "* Se puede acceder a los valores para cada clave haciendo, por ejemplo:\n",
    "```python\n",
    "mamiferos['orangutan']\n",
    "```\n",
    "* ¿Qué cosas quiero hacer un diccionario?\n",
    " * Guardar (o actualizar) un dato con clave\n",
    " * Recuperar un dato por su clave\n",
    " * Saber si una valor dado es una clave\n",
    " * Recuperar todas las claves\n",
    " * Eliminar valores.\n",
    " \n",
    "### Declarar diccionarios"
   ]
  },
  {
   "cell_type": "code",
   "execution_count": 78,
   "metadata": {},
   "outputs": [
    {
     "data": {
      "text/plain": [
       "[34, 2]"
      ]
     },
     "execution_count": 78,
     "metadata": {},
     "output_type": "execute_result"
    }
   ],
   "source": [
    "dic_edades = {'Ana': [34,2], 'Pato':30, 'Bruce':50}\n",
    "dic_edades['Ana']"
   ]
  },
  {
   "cell_type": "code",
   "execution_count": 80,
   "metadata": {},
   "outputs": [
    {
     "data": {
      "text/plain": [
       "dict_values([[34, 2], 30, 50])"
      ]
     },
     "execution_count": 80,
     "metadata": {},
     "output_type": "execute_result"
    }
   ],
   "source": [
    "dic_edades.values()"
   ]
  },
  {
   "cell_type": "markdown",
   "metadata": {},
   "source": [
    "Con la función **dict()** creamos un nuevo diccionario vacio. Y agregamos valores para distintas claves\n",
    "```python\n",
    "personas = dict()\n",
    "personas['Guille'] = 'Profe'\n",
    "persona['Carla'] = 'Estudiante'\n",
    "```"
   ]
  },
  {
   "cell_type": "markdown",
   "metadata": {
    "collapsed": true
   },
   "source": [
    "O podemos simplemente declarar el diccionario como una variable, que entre llaves tiene las claves y los valores separados por comas\n",
    "```python\n",
    "tyrode = {'ClNa': 58.443, 'ClK': 74.55, 'NaH2PO4.2H2O': 138, 'MgSO4.7H2O': 5.16, 'HEPES': 238.31}\n",
    "```"
   ]
  },
  {
   "cell_type": "markdown",
   "metadata": {},
   "source": [
    "## Acceso a los elementos del diccionario\n",
    "* Las funciones **keys()** y **values()** permiten recuperar listas con las claves y los valores. \n",
    "* No tienen ningún orden."
   ]
  },
  {
   "cell_type": "code",
   "execution_count": 23,
   "metadata": {},
   "outputs": [
    {
     "name": "stdout",
     "output_type": "stream",
     "text": [
      "{'NaH2PO4.2H2O': 138, 'HEPES': 238.31, 'MgSO4.7H2O': 5.16, 'ClNa': 58.443, 'ClK': 74.55}\n"
     ]
    }
   ],
   "source": [
    "tyrode = {'ClNa': 58.443, 'ClK': 74.55, 'NaH2PO4.2H2O': 138, 'MgSO4.7H2O': 5.16, 'HEPES': 238.31}\n",
    "\n",
    "print(tyrode)"
   ]
  },
  {
   "cell_type": "code",
   "execution_count": 24,
   "metadata": {},
   "outputs": [
    {
     "data": {
      "text/plain": [
       "['NaH2PO4.2H2O', 'HEPES', 'MgSO4.7H2O', 'ClNa', 'ClK']"
      ]
     },
     "execution_count": 24,
     "metadata": {},
     "output_type": "execute_result"
    }
   ],
   "source": [
    "tyrode.keys()"
   ]
  },
  {
   "cell_type": "code",
   "execution_count": null,
   "metadata": {},
   "outputs": [],
   "source": []
  },
  {
   "cell_type": "code",
   "execution_count": 25,
   "metadata": {},
   "outputs": [
    {
     "data": {
      "text/plain": [
       "[138, 238.31, 5.16, 58.443, 74.55]"
      ]
     },
     "execution_count": 25,
     "metadata": {},
     "output_type": "execute_result"
    }
   ],
   "source": [
    "tyrode.values()"
   ]
  },
  {
   "cell_type": "markdown",
   "metadata": {},
   "source": [
    "# Tuplas\n",
    "\n",
    "- No se pueden agregar ni quitar elementos de la tupla\n",
    "- Es como una secuencia de elementos, pero inmutable\n",
    "- No se pueden asignar elementos a una tupla\n",
    "- Tienen orden"
   ]
  },
  {
   "cell_type": "code",
   "execution_count": 5,
   "metadata": {
    "collapsed": true
   },
   "outputs": [],
   "source": [
    "tupla = (1,2,32)"
   ]
  },
  {
   "cell_type": "code",
   "execution_count": 6,
   "metadata": {},
   "outputs": [
    {
     "ename": "TypeError",
     "evalue": "'tuple' object doesn't support item deletion",
     "output_type": "error",
     "traceback": [
      "\u001b[1;31m---------------------------------------------------------------------------\u001b[0m",
      "\u001b[1;31mTypeError\u001b[0m                                 Traceback (most recent call last)",
      "\u001b[1;32m<ipython-input-6-30fa2759a7c2>\u001b[0m in \u001b[0;36m<module>\u001b[1;34m()\u001b[0m\n\u001b[1;32m----> 1\u001b[1;33m \u001b[1;32mdel\u001b[0m \u001b[0mtupla\u001b[0m\u001b[1;33m[\u001b[0m\u001b[1;36m0\u001b[0m\u001b[1;33m]\u001b[0m\u001b[1;33m\u001b[0m\u001b[0m\n\u001b[0m",
      "\u001b[1;31mTypeError\u001b[0m: 'tuple' object doesn't support item deletion"
     ]
    }
   ],
   "source": [
    "del tupla[0]"
   ]
  },
  {
   "cell_type": "code",
   "execution_count": 69,
   "metadata": {},
   "outputs": [
    {
     "data": {
      "text/plain": [
       "3"
      ]
     },
     "execution_count": 69,
     "metadata": {},
     "output_type": "execute_result"
    }
   ],
   "source": [
    "len(tupla)"
   ]
  },
  {
   "cell_type": "code",
   "execution_count": 70,
   "metadata": {},
   "outputs": [
    {
     "data": {
      "text/plain": [
       "1"
      ]
     },
     "execution_count": 70,
     "metadata": {},
     "output_type": "execute_result"
    }
   ],
   "source": [
    "tupla[0]"
   ]
  },
  {
   "cell_type": "markdown",
   "metadata": {
    "slideshow": {
     "slide_type": "slide"
    }
   },
   "source": [
    "# Estructuras de control\n",
    "Python, al igual que todos los lenguages de programación, incluye sentencias permiten controlar el flujo del programa. Esto permite tomar desiciones, repetir una tarea y recorrer estructuras de datos.\n",
    "\n",
    "## Estructuración por indentación\n",
    "* La indentación es el espacio que existe entre cada línea de código y el margen.\n",
    "* A diferencia de muchos otros lenguages de programación, la indentación en python no es sólo por estética sino que define la estructura del código.\n",
    "\n",
    "## Construcción Loop FOR\n",
    "\n",
    "``` python\n",
    "for x in iterable:\n",
    "    orden 1\n",
    "    orden 2\n",
    "```\n",
    "\n",
    "- los bloques se identifican por la indentación"
   ]
  },
  {
   "cell_type": "code",
   "execution_count": 82,
   "metadata": {},
   "outputs": [
    {
     "name": "stdout",
     "output_type": "stream",
     "text": [
      "2\n",
      "3\n",
      "5\n"
     ]
    }
   ],
   "source": [
    "lista = [2,3,5]\n",
    "for elemento in lista:\n",
    "    print(elemento) "
   ]
  },
  {
   "cell_type": "code",
   "execution_count": 26,
   "metadata": {},
   "outputs": [],
   "source": [
    "lista_PDB_chain = ['4ro0_A','4ro0_B','3v03_A']\n",
    "\n",
    "pdbs = []\n",
    "for i in lista_PDB_chain:\n",
    "    pdb = i[0:4]\n",
    "    pdbs.append(pdb)"
   ]
  },
  {
   "cell_type": "code",
   "execution_count": 27,
   "metadata": {},
   "outputs": [
    {
     "data": {
      "text/plain": [
       "['4ro0', '4ro0', '3v03']"
      ]
     },
     "execution_count": 27,
     "metadata": {},
     "output_type": "execute_result"
    }
   ],
   "source": [
    "pdbs"
   ]
  },
  {
   "cell_type": "markdown",
   "metadata": {},
   "source": [
    "**Ejercicio**: Dado la siguiente lista de secuencias extraer la lista de códigos de GenBank\n",
    "\n",
    "\n",
    "```\n",
    ">AJ224444.1 Plasmodium falciparum mRNA for cAMP-dependent protein kinase AAGATTTATTCATATGCATATTTTTATATATACATAATAAAAATAAAACTTCTCGCTATGCAGTTTATCA\n",
    ">AE014296.5 Drosophila melanogaster chromosome 3L TAGGGAGAAATATGATCGCGTATGCGAGAGTAGTGCCAACATATTGTGCTCTTTGATTTTTTGGCAACCC\n",
    ">XM_002286119.1 Thalassiosira pseudonana CCMP1335 cAMP dependent protein kinase (PKA), partial mRNA TCTATTGCAGACTTTGACATTGGTGTGACTCTCGGAACAGGATCGTTCGGTCGAGTACGATTTGCAACTC\n",
    "```"
   ]
  },
  {
   "cell_type": "code",
   "execution_count": null,
   "metadata": {
    "collapsed": true
   },
   "outputs": [],
   "source": []
  },
  {
   "cell_type": "markdown",
   "metadata": {
    "slideshow": {
     "slide_type": "slide"
    }
   },
   "source": [
    "# Todo lo iterable se puede iterar (¡plop!)\n",
    "\n",
    "- iterables son objetos que contienen el método \\_\\_iter\\_\\_():\n",
    "    - números que provienen de range, arange, etc\n",
    "    - cadenas de caracteres\n",
    "    - lineas de un archivo de texto\n",
    "    - listas\n",
    "    - tuplas\n",
    "    - diccionarios\n",
    "    - objetos creados por el usuario\n",
    "    - ...\n"
   ]
  },
  {
   "cell_type": "code",
   "execution_count": 1,
   "metadata": {
    "slideshow": {
     "slide_type": "fragment"
    }
   },
   "outputs": [],
   "source": []
  },
  {
   "cell_type": "markdown",
   "metadata": {},
   "source": [
    "# Toma de decisiones\n",
    "\n",
    "\n",
    "## if...else...\n",
    "\n",
    "La estructura general es:\n",
    "```python\n",
    "if condicion:\n",
    "    Codigo si la condicion es verdadera\n",
    "else:\n",
    "    Codigo si la condicion es falsa\n",
    "```\n",
    "\n",
    "**los bloques se identifican por la indentación**"
   ]
  },
  {
   "cell_type": "markdown",
   "metadata": {},
   "source": [
    "## If evalúa condiciones lógicas\n",
    "### la condición siempre debe evaluar a True o False\n",
    "\n",
    "+ puede ser una expresión: \n",
    "    \n",
    "    ``` python \n",
    "    if valor > umbral:\n",
    "        bloque de ordenes\n",
    "    ```\n",
    "    \n",
    "+ pueden ser varias expresiones: \n",
    "    \n",
    "    ``` python \n",
    "    if (valor > piso) and (valor < techo):\n",
    "        bloque de ordenes\n",
    "    ```"
   ]
  },
  {
   "cell_type": "code",
   "execution_count": 31,
   "metadata": {},
   "outputs": [
    {
     "name": "stdout",
     "output_type": "stream",
     "text": [
      "4ro0\n",
      "4ro0\n",
      "3v03\n",
      "ups!no hay PDB\n"
     ]
    }
   ],
   "source": [
    "lista_PDB_chain = ['4ro0_A','4ro0_B','3v03_A','no data']\n",
    "\n",
    "pdbs = []\n",
    "for i in lista_PDB_chain:\n",
    "    if i != 'no data':\n",
    "        pdb = i[0:4]\n",
    "        print(pdb)\n",
    "    else:\n",
    "        print('ups!no hay PDB')"
   ]
  },
  {
   "cell_type": "markdown",
   "metadata": {},
   "source": [
    "# Anidando condiciones (elif)"
   ]
  },
  {
   "cell_type": "code",
   "execution_count": 31,
   "metadata": {},
   "outputs": [
    {
     "name": "stdout",
     "output_type": "stream",
     "text": [
      "El termo es mas pequeño que el bidón\n",
      "¡Es obvio!\n",
      "\n",
      "hasta la vista, baby!\n"
     ]
    }
   ],
   "source": [
    "bidon = 15\n",
    "termo = 0.9\n",
    "\n",
    "if termo < bidon:\n",
    "    print(\"El termo es mas pequeño que el bidón\")\n",
    "    print(\"¡Es obvio!\")\n",
    "elif (termo - bidon) < 0.05:\n",
    "    print(\"Tenés un termo raro: ¡es igual al bidón!\")\n",
    "    print(\"¡muy raro!\")\n",
    "else:\n",
    "    print(\"El termo es más grande que el bidón\")\n",
    "\n",
    "print(\"\\nhasta la vista, baby!\")"
   ]
  },
  {
   "cell_type": "markdown",
   "metadata": {},
   "source": [
    "# Leer y escribir archivos archivos\n",
    "\n",
    "- Podemos leer archivos y almacenarlos en variables para ser manipulados.\n",
    "- Existen distintos métodos para parsear archivos, multiples librerías bastante específicas que nos permiten parsear tipos de archivos distintos (html, csv, texto, excel)\n",
    "\n",
    "### Podemos empezar por la forma mas símple:\n",
    "+ Si abrimos un archivo existen distintos modos de abrirlos: \n",
    "    + para lectura ('r') \n",
    "    + para escritura ('w') \n",
    "    + para escritura pero que no sobre escriba el archivo sino que agregue la información debajo de lo que ya existe ('a')"
   ]
  },
  {
   "cell_type": "code",
   "execution_count": 33,
   "metadata": {},
   "outputs": [],
   "source": [
    "#Aqui le decimos a Python que abra el archivo y lo lea\n",
    "a = open('../Python_RSG_workshop/texto.txt', 'r').read()"
   ]
  },
  {
   "cell_type": "code",
   "execution_count": 34,
   "metadata": {},
   "outputs": [
    {
     "name": "stdout",
     "output_type": "stream",
     "text": [
      "Hola!Este es nuestro texto.\n",
      "Un ejemplo pequeño pero grande\n",
      "\n"
     ]
    }
   ],
   "source": [
    "print(a)"
   ]
  },
  {
   "cell_type": "code",
   "execution_count": 36,
   "metadata": {},
   "outputs": [],
   "source": [
    "#Aqui le decimos a Python que abra el archivo y lo lea linea a linea\n",
    "a = open('../Python_RSG_workshop/texto.txt', 'r').readlines()"
   ]
  },
  {
   "cell_type": "code",
   "execution_count": 37,
   "metadata": {
    "collapsed": true
   },
   "outputs": [],
   "source": [
    "#Si en cambio queremos escribir un archivo\n",
    "with open('/home/usuario/Escritorio/texto.txt', 'a') as mi_archivo:\n",
    "    mi_archivo.write('Aqui va el string o int que quieran'+'\\n')"
   ]
  },
  {
   "cell_type": "code",
   "execution_count": 38,
   "metadata": {},
   "outputs": [
    {
     "name": "stdout",
     "output_type": "stream",
     "text": [
      "Aqui va el string o int que quieran\n",
      "\n"
     ]
    }
   ],
   "source": [
    "a = open('/home/usuario/Escritorio/texto.txt', 'r').read()\n",
    "print(a)"
   ]
  },
  {
   "cell_type": "markdown",
   "metadata": {},
   "source": [
    "# Pandas: Un osito cariñosito!\n",
    "Pandas es un paquete que nos permite trabajar con archivos de formato definido: CSV, un excel, etc. Además, Pandas proporciona estructuras de datos rápidas, flexibles y expresivas diseñadas para que trabajar con datos \"relacionales\" o \"etiquetados\" sea fácil e intuitivo. En criollo Pandas es como en excel, pero super duper!\n",
    "\n",
    "**Pandas soporta múltipes tipos de datos:**\n",
    "\n",
    "+ Datos tabulares con columnas de tipo heterogéneo, como en una tabla SQL o en una hoja de cálculo de Excel\n",
    "+ Datos ordenados y desordenados (no necesariamente frecuencia fija).\n",
    "+ Datos matriciales arbitrarios (homogéneamente tipados o heterogéneos) con etiquetas de fila y columna\n",
    "+ Cualquier otra forma de conjuntos de datos observacionales / estadísticos. Los datos en realidad no necesitan ser etiquetados para ser colocados en una estructura de datos de pandas\n",
    "\n",
    "\n",
    "**Estructuras de datos que maneja:**\n",
    "\n",
    "- Series (1-dimensional)\n",
    "- DataFrames (2-dimensional). En otras palabras, DataFrame es una estructura tabular bidimensional de datos tabulares, potencialmente heterogéneos, con ejes etiquetados (filas y columnas). Las operaciones aritméticas se alinean en las etiquetas de fila y columna. Se puede considerar como un contenedor similar a un dict para objetos Serie. La estructura de datos de los pandas primarios. Los DataFrames de pandas proporcionan las mismos tipos de usos y utilidades que los data.frame de R.\n",
    "\n",
    "Por lo tanto, la serie es la estructura de datos para una sola columna de un DataFrame, no solo conceptualmente, sino literalmente, es decir, los datos en un DataFrame se almacenan realmente en la memoria como una colección de Series."
   ]
  },
  {
   "cell_type": "code",
   "execution_count": 85,
   "metadata": {},
   "outputs": [],
   "source": [
    "#Como veran aqui importamos pandas y al mismo tiempor lo renombramo como 'pd' \n",
    "#Asi al llamarlo escribimos menos\n",
    "import pandas as pd"
   ]
  },
  {
   "cell_type": "code",
   "execution_count": 94,
   "metadata": {},
   "outputs": [],
   "source": [
    "#Leyendo el archivo delimitado por ';'\n",
    "df = pd.read_csv('/home/ana/Bioinfo_UNQ/Trabajos_Practicos/Intro_Python/ejemplo_tabla', sep= ';',header=0)"
   ]
  },
  {
   "cell_type": "markdown",
   "metadata": {},
   "source": [
    "Podríamos haber usado pd.read_table(), en general es indistinto, la diferencia radica principalmente en los parámetros por default que se encuentran seteados para la lectura de los archivos:\n",
    "        - El caracter de separación de columnas para read_cvs es una coma (',') mientras que para read_fwf es una tab ('\\t').\n",
    "\n",
    "**Ambos nos permiten leer el archivo por partes (chunksize) de modo de no saturar la memoria al levantar archivos muy pesados.**\n",
    "\n",
    "### Operando con las columnas\n",
    "\n",
    "+ Accedemos a cada columna haciendo df['nombre de la columna'] (donde df es el nombre génerico para designar DataFrame, en nuestro caso por ejemplo hacemos:\n",
    "``` python\n",
    "tabla['nombre de la columna']\n",
    "```\n",
    "**¿Podés imprimir la columna de los RMSD de nuestra tabla?**"
   ]
  },
  {
   "cell_type": "code",
   "execution_count": 108,
   "metadata": {},
   "outputs": [
    {
     "data": {
      "text/html": [
       "<div>\n",
       "<style scoped>\n",
       "    .dataframe tbody tr th:only-of-type {\n",
       "        vertical-align: middle;\n",
       "    }\n",
       "\n",
       "    .dataframe tbody tr th {\n",
       "        vertical-align: top;\n",
       "    }\n",
       "\n",
       "    .dataframe thead th {\n",
       "        text-align: right;\n",
       "    }\n",
       "</style>\n",
       "<table border=\"1\" class=\"dataframe\">\n",
       "  <thead>\n",
       "    <tr style=\"text-align: right;\">\n",
       "      <th></th>\n",
       "      <th>PDB</th>\n",
       "      <th>RMSD</th>\n",
       "      <th>longitud</th>\n",
       "    </tr>\n",
       "  </thead>\n",
       "  <tbody>\n",
       "    <tr>\n",
       "      <th>0</th>\n",
       "      <td>2DML_A</td>\n",
       "      <td>4.10</td>\n",
       "      <td>255</td>\n",
       "    </tr>\n",
       "    <tr>\n",
       "      <th>1</th>\n",
       "      <td>3PMN_B</td>\n",
       "      <td>0.52</td>\n",
       "      <td>300</td>\n",
       "    </tr>\n",
       "    <tr>\n",
       "      <th>2</th>\n",
       "      <td>2DIN_A</td>\n",
       "      <td>2.30</td>\n",
       "      <td>800</td>\n",
       "    </tr>\n",
       "    <tr>\n",
       "      <th>3</th>\n",
       "      <td>3PUM_B</td>\n",
       "      <td>0.72</td>\n",
       "      <td>1500</td>\n",
       "    </tr>\n",
       "    <tr>\n",
       "      <th>4</th>\n",
       "      <td>2DUM_A</td>\n",
       "      <td>0.61</td>\n",
       "      <td>230</td>\n",
       "    </tr>\n",
       "  </tbody>\n",
       "</table>\n",
       "</div>"
      ],
      "text/plain": [
       "      PDB  RMSD  longitud\n",
       "0  2DML_A  4.10       255\n",
       "1  3PMN_B  0.52       300\n",
       "2  2DIN_A  2.30       800\n",
       "3  3PUM_B  0.72      1500\n",
       "4  2DUM_A  0.61       230"
      ]
     },
     "execution_count": 108,
     "metadata": {},
     "output_type": "execute_result"
    }
   ],
   "source": [
    "#Nos permite ver el encabezado del archivo: este caso le pedimos que nos muestre 5 rows\n",
    "df.head(5)"
   ]
  },
  {
   "cell_type": "markdown",
   "metadata": {},
   "source": [
    "+ Cada columna de un DataFrame es una serie de datos al que podemos acceder como una lista:\n",
    "``` python\n",
    "df['columna'].tolist()\n",
    "```\n",
    "**EJERCICIO:** Extrae la columna de los valores de RMSD y almacenalos en una lista de nombre 'rmsds'"
   ]
  },
  {
   "cell_type": "code",
   "execution_count": null,
   "metadata": {
    "collapsed": true
   },
   "outputs": [],
   "source": []
  },
  {
   "cell_type": "markdown",
   "metadata": {},
   "source": [
    "Podemos obtener los nombres de las columnas\n",
    "\n",
    "```python\n",
    "list(df)\n",
    "```\n",
    "\n",
    "Podemos conocer la longitud de nuestro DataFrame utiizando la misma función len() que hemos visto para listas y strings:\n",
    "``` python\n",
    "len(df)\n",
    "```\n",
    "Podemos declarar una nueva columna simplemente haciendo:\n",
    "```python\n",
    "df['columna_nueva'] = lista_de_datos\n",
    "```\n",
    "**EJERCICIO**: generar una nueva columna en nuestro df cuyos valores sean el doble de la longitud de la proteína."
   ]
  },
  {
   "cell_type": "code",
   "execution_count": 117,
   "metadata": {},
   "outputs": [],
   "source": [
    "indexes = [(x+2) for x in range(0,len(df))]\n",
    "df['indexes'] = indexes"
   ]
  },
  {
   "cell_type": "code",
   "execution_count": 119,
   "metadata": {},
   "outputs": [],
   "source": [
    "df['doble'] = df['longitud']*2"
   ]
  },
  {
   "cell_type": "code",
   "execution_count": 120,
   "metadata": {},
   "outputs": [
    {
     "data": {
      "text/html": [
       "<div>\n",
       "<style scoped>\n",
       "    .dataframe tbody tr th:only-of-type {\n",
       "        vertical-align: middle;\n",
       "    }\n",
       "\n",
       "    .dataframe tbody tr th {\n",
       "        vertical-align: top;\n",
       "    }\n",
       "\n",
       "    .dataframe thead th {\n",
       "        text-align: right;\n",
       "    }\n",
       "</style>\n",
       "<table border=\"1\" class=\"dataframe\">\n",
       "  <thead>\n",
       "    <tr style=\"text-align: right;\">\n",
       "      <th></th>\n",
       "      <th>PDB</th>\n",
       "      <th>RMSD</th>\n",
       "      <th>longitud</th>\n",
       "      <th>indexes</th>\n",
       "      <th>doble</th>\n",
       "    </tr>\n",
       "  </thead>\n",
       "  <tbody>\n",
       "    <tr>\n",
       "      <th>0</th>\n",
       "      <td>2DML_A</td>\n",
       "      <td>4.10</td>\n",
       "      <td>255</td>\n",
       "      <td>2</td>\n",
       "      <td>510</td>\n",
       "    </tr>\n",
       "    <tr>\n",
       "      <th>1</th>\n",
       "      <td>3PMN_B</td>\n",
       "      <td>0.52</td>\n",
       "      <td>300</td>\n",
       "      <td>3</td>\n",
       "      <td>600</td>\n",
       "    </tr>\n",
       "    <tr>\n",
       "      <th>2</th>\n",
       "      <td>2DIN_A</td>\n",
       "      <td>2.30</td>\n",
       "      <td>800</td>\n",
       "      <td>4</td>\n",
       "      <td>1600</td>\n",
       "    </tr>\n",
       "    <tr>\n",
       "      <th>3</th>\n",
       "      <td>3PUM_B</td>\n",
       "      <td>0.72</td>\n",
       "      <td>1500</td>\n",
       "      <td>5</td>\n",
       "      <td>3000</td>\n",
       "    </tr>\n",
       "    <tr>\n",
       "      <th>4</th>\n",
       "      <td>2DUM_A</td>\n",
       "      <td>0.61</td>\n",
       "      <td>230</td>\n",
       "      <td>6</td>\n",
       "      <td>460</td>\n",
       "    </tr>\n",
       "  </tbody>\n",
       "</table>\n",
       "</div>"
      ],
      "text/plain": [
       "      PDB  RMSD  longitud  indexes  doble\n",
       "0  2DML_A  4.10       255        2    510\n",
       "1  3PMN_B  0.52       300        3    600\n",
       "2  2DIN_A  2.30       800        4   1600\n",
       "3  3PUM_B  0.72      1500        5   3000\n",
       "4  2DUM_A  0.61       230        6    460"
      ]
     },
     "execution_count": 120,
     "metadata": {},
     "output_type": "execute_result"
    }
   ],
   "source": [
    "df.head()"
   ]
  },
  {
   "cell_type": "code",
   "execution_count": 111,
   "metadata": {},
   "outputs": [
    {
     "data": {
      "text/plain": [
       "4.1"
      ]
     },
     "execution_count": 111,
     "metadata": {},
     "output_type": "execute_result"
    }
   ],
   "source": [
    "#podemos acceder a una fila\n",
    "df['RMSD'].iloc[0]"
   ]
  },
  {
   "cell_type": "code",
   "execution_count": 122,
   "metadata": {},
   "outputs": [],
   "source": [
    "df.to_csv('/home/ana/Bioinfo_UNQ/Trabajos_Practicos/Intro_Python/ejemplo_tabla_2',sep=';',index=False)"
   ]
  },
  {
   "cell_type": "markdown",
   "metadata": {},
   "source": [
    "+ Podemos obtener la lista de datos de una columna dada\n",
    "```python\n",
    "df['longitud'].tolist()\n",
    "```\n",
    "+ Podemos guardar la nueva tabla\n",
    "```python\n",
    "df.to_csv('../Escritorio/tablanueva', sep=';',index=False)\n",
    "```\n",
    "+ Podemos operar con las columnas con los mismo operadores relacionales y matemáticos que ya hemos visto:\n",
    "``` python\n",
    "df['columna'] * 2\n",
    "df['columna'] + 2\n",
    "df['columna'] > 2  \n",
    "```          \n",
    "**¿Qué nos dá en el último caso?**"
   ]
  },
  {
   "cell_type": "code",
   "execution_count": null,
   "metadata": {
    "collapsed": true
   },
   "outputs": [],
   "source": []
  },
  {
   "cell_type": "markdown",
   "metadata": {},
   "source": [
    "### Filtrar las tablas\n",
    " - Para ello usamos los operadores relacionales que vimos antes y usamos el estilo de filtros que prodríamos usar en excel"
   ]
  },
  {
   "cell_type": "code",
   "execution_count": 26,
   "metadata": {},
   "outputs": [
    {
     "data": {
      "text/html": [
       "<div>\n",
       "<table border=\"1\" class=\"dataframe\">\n",
       "  <thead>\n",
       "    <tr style=\"text-align: right;\">\n",
       "      <th></th>\n",
       "      <th>PDB</th>\n",
       "      <th>RMSD</th>\n",
       "      <th>longitud</th>\n",
       "    </tr>\n",
       "  </thead>\n",
       "  <tbody>\n",
       "    <tr>\n",
       "      <th>0</th>\n",
       "      <td>2DML_A</td>\n",
       "      <td>4.1</td>\n",
       "      <td>255</td>\n",
       "    </tr>\n",
       "  </tbody>\n",
       "</table>\n",
       "</div>"
      ],
      "text/plain": [
       "      PDB  RMSD  longitud\n",
       "0  2DML_A   4.1       255"
      ]
     },
     "execution_count": 26,
     "metadata": {},
     "output_type": "execute_result"
    }
   ],
   "source": [
    "df[(df['RMSD']== 4.10) & (df['longitud'] == 255)]"
   ]
  },
  {
   "cell_type": "code",
   "execution_count": 130,
   "metadata": {
    "scrolled": true
   },
   "outputs": [
    {
     "data": {
      "text/html": [
       "<div>\n",
       "<style scoped>\n",
       "    .dataframe tbody tr th:only-of-type {\n",
       "        vertical-align: middle;\n",
       "    }\n",
       "\n",
       "    .dataframe tbody tr th {\n",
       "        vertical-align: top;\n",
       "    }\n",
       "\n",
       "    .dataframe thead th {\n",
       "        text-align: right;\n",
       "    }\n",
       "</style>\n",
       "<table border=\"1\" class=\"dataframe\">\n",
       "  <thead>\n",
       "    <tr style=\"text-align: right;\">\n",
       "      <th></th>\n",
       "      <th>PDB</th>\n",
       "      <th>RMSD</th>\n",
       "      <th>longitud</th>\n",
       "      <th>indexes</th>\n",
       "      <th>doble</th>\n",
       "    </tr>\n",
       "  </thead>\n",
       "  <tbody>\n",
       "    <tr>\n",
       "      <th>3</th>\n",
       "      <td>3PUM_B</td>\n",
       "      <td>0.72</td>\n",
       "      <td>1500</td>\n",
       "      <td>5</td>\n",
       "      <td>3000</td>\n",
       "    </tr>\n",
       "    <tr>\n",
       "      <th>5</th>\n",
       "      <td>3PAM_B</td>\n",
       "      <td>0.82</td>\n",
       "      <td>450</td>\n",
       "      <td>7</td>\n",
       "      <td>900</td>\n",
       "    </tr>\n",
       "    <tr>\n",
       "      <th>7</th>\n",
       "      <td>3SIN_B</td>\n",
       "      <td>0.52</td>\n",
       "      <td>555</td>\n",
       "      <td>9</td>\n",
       "      <td>1110</td>\n",
       "    </tr>\n",
       "    <tr>\n",
       "      <th>11</th>\n",
       "      <td>3COM_B</td>\n",
       "      <td>0.52</td>\n",
       "      <td>890</td>\n",
       "      <td>13</td>\n",
       "      <td>1780</td>\n",
       "    </tr>\n",
       "    <tr>\n",
       "      <th>12</th>\n",
       "      <td>2LDA_A</td>\n",
       "      <td>0.10</td>\n",
       "      <td>1200</td>\n",
       "      <td>14</td>\n",
       "      <td>2400</td>\n",
       "    </tr>\n",
       "    <tr>\n",
       "      <th>15</th>\n",
       "      <td>3PAN_B</td>\n",
       "      <td>0.52</td>\n",
       "      <td>800</td>\n",
       "      <td>17</td>\n",
       "      <td>1600</td>\n",
       "    </tr>\n",
       "  </tbody>\n",
       "</table>\n",
       "</div>"
      ],
      "text/plain": [
       "       PDB  RMSD  longitud  indexes  doble\n",
       "3   3PUM_B  0.72      1500        5   3000\n",
       "5   3PAM_B  0.82       450        7    900\n",
       "7   3SIN_B  0.52       555        9   1110\n",
       "11  3COM_B  0.52       890       13   1780\n",
       "12  2LDA_A  0.10      1200       14   2400\n",
       "15  3PAN_B  0.52       800       17   1600"
      ]
     },
     "execution_count": 130,
     "metadata": {},
     "output_type": "execute_result"
    }
   ],
   "source": [
    "df[(df['longitud']>300)&(df['RMSD']<1)]['RMSD'].iloc[0]"
   ]
  },
  {
   "cell_type": "markdown",
   "metadata": {},
   "source": [
    "+ Como ya vimos podemos acceder al valor de una celda haciendo:\n",
    "``` python\n",
    "df['nombre de la columna'].loc[0]\n",
    "```                \n",
    "**¿Podrías ahora mostrar el valor de RMSD de la linea correspondiente al filtro aplicado anteriormente?**"
   ]
  },
  {
   "cell_type": "code",
   "execution_count": null,
   "metadata": {
    "collapsed": true
   },
   "outputs": [],
   "source": []
  },
  {
   "cell_type": "markdown",
   "metadata": {},
   "source": [
    "## Estadística básica"
   ]
  },
  {
   "cell_type": "code",
   "execution_count": 131,
   "metadata": {},
   "outputs": [
    {
     "data": {
      "text/html": [
       "<div>\n",
       "<style scoped>\n",
       "    .dataframe tbody tr th:only-of-type {\n",
       "        vertical-align: middle;\n",
       "    }\n",
       "\n",
       "    .dataframe tbody tr th {\n",
       "        vertical-align: top;\n",
       "    }\n",
       "\n",
       "    .dataframe thead th {\n",
       "        text-align: right;\n",
       "    }\n",
       "</style>\n",
       "<table border=\"1\" class=\"dataframe\">\n",
       "  <thead>\n",
       "    <tr style=\"text-align: right;\">\n",
       "      <th></th>\n",
       "      <th>RMSD</th>\n",
       "      <th>longitud</th>\n",
       "      <th>indexes</th>\n",
       "      <th>doble</th>\n",
       "    </tr>\n",
       "  </thead>\n",
       "  <tbody>\n",
       "    <tr>\n",
       "      <th>count</th>\n",
       "      <td>16.000000</td>\n",
       "      <td>16.000000</td>\n",
       "      <td>16.000000</td>\n",
       "      <td>16.000000</td>\n",
       "    </tr>\n",
       "    <tr>\n",
       "      <th>mean</th>\n",
       "      <td>1.615625</td>\n",
       "      <td>676.125000</td>\n",
       "      <td>9.500000</td>\n",
       "      <td>1352.250000</td>\n",
       "    </tr>\n",
       "    <tr>\n",
       "      <th>std</th>\n",
       "      <td>1.362375</td>\n",
       "      <td>363.601407</td>\n",
       "      <td>4.760952</td>\n",
       "      <td>727.202814</td>\n",
       "    </tr>\n",
       "    <tr>\n",
       "      <th>min</th>\n",
       "      <td>0.100000</td>\n",
       "      <td>150.000000</td>\n",
       "      <td>2.000000</td>\n",
       "      <td>300.000000</td>\n",
       "    </tr>\n",
       "    <tr>\n",
       "      <th>25%</th>\n",
       "      <td>0.520000</td>\n",
       "      <td>412.500000</td>\n",
       "      <td>5.750000</td>\n",
       "      <td>825.000000</td>\n",
       "    </tr>\n",
       "    <tr>\n",
       "      <th>50%</th>\n",
       "      <td>0.960000</td>\n",
       "      <td>678.000000</td>\n",
       "      <td>9.500000</td>\n",
       "      <td>1356.000000</td>\n",
       "    </tr>\n",
       "    <tr>\n",
       "      <th>75%</th>\n",
       "      <td>2.665000</td>\n",
       "      <td>822.500000</td>\n",
       "      <td>13.250000</td>\n",
       "      <td>1645.000000</td>\n",
       "    </tr>\n",
       "    <tr>\n",
       "      <th>max</th>\n",
       "      <td>4.100000</td>\n",
       "      <td>1500.000000</td>\n",
       "      <td>17.000000</td>\n",
       "      <td>3000.000000</td>\n",
       "    </tr>\n",
       "  </tbody>\n",
       "</table>\n",
       "</div>"
      ],
      "text/plain": [
       "            RMSD     longitud    indexes        doble\n",
       "count  16.000000    16.000000  16.000000    16.000000\n",
       "mean    1.615625   676.125000   9.500000  1352.250000\n",
       "std     1.362375   363.601407   4.760952   727.202814\n",
       "min     0.100000   150.000000   2.000000   300.000000\n",
       "25%     0.520000   412.500000   5.750000   825.000000\n",
       "50%     0.960000   678.000000   9.500000  1356.000000\n",
       "75%     2.665000   822.500000  13.250000  1645.000000\n",
       "max     4.100000  1500.000000  17.000000  3000.000000"
      ]
     },
     "execution_count": 131,
     "metadata": {},
     "output_type": "execute_result"
    }
   ],
   "source": [
    "df.describe()"
   ]
  },
  {
   "cell_type": "code",
   "execution_count": 14,
   "metadata": {},
   "outputs": [
    {
     "data": {
      "text/plain": [
       "676.125"
      ]
     },
     "execution_count": 14,
     "metadata": {},
     "output_type": "execute_result"
    }
   ],
   "source": [
    "df['longitud'].mean()"
   ]
  },
  {
   "cell_type": "code",
   "execution_count": 16,
   "metadata": {},
   "outputs": [
    {
     "data": {
      "text/plain": [
       "1500"
      ]
     },
     "execution_count": 16,
     "metadata": {},
     "output_type": "execute_result"
    }
   ],
   "source": [
    "df['longitud'].max()"
   ]
  },
  {
   "cell_type": "code",
   "execution_count": 17,
   "metadata": {},
   "outputs": [
    {
     "data": {
      "text/plain": [
       "150"
      ]
     },
     "execution_count": 17,
     "metadata": {},
     "output_type": "execute_result"
    }
   ],
   "source": [
    "df['longitud'].min()"
   ]
  },
  {
   "cell_type": "markdown",
   "metadata": {},
   "source": [
    "## Graficar"
   ]
  },
  {
   "cell_type": "markdown",
   "metadata": {},
   "source": [
    "###### Para eso le decimos que nos muestre los graficos aqui mismo:"
   ]
  },
  {
   "cell_type": "code",
   "execution_count": 135,
   "metadata": {},
   "outputs": [
    {
     "name": "stdout",
     "output_type": "stream",
     "text": [
      "Populating the interactive namespace from numpy and matplotlib\n"
     ]
    }
   ],
   "source": [
    "%pylab inline"
   ]
  },
  {
   "cell_type": "markdown",
   "metadata": {},
   "source": [
    "##### Pandas nos permite realizar gráficos desde las columnas de nuestro dataframe"
   ]
  },
  {
   "cell_type": "code",
   "execution_count": 136,
   "metadata": {},
   "outputs": [
    {
     "data": {
      "text/plain": [
       "<matplotlib.axes._subplots.AxesSubplot at 0x7f358dd25908>"
      ]
     },
     "execution_count": 136,
     "metadata": {},
     "output_type": "execute_result"
    },
    {
     "data": {
      "image/png": "[encoded data removed]",
      "text/plain": [
       "<Figure size 432x288 with 1 Axes>"
      ]
     },
     "metadata": {},
     "output_type": "display_data"
    }
   ],
   "source": [
    "df['RMSD'].hist()"
   ]
  },
  {
   "cell_type": "markdown",
   "metadata": {
    "collapsed": true
   },
   "source": [
    "##### Pero siempre puede ser mejor...para eso existe seaborn"
   ]
  },
  {
   "cell_type": "code",
   "execution_count": 5,
   "metadata": {},
   "outputs": [
    {
     "name": "stderr",
     "output_type": "stream",
     "text": [
      ":0: FutureWarning: IPython widgets are experimental and may change in the future.\n"
     ]
    }
   ],
   "source": [
    "import seaborn as sns"
   ]
  },
  {
   "cell_type": "code",
   "execution_count": 21,
   "metadata": {},
   "outputs": [
    {
     "data": {
      "text/plain": [
       "<matplotlib.axes._subplots.AxesSubplot at 0x7f15aa2f4790>"
      ]
     },
     "execution_count": 21,
     "metadata": {},
     "output_type": "execute_result"
    },
    {
     "data": {
      "image/png": "[encoded data removed]",
      "text/plain": [
       "<matplotlib.figure.Figure at 0x7f15c29b69d0>"
      ]
     },
     "metadata": {},
     "output_type": "display_data"
    }
   ],
   "source": [
    "sns.boxplot(df['RMSD'])"
   ]
  },
  {
   "cell_type": "markdown",
   "metadata": {
    "collapsed": true
   },
   "source": [
    "## Estadistica"
   ]
  },
  {
   "cell_type": "code",
   "execution_count": 4,
   "metadata": {
    "collapsed": true
   },
   "outputs": [],
   "source": [
    "import scipy.stats as ss"
   ]
  },
  {
   "cell_type": "code",
   "execution_count": 8,
   "metadata": {},
   "outputs": [
    {
     "name": "stdout",
     "output_type": "stream",
     "text": [
      "('RMSD vs longitus', 1.4057935180978473e-06)\n"
     ]
    }
   ],
   "source": [
    "z_stat, p_val = ss.ranksums(df['RMSD'],df['longitud'])\n",
    "print (\"RMSD vs longitus\", p_val) "
   ]
  }
 ],
 "metadata": {
  "kernelspec": {
   "display_name": "Python 3",
   "language": "python",
   "name": "python3"
  },
  "language_info": {
   "codemirror_mode": {
    "name": "ipython",
    "version": 3
   },
   "file_extension": ".py",
   "mimetype": "text/x-python",
   "name": "python",
   "nbconvert_exporter": "python",
   "pygments_lexer": "ipython3",
   "version": "3.6.8"
  }
 },
 "nbformat": 4,
 "nbformat_minor": 1
}
